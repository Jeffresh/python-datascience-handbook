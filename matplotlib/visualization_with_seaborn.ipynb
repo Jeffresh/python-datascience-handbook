{
 "metadata": {
  "language_info": {
   "codemirror_mode": {
    "name": "ipython",
    "version": 3
   },
   "file_extension": ".py",
   "mimetype": "text/x-python",
   "name": "python",
   "nbconvert_exporter": "python",
   "pygments_lexer": "ipython3",
   "version": 3
  },
  "orig_nbformat": 2
 },
 "nbformat": 4,
 "nbformat_minor": 2,
 "cells": [
  {
   "source": [
    "# Visualization with Seaborn\n",
    "\n",
    "There are several valid complaitns about Matploblit that often come up:\n",
    "\n",
    "- Defaults are not exaclty the best choices.\n",
    "- Is relatively low level. Doing sophisticated statistical visualization is poissible, but requires a *lot* of boiler plate code.\n",
    "- Is not designed for use with `DataFrame`s. In order to visualize data from Pandas you must extract each `Series` and often concatenate them together into the right format.\n",
    "\n",
    "The answer to these problems is Seaborn. Seaborn provides an API on top of Matplotlib.\n",
    "Matplotlib is addresing this: it has recently added in `plt.style` but SEaborn remains an extremely useful addon."
   ],
   "cell_type": "markdown",
   "metadata": {}
  },
  {
   "cell_type": "code",
   "execution_count": null,
   "metadata": {},
   "outputs": [],
   "source": [
    "g"
   ]
  }
 ]
}