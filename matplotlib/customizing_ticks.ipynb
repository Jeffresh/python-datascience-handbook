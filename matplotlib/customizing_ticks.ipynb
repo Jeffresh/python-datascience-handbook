{
 "metadata": {
  "language_info": {
   "codemirror_mode": {
    "name": "ipython",
    "version": 3
   },
   "file_extension": ".py",
   "mimetype": "text/x-python",
   "name": "python",
   "nbconvert_exporter": "python",
   "pygments_lexer": "ipython3",
   "version": "3.8.8-final"
  },
  "orig_nbformat": 2,
  "kernelspec": {
   "name": "python3",
   "display_name": "Python 3.8.8 64-bit ('.env')",
   "metadata": {
    "interpreter": {
     "hash": "6b3d8fded84b82a84dd06aec3772984b6fd7683755c4932dae62599619bfeba9"
    }
   }
  }
 },
 "nbformat": 4,
 "nbformat_minor": 2,
 "cells": [
  {
   "source": [
    "# Customizing Ticks\n",
    "\n",
    "Matplotlib's default trick locators and formatters are designed to be generally sufficient in many common situations, but are in no way optimal for every plot. This section will give several examples of adjusting the tick locations and formatting for the particular plot type you're interested in.\n",
    "\n",
    "Matplotlib aims to have a Python object representing everythin that appears on the plot: for example, recall that the `figure` is the bounding box within which plot elements appears. Each `figure` can contain one or more `axes` objects, each of which in turn contain other objects representing plot contents.\n",
    "\n",
    "The tick marks are no exception. Each `axes` has attribures `xaxis` and `yaxis`, which in turn have attributes that contain all the properties of the lines, ticks, and labels that make upt the axes."
   ],
   "cell_type": "markdown",
   "metadata": {}
  },
  {
   "source": [
    "## Major and Minor Ticks\n",
    "\n",
    "Within each axis, there is the concept of a *major* tick mark, and a *minor* tick mark. As the names would imply, mahor ticks are usually bigger or more pronunced, while minor ticks are usually smaller. By default, Matplotlib rarely makes use of minor ticks, but one place you can see them is within logarithmic plots:"
   ],
   "cell_type": "markdown",
   "metadata": {}
  },
  {
   "cell_type": "code",
   "execution_count": 4,
   "metadata": {},
   "outputs": [],
   "source": [
    "import matplotlib.pyplot as plt \n",
    "plt.style.use('classic')\n",
    "%matplotlib inline \n",
    "import numpy as np"
   ]
  },
  {
   "cell_type": "code",
   "execution_count": 5,
   "metadata": {},
   "outputs": [
    {
     "output_type": "display_data",
     "data": {
      "text/plain": "<Figure size 432x288 with 1 Axes>",
      "image/svg+xml": "<?xml version=\"1.0\" encoding=\"utf-8\" standalone=\"no\"?>\r\n<!DOCTYPE svg PUBLIC \"-//W3C//DTD SVG 1.1//EN\"\r\n  \"http://www.w3.org/Graphics/SVG/1.1/DTD/svg11.dtd\">\r\n<!-- Created with matplotlib (https://matplotlib.org/) -->\r\n<svg height=\"256.117188pt\" version=\"1.1\" viewBox=\"0 0 379.6 256.117188\" width=\"379.6pt\" xmlns=\"http://www.w3.org/2000/svg\" xmlns:xlink=\"http://www.w3.org/1999/xlink\">\r\n <metadata>\r\n  <rdf:RDF xmlns:cc=\"http://creativecommons.org/ns#\" xmlns:dc=\"http://purl.org/dc/elements/1.1/\" xmlns:rdf=\"http://www.w3.org/1999/02/22-rdf-syntax-ns#\">\r\n   <cc:Work>\r\n    <dc:type rdf:resource=\"http://purl.org/dc/dcmitype/StillImage\"/>\r\n    <dc:date>2021-03-12T16:06:14.009840</dc:date>\r\n    <dc:format>image/svg+xml</dc:format>\r\n    <dc:creator>\r\n     <cc:Agent>\r\n      <dc:title>Matplotlib v3.3.4, https://matplotlib.org/</dc:title>\r\n     </cc:Agent>\r\n    </dc:creator>\r\n   </cc:Work>\r\n  </rdf:RDF>\r\n </metadata>\r\n <defs>\r\n  <style type=\"text/css\">*{stroke-linecap:butt;stroke-linejoin:round;}</style>\r\n </defs>\r\n <g id=\"figure_1\">\r\n  <g id=\"patch_1\">\r\n   <path d=\"M 0 256.117188 \r\nL 379.6 256.117188 \r\nL 379.6 0 \r\nL 0 0 \r\nz\r\n\" style=\"fill:none;\"/>\r\n  </g>\r\n  <g id=\"axes_1\">\r\n   <g id=\"patch_2\">\r\n    <path d=\"M 28.8 235.239062 \r\nL 363.6 235.239062 \r\nL 363.6 12.039062 \r\nL 28.8 12.039062 \r\nz\r\n\" style=\"fill:#ffffff;\"/>\r\n   </g>\r\n   <g id=\"patch_3\">\r\n    <path d=\"M 28.8 235.239062 \r\nL 28.8 12.039062 \r\n\" style=\"fill:none;stroke:#000000;stroke-linecap:square;stroke-linejoin:miter;\"/>\r\n   </g>\r\n   <g id=\"patch_4\">\r\n    <path d=\"M 363.6 235.239062 \r\nL 363.6 12.039062 \r\n\" style=\"fill:none;stroke:#000000;stroke-linecap:square;stroke-linejoin:miter;\"/>\r\n   </g>\r\n   <g id=\"patch_5\">\r\n    <path d=\"M 28.8 235.239062 \r\nL 363.6 235.239062 \r\n\" style=\"fill:none;stroke:#000000;stroke-linecap:square;stroke-linejoin:miter;\"/>\r\n   </g>\r\n   <g id=\"patch_6\">\r\n    <path d=\"M 28.8 12.039062 \r\nL 363.6 12.039062 \r\n\" style=\"fill:none;stroke:#000000;stroke-linecap:square;stroke-linejoin:miter;\"/>\r\n   </g>\r\n   <g id=\"matplotlib.axis_1\">\r\n    <g id=\"xtick_1\">\r\n     <g id=\"line2d_1\">\r\n      <path clip-path=\"url(#p39b5db2f2d)\" d=\"M 28.8 235.239062 \r\nL 28.8 12.039062 \r\n\" style=\"fill:none;stroke:#000000;stroke-dasharray:1,3;stroke-dashoffset:0;stroke-width:0.5;\"/>\r\n     </g>\r\n     <g id=\"line2d_2\">\r\n      <defs>\r\n       <path d=\"M 0 0 \r\nL 0 -4 \r\n\" id=\"maadef89d69\" style=\"stroke:#000000;stroke-width:0.5;\"/>\r\n      </defs>\r\n      <g>\r\n       <use style=\"stroke:#000000;stroke-width:0.5;\" x=\"28.8\" xlink:href=\"#maadef89d69\" y=\"235.239062\"/>\r\n      </g>\r\n     </g>\r\n     <g id=\"line2d_3\">\r\n      <defs>\r\n       <path d=\"M 0 0 \r\nL 0 4 \r\n\" id=\"m0b1a67273c\" style=\"stroke:#000000;stroke-width:0.5;\"/>\r\n      </defs>\r\n      <g>\r\n       <use style=\"stroke:#000000;stroke-width:0.5;\" x=\"28.8\" xlink:href=\"#m0b1a67273c\" y=\"12.039062\"/>\r\n      </g>\r\n     </g>\r\n     <g id=\"text_1\">\r\n      <!-- $\\mathdefault{10^{0}}$ -->\r\n      <g transform=\"translate(20 246.8375)scale(0.1 -0.1)\">\r\n       <defs>\r\n        <path d=\"M 12.40625 8.296875 \r\nL 28.515625 8.296875 \r\nL 28.515625 63.921875 \r\nL 10.984375 60.40625 \r\nL 10.984375 69.390625 \r\nL 28.421875 72.90625 \r\nL 38.28125 72.90625 \r\nL 38.28125 8.296875 \r\nL 54.390625 8.296875 \r\nL 54.390625 0 \r\nL 12.40625 0 \r\nz\r\n\" id=\"DejaVuSans-49\"/>\r\n        <path d=\"M 31.78125 66.40625 \r\nQ 24.171875 66.40625 20.328125 58.90625 \r\nQ 16.5 51.421875 16.5 36.375 \r\nQ 16.5 21.390625 20.328125 13.890625 \r\nQ 24.171875 6.390625 31.78125 6.390625 \r\nQ 39.453125 6.390625 43.28125 13.890625 \r\nQ 47.125 21.390625 47.125 36.375 \r\nQ 47.125 51.421875 43.28125 58.90625 \r\nQ 39.453125 66.40625 31.78125 66.40625 \r\nz\r\nM 31.78125 74.21875 \r\nQ 44.046875 74.21875 50.515625 64.515625 \r\nQ 56.984375 54.828125 56.984375 36.375 \r\nQ 56.984375 17.96875 50.515625 8.265625 \r\nQ 44.046875 -1.421875 31.78125 -1.421875 \r\nQ 19.53125 -1.421875 13.0625 8.265625 \r\nQ 6.59375 17.96875 6.59375 36.375 \r\nQ 6.59375 54.828125 13.0625 64.515625 \r\nQ 19.53125 74.21875 31.78125 74.21875 \r\nz\r\n\" id=\"DejaVuSans-48\"/>\r\n       </defs>\r\n       <use transform=\"translate(0 0.765625)\" xlink:href=\"#DejaVuSans-49\"/>\r\n       <use transform=\"translate(63.623047 0.765625)\" xlink:href=\"#DejaVuSans-48\"/>\r\n       <use transform=\"translate(128.203125 39.046875)scale(0.7)\" xlink:href=\"#DejaVuSans-48\"/>\r\n      </g>\r\n     </g>\r\n    </g>\r\n    <g id=\"xtick_2\">\r\n     <g id=\"line2d_4\">\r\n      <path clip-path=\"url(#p39b5db2f2d)\" d=\"M 363.6 235.239062 \r\nL 363.6 12.039062 \r\n\" style=\"fill:none;stroke:#000000;stroke-dasharray:1,3;stroke-dashoffset:0;stroke-width:0.5;\"/>\r\n     </g>\r\n     <g id=\"line2d_5\">\r\n      <g>\r\n       <use style=\"stroke:#000000;stroke-width:0.5;\" x=\"363.6\" xlink:href=\"#maadef89d69\" y=\"235.239062\"/>\r\n      </g>\r\n     </g>\r\n     <g id=\"line2d_6\">\r\n      <g>\r\n       <use style=\"stroke:#000000;stroke-width:0.5;\" x=\"363.6\" xlink:href=\"#m0b1a67273c\" y=\"12.039062\"/>\r\n      </g>\r\n     </g>\r\n     <g id=\"text_2\">\r\n      <!-- $\\mathdefault{10^{1}}$ -->\r\n      <g transform=\"translate(354.8 246.8375)scale(0.1 -0.1)\">\r\n       <use transform=\"translate(0 0.684375)\" xlink:href=\"#DejaVuSans-49\"/>\r\n       <use transform=\"translate(63.623047 0.684375)\" xlink:href=\"#DejaVuSans-48\"/>\r\n       <use transform=\"translate(128.203125 38.965625)scale(0.7)\" xlink:href=\"#DejaVuSans-49\"/>\r\n      </g>\r\n     </g>\r\n    </g>\r\n    <g id=\"xtick_3\">\r\n     <g id=\"line2d_7\">\r\n      <defs>\r\n       <path d=\"M 0 0 \r\nL 0 -2 \r\n\" id=\"m789bdc68c7\" style=\"stroke:#000000;stroke-width:0.5;\"/>\r\n      </defs>\r\n      <g>\r\n       <use style=\"stroke:#000000;stroke-width:0.5;\" x=\"129.584843\" xlink:href=\"#m789bdc68c7\" y=\"235.239062\"/>\r\n      </g>\r\n     </g>\r\n     <g id=\"line2d_8\">\r\n      <defs>\r\n       <path d=\"M 0 0 \r\nL 0 2 \r\n\" id=\"mf1a3a6cf3a\" style=\"stroke:#000000;stroke-width:0.5;\"/>\r\n      </defs>\r\n      <g>\r\n       <use style=\"stroke:#000000;stroke-width:0.5;\" x=\"129.584843\" xlink:href=\"#mf1a3a6cf3a\" y=\"12.039062\"/>\r\n      </g>\r\n     </g>\r\n    </g>\r\n    <g id=\"xtick_4\">\r\n     <g id=\"line2d_9\">\r\n      <g>\r\n       <use style=\"stroke:#000000;stroke-width:0.5;\" x=\"188.540196\" xlink:href=\"#m789bdc68c7\" y=\"235.239062\"/>\r\n      </g>\r\n     </g>\r\n     <g id=\"line2d_10\">\r\n      <g>\r\n       <use style=\"stroke:#000000;stroke-width:0.5;\" x=\"188.540196\" xlink:href=\"#mf1a3a6cf3a\" y=\"12.039062\"/>\r\n      </g>\r\n     </g>\r\n    </g>\r\n    <g id=\"xtick_5\">\r\n     <g id=\"line2d_11\">\r\n      <g>\r\n       <use style=\"stroke:#000000;stroke-width:0.5;\" x=\"230.369685\" xlink:href=\"#m789bdc68c7\" y=\"235.239062\"/>\r\n      </g>\r\n     </g>\r\n     <g id=\"line2d_12\">\r\n      <g>\r\n       <use style=\"stroke:#000000;stroke-width:0.5;\" x=\"230.369685\" xlink:href=\"#mf1a3a6cf3a\" y=\"12.039062\"/>\r\n      </g>\r\n     </g>\r\n    </g>\r\n    <g id=\"xtick_6\">\r\n     <g id=\"line2d_13\">\r\n      <g>\r\n       <use style=\"stroke:#000000;stroke-width:0.5;\" x=\"262.815157\" xlink:href=\"#m789bdc68c7\" y=\"235.239062\"/>\r\n      </g>\r\n     </g>\r\n     <g id=\"line2d_14\">\r\n      <g>\r\n       <use style=\"stroke:#000000;stroke-width:0.5;\" x=\"262.815157\" xlink:href=\"#mf1a3a6cf3a\" y=\"12.039062\"/>\r\n      </g>\r\n     </g>\r\n    </g>\r\n    <g id=\"xtick_7\">\r\n     <g id=\"line2d_15\">\r\n      <g>\r\n       <use style=\"stroke:#000000;stroke-width:0.5;\" x=\"289.325039\" xlink:href=\"#m789bdc68c7\" y=\"235.239062\"/>\r\n      </g>\r\n     </g>\r\n     <g id=\"line2d_16\">\r\n      <g>\r\n       <use style=\"stroke:#000000;stroke-width:0.5;\" x=\"289.325039\" xlink:href=\"#mf1a3a6cf3a\" y=\"12.039062\"/>\r\n      </g>\r\n     </g>\r\n    </g>\r\n    <g id=\"xtick_8\">\r\n     <g id=\"line2d_17\">\r\n      <g>\r\n       <use style=\"stroke:#000000;stroke-width:0.5;\" x=\"311.738824\" xlink:href=\"#m789bdc68c7\" y=\"235.239062\"/>\r\n      </g>\r\n     </g>\r\n     <g id=\"line2d_18\">\r\n      <g>\r\n       <use style=\"stroke:#000000;stroke-width:0.5;\" x=\"311.738824\" xlink:href=\"#mf1a3a6cf3a\" y=\"12.039062\"/>\r\n      </g>\r\n     </g>\r\n    </g>\r\n    <g id=\"xtick_9\">\r\n     <g id=\"line2d_19\">\r\n      <g>\r\n       <use style=\"stroke:#000000;stroke-width:0.5;\" x=\"331.154528\" xlink:href=\"#m789bdc68c7\" y=\"235.239062\"/>\r\n      </g>\r\n     </g>\r\n     <g id=\"line2d_20\">\r\n      <g>\r\n       <use style=\"stroke:#000000;stroke-width:0.5;\" x=\"331.154528\" xlink:href=\"#mf1a3a6cf3a\" y=\"12.039062\"/>\r\n      </g>\r\n     </g>\r\n    </g>\r\n    <g id=\"xtick_10\">\r\n     <g id=\"line2d_21\">\r\n      <g>\r\n       <use style=\"stroke:#000000;stroke-width:0.5;\" x=\"348.280392\" xlink:href=\"#m789bdc68c7\" y=\"235.239062\"/>\r\n      </g>\r\n     </g>\r\n     <g id=\"line2d_22\">\r\n      <g>\r\n       <use style=\"stroke:#000000;stroke-width:0.5;\" x=\"348.280392\" xlink:href=\"#mf1a3a6cf3a\" y=\"12.039062\"/>\r\n      </g>\r\n     </g>\r\n    </g>\r\n   </g>\r\n   <g id=\"matplotlib.axis_2\">\r\n    <g id=\"ytick_1\">\r\n     <g id=\"line2d_23\">\r\n      <path clip-path=\"url(#p39b5db2f2d)\" d=\"M 28.8 235.239062 \r\nL 363.6 235.239062 \r\n\" style=\"fill:none;stroke:#000000;stroke-dasharray:1,3;stroke-dashoffset:0;stroke-width:0.5;\"/>\r\n     </g>\r\n     <g id=\"line2d_24\">\r\n      <defs>\r\n       <path d=\"M 0 0 \r\nL 4 0 \r\n\" id=\"m3cc6ebdff6\" style=\"stroke:#000000;stroke-width:0.5;\"/>\r\n      </defs>\r\n      <g>\r\n       <use style=\"stroke:#000000;stroke-width:0.5;\" x=\"28.8\" xlink:href=\"#m3cc6ebdff6\" y=\"235.239062\"/>\r\n      </g>\r\n     </g>\r\n     <g id=\"line2d_25\">\r\n      <defs>\r\n       <path d=\"M 0 0 \r\nL -4 0 \r\n\" id=\"m039e4a6a49\" style=\"stroke:#000000;stroke-width:0.5;\"/>\r\n      </defs>\r\n      <g>\r\n       <use style=\"stroke:#000000;stroke-width:0.5;\" x=\"363.6\" xlink:href=\"#m039e4a6a49\" y=\"235.239062\"/>\r\n      </g>\r\n     </g>\r\n     <g id=\"text_3\">\r\n      <!-- $\\mathdefault{10^{0}}$ -->\r\n      <g transform=\"translate(7.2 237.998437)scale(0.1 -0.1)\">\r\n       <use transform=\"translate(0 0.765625)\" xlink:href=\"#DejaVuSans-49\"/>\r\n       <use transform=\"translate(63.623047 0.765625)\" xlink:href=\"#DejaVuSans-48\"/>\r\n       <use transform=\"translate(128.203125 39.046875)scale(0.7)\" xlink:href=\"#DejaVuSans-48\"/>\r\n      </g>\r\n     </g>\r\n    </g>\r\n    <g id=\"ytick_2\">\r\n     <g id=\"line2d_26\">\r\n      <path clip-path=\"url(#p39b5db2f2d)\" d=\"M 28.8 12.039062 \r\nL 363.6 12.039062 \r\n\" style=\"fill:none;stroke:#000000;stroke-dasharray:1,3;stroke-dashoffset:0;stroke-width:0.5;\"/>\r\n     </g>\r\n     <g id=\"line2d_27\">\r\n      <g>\r\n       <use style=\"stroke:#000000;stroke-width:0.5;\" x=\"28.8\" xlink:href=\"#m3cc6ebdff6\" y=\"12.039062\"/>\r\n      </g>\r\n     </g>\r\n     <g id=\"line2d_28\">\r\n      <g>\r\n       <use style=\"stroke:#000000;stroke-width:0.5;\" x=\"363.6\" xlink:href=\"#m039e4a6a49\" y=\"12.039062\"/>\r\n      </g>\r\n     </g>\r\n     <g id=\"text_4\">\r\n      <!-- $\\mathdefault{10^{1}}$ -->\r\n      <g transform=\"translate(7.2 14.798438)scale(0.1 -0.1)\">\r\n       <use transform=\"translate(0 0.684375)\" xlink:href=\"#DejaVuSans-49\"/>\r\n       <use transform=\"translate(63.623047 0.684375)\" xlink:href=\"#DejaVuSans-48\"/>\r\n       <use transform=\"translate(128.203125 38.965625)scale(0.7)\" xlink:href=\"#DejaVuSans-49\"/>\r\n      </g>\r\n     </g>\r\n    </g>\r\n    <g id=\"ytick_3\">\r\n     <g id=\"line2d_29\">\r\n      <defs>\r\n       <path d=\"M 0 0 \r\nL 2 0 \r\n\" id=\"m5f895a1f06\" style=\"stroke:#000000;stroke-width:0.5;\"/>\r\n      </defs>\r\n      <g>\r\n       <use style=\"stroke:#000000;stroke-width:0.5;\" x=\"28.8\" xlink:href=\"#m5f895a1f06\" y=\"168.049167\"/>\r\n      </g>\r\n     </g>\r\n     <g id=\"line2d_30\">\r\n      <defs>\r\n       <path d=\"M 0 0 \r\nL -2 0 \r\n\" id=\"m3acccc25f8\" style=\"stroke:#000000;stroke-width:0.5;\"/>\r\n      </defs>\r\n      <g>\r\n       <use style=\"stroke:#000000;stroke-width:0.5;\" x=\"363.6\" xlink:href=\"#m3acccc25f8\" y=\"168.049167\"/>\r\n      </g>\r\n     </g>\r\n    </g>\r\n    <g id=\"ytick_4\">\r\n     <g id=\"line2d_31\">\r\n      <g>\r\n       <use style=\"stroke:#000000;stroke-width:0.5;\" x=\"28.8\" xlink:href=\"#m5f895a1f06\" y=\"128.745598\"/>\r\n      </g>\r\n     </g>\r\n     <g id=\"line2d_32\">\r\n      <g>\r\n       <use style=\"stroke:#000000;stroke-width:0.5;\" x=\"363.6\" xlink:href=\"#m3acccc25f8\" y=\"128.745598\"/>\r\n      </g>\r\n     </g>\r\n    </g>\r\n    <g id=\"ytick_5\">\r\n     <g id=\"line2d_33\">\r\n      <g>\r\n       <use style=\"stroke:#000000;stroke-width:0.5;\" x=\"28.8\" xlink:href=\"#m5f895a1f06\" y=\"100.859272\"/>\r\n      </g>\r\n     </g>\r\n     <g id=\"line2d_34\">\r\n      <g>\r\n       <use style=\"stroke:#000000;stroke-width:0.5;\" x=\"363.6\" xlink:href=\"#m3acccc25f8\" y=\"100.859272\"/>\r\n      </g>\r\n     </g>\r\n    </g>\r\n    <g id=\"ytick_6\">\r\n     <g id=\"line2d_35\">\r\n      <g>\r\n       <use style=\"stroke:#000000;stroke-width:0.5;\" x=\"28.8\" xlink:href=\"#m5f895a1f06\" y=\"79.228958\"/>\r\n      </g>\r\n     </g>\r\n     <g id=\"line2d_36\">\r\n      <g>\r\n       <use style=\"stroke:#000000;stroke-width:0.5;\" x=\"363.6\" xlink:href=\"#m3acccc25f8\" y=\"79.228958\"/>\r\n      </g>\r\n     </g>\r\n    </g>\r\n    <g id=\"ytick_7\">\r\n     <g id=\"line2d_37\">\r\n      <g>\r\n       <use style=\"stroke:#000000;stroke-width:0.5;\" x=\"28.8\" xlink:href=\"#m5f895a1f06\" y=\"61.555703\"/>\r\n      </g>\r\n     </g>\r\n     <g id=\"line2d_38\">\r\n      <g>\r\n       <use style=\"stroke:#000000;stroke-width:0.5;\" x=\"363.6\" xlink:href=\"#m3acccc25f8\" y=\"61.555703\"/>\r\n      </g>\r\n     </g>\r\n    </g>\r\n    <g id=\"ytick_8\">\r\n     <g id=\"line2d_39\">\r\n      <g>\r\n       <use style=\"stroke:#000000;stroke-width:0.5;\" x=\"28.8\" xlink:href=\"#m5f895a1f06\" y=\"46.61318\"/>\r\n      </g>\r\n     </g>\r\n     <g id=\"line2d_40\">\r\n      <g>\r\n       <use style=\"stroke:#000000;stroke-width:0.5;\" x=\"363.6\" xlink:href=\"#m3acccc25f8\" y=\"46.61318\"/>\r\n      </g>\r\n     </g>\r\n    </g>\r\n    <g id=\"ytick_9\">\r\n     <g id=\"line2d_41\">\r\n      <g>\r\n       <use style=\"stroke:#000000;stroke-width:0.5;\" x=\"28.8\" xlink:href=\"#m5f895a1f06\" y=\"33.669377\"/>\r\n      </g>\r\n     </g>\r\n     <g id=\"line2d_42\">\r\n      <g>\r\n       <use style=\"stroke:#000000;stroke-width:0.5;\" x=\"363.6\" xlink:href=\"#m3acccc25f8\" y=\"33.669377\"/>\r\n      </g>\r\n     </g>\r\n    </g>\r\n    <g id=\"ytick_10\">\r\n     <g id=\"line2d_43\">\r\n      <g>\r\n       <use style=\"stroke:#000000;stroke-width:0.5;\" x=\"28.8\" xlink:href=\"#m5f895a1f06\" y=\"22.252134\"/>\r\n      </g>\r\n     </g>\r\n     <g id=\"line2d_44\">\r\n      <g>\r\n       <use style=\"stroke:#000000;stroke-width:0.5;\" x=\"363.6\" xlink:href=\"#m3acccc25f8\" y=\"22.252134\"/>\r\n      </g>\r\n     </g>\r\n    </g>\r\n   </g>\r\n  </g>\r\n </g>\r\n <defs>\r\n  <clipPath id=\"p39b5db2f2d\">\r\n   <rect height=\"223.2\" width=\"334.8\" x=\"28.8\" y=\"12.039062\"/>\r\n  </clipPath>\r\n </defs>\r\n</svg>\r\n",
      "image/png": "[encoded data removed]"
     },
     "metadata": {
      "needs_background": "light"
     }
    }
   ],
   "source": [
    "ax = plt.axes(xscale='log', yscale='log')\n",
    "ax.grid();"
   ]
  },
  {
   "source": [
    "We see here that each major tick shows a large tickmark and a label, while each minor tick shows a smaller tickmark with no label.\n",
    "\n",
    "This can be customized by setting the `formatter` and `locator` objects of each axis."
   ],
   "cell_type": "markdown",
   "metadata": {}
  },
  {
   "cell_type": "code",
   "execution_count": 7,
   "metadata": {},
   "outputs": [
    {
     "output_type": "stream",
     "name": "stdout",
     "text": [
      "<matplotlib.ticker.LogLocator object at 0x0000020BF54BF6D0>\n<matplotlib.ticker.LogLocator object at 0x0000020BF54BF130>\n"
     ]
    }
   ],
   "source": [
    "print(ax.xaxis.get_major_locator())\n",
    "print(ax.xaxis.get_minor_locator())"
   ]
  },
  {
   "cell_type": "code",
   "execution_count": 8,
   "metadata": {},
   "outputs": [
    {
     "output_type": "stream",
     "name": "stdout",
     "text": [
      "<matplotlib.ticker.LogFormatterSciNotation object at 0x0000020BF54B09D0>\n<matplotlib.ticker.LogFormatterSciNotation object at 0x0000020BF54B0D00>\n"
     ]
    }
   ],
   "source": [
    "print(ax.xaxis.get_major_formatter())\n",
    "print(ax.xaxis.get_minor_formatter())"
   ]
  }
 ]
}