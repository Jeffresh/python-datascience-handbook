{
 "metadata": {
  "language_info": {
   "codemirror_mode": {
    "name": "ipython",
    "version": 3
   },
   "file_extension": ".py",
   "mimetype": "text/x-python",
   "name": "python",
   "nbconvert_exporter": "python",
   "pygments_lexer": "ipython3",
   "version": "3.8.6-final"
  },
  "orig_nbformat": 2,
  "kernelspec": {
   "name": "python3",
   "display_name": "Python 3.8.6 64-bit",
   "metadata": {
    "interpreter": {
     "hash": "a062be9dc8f0b4e802ee41733a00058b9f58e2e67b7919a84fe2c611795dfe04"
    }
   }
  }
 },
 "nbformat": 4,
 "nbformat_minor": 2,
 "cells": [
  {
   "source": [
    "# Aggregation and Grouping\n",
    "\n",
    "An essential peice of analysis of large data is efficient summarization: computing aggregations like `sum()`, `mean()`, `median()`, `min()` and `max()`, in which a single number gives insight into the nature of a potentially large dataset. In this section, we'll explore aggreagtions in Pandas, from simple operations akin to what we've seen on NumPy arrays, to more sophisticated operations based on the concept of a `groupby`.\n",
    "\n",
    "For convenience, we'll use the same `display`magic function that we've seen in previous sections:"
   ],
   "cell_type": "markdown",
   "metadata": {}
  },
  {
   "cell_type": "code",
   "execution_count": 2,
   "metadata": {},
   "outputs": [],
   "source": [
    "import numpy as np\n",
    "import pandas as pd \n",
    "\n",
    "class display(object):\n",
    "    \"\"\" Display HTML represenation of multiple objects\"\"\"\n",
    "    template = \"\"\" <div style=\"float; left; padding: 10px;\">\n",
    "    <p style='font-family:\"Courier New\", Courier, monospace'>{0}</p>{1}\n",
    "    </div>\"\"\"\n",
    "\n",
    "    def __init__(self, *args):\n",
    "        self.args = args\n",
    "    \n",
    "    def _repr_html_(self):\n",
    "        return '\\n'.join(self.template.format(a, eval(a)._repr_html()) for a in self.args)\n",
    "    \n",
    "    def __repr(self):\n",
    "        return '\\n\\n'.join(a + '\\n' + repr(eval(a)) for a in self.args)"
   ]
  },
  {
   "source": [
    "## Planets Data\n",
    "\n",
    "Here we wil luse the Planets dataset, available via the seaborn package. It gives information on planets that astronomers have discovered around other stars (known *as extrasolar planets* or *exoplanets* for short)."
   ],
   "cell_type": "markdown",
   "metadata": {}
  },
  {
   "cell_type": "code",
   "execution_count": 3,
   "metadata": {},
   "outputs": [
    {
     "output_type": "execute_result",
     "data": {
      "text/plain": [
       "(1035, 6)"
      ]
     },
     "metadata": {},
     "execution_count": 3
    }
   ],
   "source": [
    "import seaborn as sns\n",
    "planets = sns.load_dataset('planets')\n",
    "planets.shape"
   ]
  },
  {
   "cell_type": "code",
   "execution_count": 4,
   "metadata": {},
   "outputs": [
    {
     "output_type": "execute_result",
     "data": {
      "text/plain": [
       "            method  number  orbital_period   mass  distance  year\n",
       "0  Radial Velocity       1         269.300   7.10     77.40  2006\n",
       "1  Radial Velocity       1         874.774   2.21     56.95  2008\n",
       "2  Radial Velocity       1         763.000   2.60     19.84  2011\n",
       "3  Radial Velocity       1         326.030  19.40    110.62  2007\n",
       "4  Radial Velocity       1         516.220  10.50    119.47  2009"
      ],
      "text/html": "<div>\n<style scoped>\n    .dataframe tbody tr th:only-of-type {\n        vertical-align: middle;\n    }\n\n    .dataframe tbody tr th {\n        vertical-align: top;\n    }\n\n    .dataframe thead th {\n        text-align: right;\n    }\n</style>\n<table border=\"1\" class=\"dataframe\">\n  <thead>\n    <tr style=\"text-align: right;\">\n      <th></th>\n      <th>method</th>\n      <th>number</th>\n      <th>orbital_period</th>\n      <th>mass</th>\n      <th>distance</th>\n      <th>year</th>\n    </tr>\n  </thead>\n  <tbody>\n    <tr>\n      <th>0</th>\n      <td>Radial Velocity</td>\n      <td>1</td>\n      <td>269.300</td>\n      <td>7.10</td>\n      <td>77.40</td>\n      <td>2006</td>\n    </tr>\n    <tr>\n      <th>1</th>\n      <td>Radial Velocity</td>\n      <td>1</td>\n      <td>874.774</td>\n      <td>2.21</td>\n      <td>56.95</td>\n      <td>2008</td>\n    </tr>\n    <tr>\n      <th>2</th>\n      <td>Radial Velocity</td>\n      <td>1</td>\n      <td>763.000</td>\n      <td>2.60</td>\n      <td>19.84</td>\n      <td>2011</td>\n    </tr>\n    <tr>\n      <th>3</th>\n      <td>Radial Velocity</td>\n      <td>1</td>\n      <td>326.030</td>\n      <td>19.40</td>\n      <td>110.62</td>\n      <td>2007</td>\n    </tr>\n    <tr>\n      <th>4</th>\n      <td>Radial Velocity</td>\n      <td>1</td>\n      <td>516.220</td>\n      <td>10.50</td>\n      <td>119.47</td>\n      <td>2009</td>\n    </tr>\n  </tbody>\n</table>\n</div>"
     },
     "metadata": {},
     "execution_count": 4
    }
   ],
   "source": [
    "planets.head()"
   ]
  },
  {
   "source": [
    "This has some details on the $1000+$ extrasolar planets discovered up to 2014."
   ],
   "cell_type": "markdown",
   "metadata": {}
  },
  {
   "source": [
    "## Simple Aggregation in Pandas\n",
    "\n",
    "Earlier, we explored some of the data aggregations available for NumPy arrays. As with a one-dimensional NumPy array, for a Pandas `Series` the aggregates return a single value:"
   ],
   "cell_type": "markdown",
   "metadata": {}
  },
  {
   "cell_type": "code",
   "execution_count": 5,
   "metadata": {},
   "outputs": [
    {
     "output_type": "execute_result",
     "data": {
      "text/plain": [
       "0    0.374540\n",
       "1    0.950714\n",
       "2    0.731994\n",
       "3    0.598658\n",
       "4    0.156019\n",
       "dtype: float64"
      ]
     },
     "metadata": {},
     "execution_count": 5
    }
   ],
   "source": [
    "rng = np.random.RandomState(42)\n",
    "ser = pd.Series(rng.rand(5))\n",
    "ser"
   ]
  },
  {
   "cell_type": "code",
   "execution_count": 6,
   "metadata": {},
   "outputs": [
    {
     "output_type": "execute_result",
     "data": {
      "text/plain": [
       "2.811925491708157"
      ]
     },
     "metadata": {},
     "execution_count": 6
    }
   ],
   "source": [
    "ser.sum()"
   ]
  },
  {
   "cell_type": "code",
   "execution_count": null,
   "metadata": {},
   "outputs": [],
   "source": [
    "ser.mean()"
   ]
  },
  {
   "source": [
    "For a `DataFrame,` by default the aggregates return results within each column:"
   ],
   "cell_type": "markdown",
   "metadata": {}
  },
  {
   "cell_type": "code",
   "execution_count": 8,
   "metadata": {},
   "outputs": [
    {
     "output_type": "execute_result",
     "data": {
      "text/plain": [
       "          A         B\n",
       "0  0.183405  0.611853\n",
       "1  0.304242  0.139494\n",
       "2  0.524756  0.292145\n",
       "3  0.431945  0.366362\n",
       "4  0.291229  0.456070"
      ],
      "text/html": "<div>\n<style scoped>\n    .dataframe tbody tr th:only-of-type {\n        vertical-align: middle;\n    }\n\n    .dataframe tbody tr th {\n        vertical-align: top;\n    }\n\n    .dataframe thead th {\n        text-align: right;\n    }\n</style>\n<table border=\"1\" class=\"dataframe\">\n  <thead>\n    <tr style=\"text-align: right;\">\n      <th></th>\n      <th>A</th>\n      <th>B</th>\n    </tr>\n  </thead>\n  <tbody>\n    <tr>\n      <th>0</th>\n      <td>0.183405</td>\n      <td>0.611853</td>\n    </tr>\n    <tr>\n      <th>1</th>\n      <td>0.304242</td>\n      <td>0.139494</td>\n    </tr>\n    <tr>\n      <th>2</th>\n      <td>0.524756</td>\n      <td>0.292145</td>\n    </tr>\n    <tr>\n      <th>3</th>\n      <td>0.431945</td>\n      <td>0.366362</td>\n    </tr>\n    <tr>\n      <th>4</th>\n      <td>0.291229</td>\n      <td>0.456070</td>\n    </tr>\n  </tbody>\n</table>\n</div>"
     },
     "metadata": {},
     "execution_count": 8
    }
   ],
   "source": [
    "df = pd.DataFrame({'A': rng.rand(5),\n",
    "                   'B': rng.rand(5)})\n",
    "df                   "
   ]
  },
  {
   "cell_type": "code",
   "execution_count": 9,
   "metadata": {},
   "outputs": [
    {
     "output_type": "execute_result",
     "data": {
      "text/plain": [
       "A    0.347115\n",
       "B    0.373185\n",
       "dtype: float64"
      ]
     },
     "metadata": {},
     "execution_count": 9
    }
   ],
   "source": [
    "df.mean()"
   ]
  },
  {
   "cell_type": "code",
   "execution_count": 10,
   "metadata": {},
   "outputs": [
    {
     "output_type": "execute_result",
     "data": {
      "text/plain": [
       "0    0.397629\n",
       "1    0.221868\n",
       "2    0.408451\n",
       "3    0.399153\n",
       "4    0.373650\n",
       "dtype: float64"
      ]
     },
     "metadata": {},
     "execution_count": 10
    }
   ],
   "source": [
    "df.mean(axis=1)"
   ]
  },
  {
   "source": [
    "Pandas `Series` and `DataFrame`s include all of the common aggregates mentioned earlier; in addition, there is a convenience method `describe()` that computes several common aggregates for each column and returns the result. Let's use this on the Planets data, for now dropping rows with missing values:"
   ],
   "cell_type": "markdown",
   "metadata": {}
  },
  {
   "cell_type": "code",
   "execution_count": 11,
   "metadata": {},
   "outputs": [
    {
     "output_type": "execute_result",
     "data": {
      "text/plain": [
       "          number  orbital_period        mass    distance         year\n",
       "count  498.00000      498.000000  498.000000  498.000000   498.000000\n",
       "mean     1.73494      835.778671    2.509320   52.068213  2007.377510\n",
       "std      1.17572     1469.128259    3.636274   46.596041     4.167284\n",
       "min      1.00000        1.328300    0.003600    1.350000  1989.000000\n",
       "25%      1.00000       38.272250    0.212500   24.497500  2005.000000\n",
       "50%      1.00000      357.000000    1.245000   39.940000  2009.000000\n",
       "75%      2.00000      999.600000    2.867500   59.332500  2011.000000\n",
       "max      6.00000    17337.500000   25.000000  354.000000  2014.000000"
      ],
      "text/html": "<div>\n<style scoped>\n    .dataframe tbody tr th:only-of-type {\n        vertical-align: middle;\n    }\n\n    .dataframe tbody tr th {\n        vertical-align: top;\n    }\n\n    .dataframe thead th {\n        text-align: right;\n    }\n</style>\n<table border=\"1\" class=\"dataframe\">\n  <thead>\n    <tr style=\"text-align: right;\">\n      <th></th>\n      <th>number</th>\n      <th>orbital_period</th>\n      <th>mass</th>\n      <th>distance</th>\n      <th>year</th>\n    </tr>\n  </thead>\n  <tbody>\n    <tr>\n      <th>count</th>\n      <td>498.00000</td>\n      <td>498.000000</td>\n      <td>498.000000</td>\n      <td>498.000000</td>\n      <td>498.000000</td>\n    </tr>\n    <tr>\n      <th>mean</th>\n      <td>1.73494</td>\n      <td>835.778671</td>\n      <td>2.509320</td>\n      <td>52.068213</td>\n      <td>2007.377510</td>\n    </tr>\n    <tr>\n      <th>std</th>\n      <td>1.17572</td>\n      <td>1469.128259</td>\n      <td>3.636274</td>\n      <td>46.596041</td>\n      <td>4.167284</td>\n    </tr>\n    <tr>\n      <th>min</th>\n      <td>1.00000</td>\n      <td>1.328300</td>\n      <td>0.003600</td>\n      <td>1.350000</td>\n      <td>1989.000000</td>\n    </tr>\n    <tr>\n      <th>25%</th>\n      <td>1.00000</td>\n      <td>38.272250</td>\n      <td>0.212500</td>\n      <td>24.497500</td>\n      <td>2005.000000</td>\n    </tr>\n    <tr>\n      <th>50%</th>\n      <td>1.00000</td>\n      <td>357.000000</td>\n      <td>1.245000</td>\n      <td>39.940000</td>\n      <td>2009.000000</td>\n    </tr>\n    <tr>\n      <th>75%</th>\n      <td>2.00000</td>\n      <td>999.600000</td>\n      <td>2.867500</td>\n      <td>59.332500</td>\n      <td>2011.000000</td>\n    </tr>\n    <tr>\n      <th>max</th>\n      <td>6.00000</td>\n      <td>17337.500000</td>\n      <td>25.000000</td>\n      <td>354.000000</td>\n      <td>2014.000000</td>\n    </tr>\n  </tbody>\n</table>\n</div>"
     },
     "metadata": {},
     "execution_count": 11
    }
   ],
   "source": [
    "planets.dropna().describe()"
   ]
  },
  {
   "source": [
    "This can be a useful way to begin understanding the overall properties of a dataset. For example, we see in the `year` column that although exoplanets were discovered as far back as 1989, half fo all known exoplanets were not discovered until 2010 or after. This is largely thanks to the *Kepler* mission, which is a space-based telescope specifically designed for finding eclipsing planets around other stars.\n",
    "\n",
    "The following table summarizes other built-in Pandas aggregations:\n",
    "\n",
    "```\n",
    "Aggregation \tDescription\n",
    "count() \tTotal number of items\n",
    "first(), last() \tFirst and last item\n",
    "mean(), median() \tMean and median\n",
    "min(), max() \tMinimum and maximum\n",
    "std(), var() \tStandard deviation and variance\n",
    "mad() \tMean absolute deviation\n",
    "prod() \tProduct of all items\n",
    "sum() \tSum of all items\n",
    "\n",
    "```\n",
    "\n",
    "These are all methods of `DataFrame` and `Series` objects.\n",
    "\n",
    "To go deeper into the data, however, simple aggregates are often not enough. The next level of data summarization is the `groupby` operation, which allows you to quickly and efficiently compute aggregates on subsets of data."
   ],
   "cell_type": "markdown",
   "metadata": {}
  },
  {
   "source": [
    "## GroupBy: Split, Apply, Combine\n",
    "\n",
    "Simple aggregations can give you a flavor of your dataset, but often we would prefer to aggregate conditionally on some label or index: this is implemented in the so-called `groupby` operation. The name \"groub by\" comes from a command in the SQL database language, but it is perhaps more illuminative to think of it in the terms first coniend by Hadley Wickham of Rstats fame: `split, apply, combine`."
   ],
   "cell_type": "markdown",
   "metadata": {}
  },
  {
   "source": [
    "### Split, apply, combine\n",
    "\n",
    "This makes clear what `groupby` accomplished:\n",
    "\n",
    "- The *split* step involves breaking up and grouping a `DataFrame` depending on the value of the specified key.\n",
    "- The *apply* step involves computing some function, usually an aggregate, transformation, or filtering, whithin the individual groups.\n",
    "- The *combine* step merges the results of these operations into an output array.\n",
    "\n",
    "While this could certainly be done manually using some combination of the masking, aggregation, and mergin commands covered earlier, an important realization is that the *intermediate splits do not need to be explicitly intantiated*. Rather, the `GroupBy` can (often) do this in a single pass over the data, updating the sum, mean, count, min, or other aggregate for each group along the way. The power of the `GroupBy` is that is abstracts away these steps: the user need not think about *how* the computation is done under the hood, but rahter thinks about the *operation as a whole*.\n",
    "\n",
    "As a concrete example, let's take a look at using Pandas for the computation shown in this diagram. We'll star tby creating the input `DataFrame`:"
   ],
   "cell_type": "markdown",
   "metadata": {}
  },
  {
   "cell_type": "code",
   "execution_count": 20,
   "metadata": {},
   "outputs": [
    {
     "output_type": "execute_result",
     "data": {
      "text/plain": [
       "  key  data\n",
       "0   A     0\n",
       "1   B     1\n",
       "2   C     2\n",
       "3   A     3\n",
       "4   B     4\n",
       "5   C     5"
      ],
      "text/html": "<div>\n<style scoped>\n    .dataframe tbody tr th:only-of-type {\n        vertical-align: middle;\n    }\n\n    .dataframe tbody tr th {\n        vertical-align: top;\n    }\n\n    .dataframe thead th {\n        text-align: right;\n    }\n</style>\n<table border=\"1\" class=\"dataframe\">\n  <thead>\n    <tr style=\"text-align: right;\">\n      <th></th>\n      <th>key</th>\n      <th>data</th>\n    </tr>\n  </thead>\n  <tbody>\n    <tr>\n      <th>0</th>\n      <td>A</td>\n      <td>0</td>\n    </tr>\n    <tr>\n      <th>1</th>\n      <td>B</td>\n      <td>1</td>\n    </tr>\n    <tr>\n      <th>2</th>\n      <td>C</td>\n      <td>2</td>\n    </tr>\n    <tr>\n      <th>3</th>\n      <td>A</td>\n      <td>3</td>\n    </tr>\n    <tr>\n      <th>4</th>\n      <td>B</td>\n      <td>4</td>\n    </tr>\n    <tr>\n      <th>5</th>\n      <td>C</td>\n      <td>5</td>\n    </tr>\n  </tbody>\n</table>\n</div>"
     },
     "metadata": {},
     "execution_count": 20
    }
   ],
   "source": [
    "df = pd.DataFrame({'key': list('ABCABC'),\n",
    "                   'data': range(6)}, columns=['key', 'data'])\n",
    "df"
   ]
  },
  {
   "source": [
    "The most basic split-apply-combine operation can be computed with the `groupby()` method of `DataFrame`s, passing the name of the desired key column:"
   ],
   "cell_type": "markdown",
   "metadata": {}
  },
  {
   "cell_type": "code",
   "execution_count": 30,
   "metadata": {},
   "outputs": [
    {
     "output_type": "execute_result",
     "data": {
      "text/plain": [
       "<pandas.core.groupby.generic.DataFrameGroupBy object at 0x00000251AC84FBE0>"
      ]
     },
     "metadata": {},
     "execution_count": 30
    }
   ],
   "source": [
    "df.groupby('key')"
   ]
  },
  {
   "source": [
    "The `sum()` method is just one possibility here; you can apply virtually any common Pandas or NumPy aggregation function, as well as virtually any valid `DataFrame` operation, as we will see in the following discussion."
   ],
   "cell_type": "markdown",
   "metadata": {}
  },
  {
   "source": [
    "### The GroupBy object\n",
    "\n",
    "The `GroupBy` object is a very flexible abstraction. In many ways, you can simply treat it as if it's a collection of `DataFrame`s, and it does the difficult things under the hood. Let's see some examples using the Planets data."
   ],
   "cell_type": "markdown",
   "metadata": {}
  },
  {
   "source": [
    "### Column indexing\n",
    "\n",
    "The `GroupBy` object supports column indexing in the same way as the `DataFrame`, and returns a modified `GroupBy` object."
   ],
   "cell_type": "markdown",
   "metadata": {}
  },
  {
   "cell_type": "code",
   "execution_count": 32,
   "metadata": {},
   "outputs": [
    {
     "output_type": "execute_result",
     "data": {
      "text/plain": [
       "<pandas.core.groupby.generic.DataFrameGroupBy object at 0x00000251AC543BB0>"
      ]
     },
     "metadata": {},
     "execution_count": 32
    }
   ],
   "source": [
    "planets.groupby('method')"
   ]
  },
  {
   "cell_type": "code",
   "execution_count": 34,
   "metadata": {},
   "outputs": [
    {
     "output_type": "execute_result",
     "data": {
      "text/plain": [
       "<pandas.core.groupby.generic.SeriesGroupBy object at 0x00000251AC882370>"
      ]
     },
     "metadata": {},
     "execution_count": 34
    }
   ],
   "source": [
    "planets.groupby('method')['orbital_period']"
   ]
  },
  {
   "source": [
    "Here we've selected a particular `Series` group from the original `DataFrame` group by reference to its column name. As with the `GroupBy` object, no computation is done until we call some aggregate on the object:"
   ],
   "cell_type": "markdown",
   "metadata": {}
  },
  {
   "cell_type": "code",
   "execution_count": 35,
   "metadata": {},
   "outputs": [
    {
     "output_type": "execute_result",
     "data": {
      "text/plain": [
       "method\n",
       "Astrometry                         631.180000\n",
       "Eclipse Timing Variations         4343.500000\n",
       "Imaging                          27500.000000\n",
       "Microlensing                      3300.000000\n",
       "Orbital Brightness Modulation        0.342887\n",
       "Pulsar Timing                       66.541900\n",
       "Pulsation Timing Variations       1170.000000\n",
       "Radial Velocity                    360.200000\n",
       "Transit                              5.714932\n",
       "Transit Timing Variations           57.011000\n",
       "Name: orbital_period, dtype: float64"
      ]
     },
     "metadata": {},
     "execution_count": 35
    }
   ],
   "source": [
    "planets.groupby('method')['orbital_period'].median()"
   ]
  },
  {
   "source": [
    "That gives an idea of the general scale of orbital periods (in days) that each method is sensitive to."
   ],
   "cell_type": "markdown",
   "metadata": {}
  },
  {
   "source": [
    "#### Iteration over groups\n",
    "\n",
    "The `GroupBy` object supports direct iteration over the groups, returning each group as a `Series` or `DataFrame`:"
   ],
   "cell_type": "markdown",
   "metadata": {}
  },
  {
   "cell_type": "code",
   "execution_count": 38,
   "metadata": {},
   "outputs": [
    {
     "output_type": "stream",
     "name": "stdout",
     "text": [
      "Astrometry                     shape=(2, 6)\nEclipse Timing Variations      shape=(9, 6)\nImaging                        shape=(38, 6)\nMicrolensing                   shape=(23, 6)\nOrbital Brightness Modulation  shape=(3, 6)\nPulsar Timing                  shape=(5, 6)\nPulsation Timing Variations    shape=(1, 6)\nRadial Velocity                shape=(553, 6)\nTransit                        shape=(397, 6)\nTransit Timing Variations      shape=(4, 6)\n"
     ]
    }
   ],
   "source": [
    "for (method, group) in planets.groupby('method'):\n",
    "    print(\"{0:30s} shape={1}\".format(method, group.shape))"
   ]
  },
  {
   "source": [
    "This can be useful for doing certain things manually, though it is often much faster to sue the built-in `apply` functionality, which we will discuss momentarily."
   ],
   "cell_type": "markdown",
   "metadata": {}
  },
  {
   "source": [
    "#### Dispatch methods\n",
    "\n",
    "Thorugh some Python class magic, any method not explicitly implemented by the `GroupBy` object will be passed through and called on the groups, whether they are `DataFrame` or `Series` objects. For example, you can sue the `describe()` method of `DataFrame`s to perform a set of aggreagtions that describe each grop in the data:"
   ],
   "cell_type": "markdown",
   "metadata": {}
  },
  {
   "cell_type": "code",
   "execution_count": 43,
   "metadata": {},
   "outputs": [
    {
     "output_type": "execute_result",
     "data": {
      "text/plain": [
       "       method                       \n",
       "count  Astrometry                          2.0\n",
       "       Eclipse Timing Variations           9.0\n",
       "       Imaging                            38.0\n",
       "       Microlensing                       23.0\n",
       "       Orbital Brightness Modulation       3.0\n",
       "                                         ...  \n",
       "max    Pulsar Timing                    2011.0\n",
       "       Pulsation Timing Variations      2007.0\n",
       "       Radial Velocity                  2014.0\n",
       "       Transit                          2014.0\n",
       "       Transit Timing Variations        2014.0\n",
       "Length: 80, dtype: float64"
      ]
     },
     "metadata": {},
     "execution_count": 43
    }
   ],
   "source": [
    "planets.groupby('method')['year'].describe().unstack()"
   ]
  },
  {
   "source": [
    "Looking at this table help us to better understand the data: for example, the vast majority of planets have been discovered by the Radial Velocity and transit methods, though the latter only became common (due to new, more accurate telescopes) in the last decade. The newest methods seem to be Transit Timing Variation on and Orbital Brightness Modulation, which were not used to discover a new planet until 2011.\n",
    "\n",
    "This is just one example of the utiliy of dispatch methods. Notice that they are applied to *each individual group*, and the results are the combined within `GroupBy` and returned. Again, any valid `DataFrame / Series` method can be used on the corresponding `GroupBy` object, which allows for some very flexible and powerful operations."
   ],
   "cell_type": "markdown",
   "metadata": {}
  },
  {
   "cell_type": "code",
   "execution_count": null,
   "metadata": {},
   "outputs": [],
   "source": []
  }
 ]
}