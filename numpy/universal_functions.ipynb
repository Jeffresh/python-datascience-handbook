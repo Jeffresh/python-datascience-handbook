{
 "metadata": {
  "language_info": {
   "codemirror_mode": {
    "name": "ipython",
    "version": 3
   },
   "file_extension": ".py",
   "mimetype": "text/x-python",
   "name": "python",
   "nbconvert_exporter": "python",
   "pygments_lexer": "ipython3",
   "version": "3.8.6-final"
  },
  "orig_nbformat": 2,
  "kernelspec": {
   "name": "python3",
   "display_name": "Python 3",
   "language": "python"
  }
 },
 "nbformat": 4,
 "nbformat_minor": 2,
 "cells": [
  {
   "source": [
    "# Computation on NumPy Arrays: Universal Functions"
   ],
   "cell_type": "markdown",
   "metadata": {}
  },
  {
   "source": [
    "The reasons that NumPy is so improtant in the Python data science, computation on NumPy arrays can be very fast, or it cant be very slow. The key to making it fast\n",
    "is to use vectorized operations, generally implemented through NumPy's universal functions(ufuncs).\n",
    "\n",
    "This section motivates the need for NumPy's ufuncs, which can be used to make repeated calculations on array elements much more efficient."
   ],
   "cell_type": "markdown",
   "metadata": {}
  },
  {
   "source": [
    "## The Slowness of Loops"
   ],
   "cell_type": "markdown",
   "metadata": {}
  },
  {
   "source": [
    "Python's default implementation (known as CPython) foes some operatiosn very slowly.\n",
    "\n"
   ],
   "cell_type": "markdown",
   "metadata": {}
  },
  {
   "cell_type": "code",
   "execution_count": 2,
   "metadata": {},
   "outputs": [
    {
     "output_type": "execute_result",
     "data": {
      "text/plain": [
       "array([0.16666667, 1.        , 0.25      , 0.25      , 0.125     ])"
      ]
     },
     "metadata": {},
     "execution_count": 2
    }
   ],
   "source": [
    "import numpy as np\n",
    "np.random.seed(0)\n",
    "\n",
    "def compute_reciprocals(values):\n",
    "    output = np.empty(len(values))\n",
    "    for i in range(len(values)):\n",
    "        output[i] = 1.0 / values[i]\n",
    "    return output\n",
    "\n",
    "values = np.random.randint(1, 10, size=5)\n",
    "compute_reciprocals(values)"
   ]
  },
  {
   "cell_type": "code",
   "execution_count": 7,
   "metadata": {},
   "outputs": [
    {
     "output_type": "stream",
     "name": "stdout",
     "text": [
      "2.12 s ± 107 ms per loop (mean ± std. dev. of 7 runs, 1 loop each)\n"
     ]
    }
   ],
   "source": [
    "big_array = np.random.randint(1, 100, size=1_000_000)\n",
    "%timeit compute_reciprocals(big_array)"
   ]
  },
  {
   "source": [
    "Even cells phones have processing speeds measured in Giga-FLOPS, this seem almost absurdly slow. The bottleneck here is no the operation\n",
    "but the typecheking and function dispatches taht CPython must do at each cycle of the loop.\n",
    "\n",
    "Python first examines the object's type and does dynamic lookup of the correct function to use for that type. If we were working in \n",
    "compiled code instead, this type specification would be known before the code executes and the result could be computed much more efficiently."
   ],
   "cell_type": "markdown",
   "metadata": {}
  },
  {
   "source": [
    "## Introducing UFuncs\n",
    "\n",
    "For many types of operations, NumPy provides a convenient interface into just his kind of statically typed, compiled routine. This is known as a vectorized operation. This vectorized approach is designed to push the loop into the compiled layer that underlies NumPy, leading to much faster execution."
   ],
   "cell_type": "markdown",
   "metadata": {}
  },
  {
   "source": [
    "print(compute_reciprocals((values)))\n",
    "print(1.0 / values)"
   ],
   "cell_type": "code",
   "metadata": {},
   "execution_count": null,
   "outputs": []
  },
  {
   "source": [
    "%timeit (1.0 / big_array)"
   ],
   "cell_type": "code",
   "metadata": {},
   "execution_count": null,
   "outputs": []
  },
  {
   "source": [
    "Vectorized operations in NumPy are implemented via ufuncs, whose main purpose is to quickly execute repeated oepratiosn on values in NumPy arrays. Ufuncs are extremely flexible - before we saw an opeartion between a scalar and an array, but we can also operate between two arrays:"
   ],
   "cell_type": "markdown",
   "metadata": {}
  },
  {
   "cell_type": "code",
   "execution_count": 11,
   "metadata": {},
   "outputs": [
    {
     "output_type": "execute_result",
     "data": {
      "text/plain": [
       "array([0.        , 0.5       , 0.66666667, 0.75      , 0.8       ])"
      ]
     },
     "metadata": {},
     "execution_count": 11
    }
   ],
   "source": [
    "np.arange(5) / np.arange(1,6)"
   ]
  },
  {
   "source": [
    "And ufunc operations are not limited to be one-dimensional arrays-they can also act on multi-dimensional arrays as well:"
   ],
   "cell_type": "markdown",
   "metadata": {}
  },
  {
   "cell_type": "code",
   "execution_count": 12,
   "metadata": {},
   "outputs": [
    {
     "output_type": "execute_result",
     "data": {
      "text/plain": [
       "array([[   1,    3,    9],\n",
       "       [  27,   81,  243],\n",
       "       [ 729, 2187, 6561]], dtype=int32)"
      ]
     },
     "metadata": {},
     "execution_count": 12
    }
   ],
   "source": [
    "x = np.arange(9).reshape(3,3)\n",
    "3 ** x"
   ]
  },
  {
   "source": [
    "computations using vectorization through ufuncs are nearly always more efficient\n",
    "than their conterpart implemented using Python loops.\n",
    "\n",
    "Any time you see such a loop in a Python script, you should consider whether it can be\n",
    "replaced with a vectorized expression"
   ],
   "cell_type": "markdown",
   "metadata": {}
  },
  {
   "cell_type": "code",
   "execution_count": null,
   "metadata": {},
   "outputs": [],
   "source": []
  }
 ]
}