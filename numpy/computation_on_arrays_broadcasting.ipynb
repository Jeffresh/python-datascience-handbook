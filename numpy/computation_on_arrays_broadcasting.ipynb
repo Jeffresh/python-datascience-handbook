{
 "metadata": {
  "language_info": {
   "codemirror_mode": {
    "name": "ipython",
    "version": 3
   },
   "file_extension": ".py",
   "mimetype": "text/x-python",
   "name": "python",
   "nbconvert_exporter": "python",
   "pygments_lexer": "ipython3",
   "version": "3.8.6-final"
  },
  "orig_nbformat": 2,
  "kernelspec": {
   "name": "python3",
   "display_name": "Python 3",
   "language": "python"
  }
 },
 "nbformat": 4,
 "nbformat_minor": 2,
 "cells": [
  {
   "source": [
    "# Computation on Arrays: Broadcasting\n",
    "\n",
    "Another means of vectorizing operations is to use NumPy's *broadcasting* functionality. Broadcasting is simply a set of rules\n",
    "for applying binary ufuncs(e.g, addition, subtraction, multiplication, etc.) on arrays of different sizes."
   ],
   "cell_type": "markdown",
   "metadata": {}
  },
  {
   "source": [
    "## Introducing Broadcasting\n",
    "\n",
    "Recall that for arrays of the same size, binary operations are performed on an element-by-element basis:"
   ],
   "cell_type": "markdown",
   "metadata": {}
  },
  {
   "cell_type": "code",
   "execution_count": 1,
   "metadata": {},
   "outputs": [],
   "source": [
    "import numpy as np"
   ]
  },
  {
   "cell_type": "code",
   "execution_count": 3,
   "metadata": {},
   "outputs": [
    {
     "output_type": "execute_result",
     "data": {
      "text/plain": [
       "array([5, 6, 7])"
      ]
     },
     "metadata": {},
     "execution_count": 3
    }
   ],
   "source": [
    "a = np.array([0, 1, 2])\n",
    "b = np.array([5, 5, 5])\n",
    "a + b"
   ]
  },
  {
   "source": [
    "Broadcasting allows these types of binary operations to be performed on arrays of different sizes-for example, we can just as easily add a scalar(think of it as a zero-dimensional array) to an array:"
   ],
   "cell_type": "markdown",
   "metadata": {}
  },
  {
   "cell_type": "code",
   "execution_count": 5,
   "metadata": {},
   "outputs": [
    {
     "output_type": "execute_result",
     "data": {
      "text/plain": [
       "array([5, 6, 7])"
      ]
     },
     "metadata": {},
     "execution_count": 5
    }
   ],
   "source": [
    "a + 5"
   ]
  },
  {
   "source": [
    "We can think of this as an operation that stretches or duplicates the value `5` into the array `[5, 5, 5]`, and adds the results. The advantage of NumPy's broadcasting is that this duplication of values does not actually take place, but it is a useful mental model as we think about broadcasting.\n",
    "\n",
    "We can similarly extend this to arrays of higher dimension. Observe the result when we add a one-dimensional array to a two-dimensional array:"
   ],
   "cell_type": "markdown",
   "metadata": {}
  },
  {
   "cell_type": "code",
   "execution_count": 6,
   "metadata": {},
   "outputs": [
    {
     "output_type": "execute_result",
     "data": {
      "text/plain": [
       "array([[1., 1., 1.],\n",
       "       [1., 1., 1.],\n",
       "       [1., 1., 1.]])"
      ]
     },
     "metadata": {},
     "execution_count": 6
    }
   ],
   "source": [
    "M = np.ones((3, 3))\n",
    "M"
   ]
  },
  {
   "cell_type": "code",
   "execution_count": 7,
   "metadata": {},
   "outputs": [
    {
     "output_type": "execute_result",
     "data": {
      "text/plain": [
       "array([[1., 2., 3.],\n",
       "       [1., 2., 3.],\n",
       "       [1., 2., 3.]])"
      ]
     },
     "metadata": {},
     "execution_count": 7
    }
   ],
   "source": [
    "M + a"
   ]
  },
  {
   "source": [
    "Here the one-dimensional array `a` is stretched, or broadcast across the second dimension in order to match the shape of `M`.\n",
    "\n",
    "While these examples are relatively easy to understand, more complicated cases can involve broadcasting of both arrays. Consider the following example:"
   ],
   "cell_type": "markdown",
   "metadata": {}
  },
  {
   "cell_type": "code",
   "execution_count": 8,
   "metadata": {},
   "outputs": [
    {
     "output_type": "stream",
     "name": "stdout",
     "text": [
      "[0 1 2]\n[[0]\n [1]\n [2]]\n"
     ]
    }
   ],
   "source": [
    "a = np.arange(3)\n",
    "b = np.arange(3)[:, np.newaxis]\n",
    "\n",
    "print(a)\n",
    "print(b)"
   ]
  },
  {
   "cell_type": "code",
   "execution_count": 12,
   "metadata": {},
   "outputs": [
    {
     "output_type": "execute_result",
     "data": {
      "text/plain": [
       "array([[0, 1, 2],\n",
       "       [1, 2, 3],\n",
       "       [2, 3, 4]])"
      ]
     },
     "metadata": {},
     "execution_count": 12
    }
   ],
   "source": [
    "a + b"
   ]
  },
  {
   "source": [
    "Just as before we stretched or broadcasted one value to match the shape of the other, here we've stretched both `a` and `b` to match a common shape, and the result is a two-dimensional array! The geometry of these examples is visualized in the following figure."
   ],
   "cell_type": "markdown",
   "metadata": {}
  },
  {
   "source": [
    "## Rules of Broadcasting\n",
    "\n",
    "Broadcasting in NumPy follows a strict set of rules to determine the interaction between the two arrays:\n",
    "\n",
    "- Rule 1: If the two arrays differ in their number of dimensions, the shape of the one with fewer dimensions is *padded* with ones on its leading (left) side.\n",
    "\n",
    "- Rule 2: If the shape of the two arrays does not match in any dimension, the array with shape equal to 1 in that dimension is stretched to match the other\n",
    "shape.\n",
    "\n",
    "- Rule 3: If in any dimension the sizes disagree and neither is equal to 1, an error is raised."
   ],
   "cell_type": "markdown",
   "metadata": {}
  },
  {
   "source": [
    "### Broadcasting example 1\n",
    "\n",
    "Let's look at adding a two-dimensional array to a one-dimensional array:"
   ],
   "cell_type": "markdown",
   "metadata": {}
  },
  {
   "source": [
    "M = np.ones((2, 3))\n",
    "a = np.arange(3)\n",
    "print(M)\n",
    "print(a)"
   ],
   "cell_type": "code",
   "metadata": {},
   "execution_count": 24,
   "outputs": [
    {
     "output_type": "stream",
     "name": "stdout",
     "text": [
      "[[1. 1. 1.]\n [1. 1. 1.]]\n[0 1 2]\n"
     ]
    }
   ]
  },
  {
   "source": [
    "Let's consider an operation on these two arrays. The shape of the arrays are:\n",
    "\n",
    "- `M.shape = (2, 3)`\n",
    "- `a.shape = (3,)`\n",
    "\n",
    "We see by rule 1 that the array `a` has fewer dimensions, so we pad in on the left with ones:\n",
    "\n",
    "- `M.shape -> (2, 3)`\n",
    "- `a.shape -> (1, 3)`\n",
    "\n",
    "By rule 2, we now see that the first dimension disagrees, so we stretch this dimension to match:\n",
    "\n",
    "- `M.shape -> (2, 3)`\n",
    "- `a.shape -> (2, 3)`\n",
    "\n",
    "The shapes match, and we see that the final shape will be `(2, 3)`"
   ],
   "cell_type": "markdown",
   "metadata": {}
  },
  {
   "cell_type": "code",
   "execution_count": 32,
   "metadata": {},
   "outputs": [
    {
     "output_type": "execute_result",
     "data": {
      "text/plain": [
       "array([[1., 2., 3.],\n",
       "       [1., 2., 3.]])"
      ]
     },
     "metadata": {},
     "execution_count": 32
    }
   ],
   "source": [
    "M + a"
   ]
  },
  {
   "source": [
    "## Broadcasting example 2\n",
    "Let's take a look at an example where both arrays need to be broadcast:"
   ],
   "cell_type": "markdown",
   "metadata": {}
  },
  {
   "cell_type": "code",
   "execution_count": 34,
   "metadata": {},
   "outputs": [
    {
     "output_type": "stream",
     "name": "stdout",
     "text": [
      "[[0]\n [1]\n [2]]\n\n[0 1 2]\n"
     ]
    }
   ],
   "source": [
    "a = np.arange(3).reshape((3, 1))\n",
    "b = np.arange(3)\n",
    "print(a)\n",
    "print()\n",
    "print(b)"
   ]
  },
  {
   "source": [
    "Again, we'll start by writing out the shape of the arrays:\n",
    "\n",
    "- `a.shape = (3,1)`\n",
    "- `b.shape = (3, )`\n",
    "\n",
    "Rule 1 says we must pad the shape `b` with ones:\n",
    "\n",
    "- `a.shape -> (3, 1)`\n",
    "- `b.shape -> (1, 3) `\n",
    "\n",
    "And rule 2 tells us that we upgrade each of these ones to match the corresponding\n",
    "size of the other array:\n",
    "\n",
    "- `a.shape -> (3, 3)`\n",
    "- `b.shape -> (3, 3)`"
   ],
   "cell_type": "markdown",
   "metadata": {}
  },
  {
   "cell_type": "code",
   "execution_count": 39,
   "metadata": {},
   "outputs": [
    {
     "output_type": "execute_result",
     "data": {
      "text/plain": [
       "array([[0, 1, 2],\n",
       "       [1, 2, 3],\n",
       "       [2, 3, 4]])"
      ]
     },
     "metadata": {},
     "execution_count": 39
    }
   ],
   "source": [
    "a + b"
   ]
  },
  {
   "source": [
    "## Broadcasting example 3\n",
    "\n",
    "Now let's take a look at an example in which the two arrays are not compatible:"
   ],
   "cell_type": "markdown",
   "metadata": {}
  },
  {
   "cell_type": "code",
   "execution_count": 40,
   "metadata": {},
   "outputs": [
    {
     "output_type": "stream",
     "name": "stdout",
     "text": [
      "[[1. 1.]\n [1. 1.]\n [1. 1.]]\n\n[0 1 2]\n"
     ]
    }
   ],
   "source": [
    "M = np.ones((3, 2))\n",
    "a = np.arange(3)\n",
    "print(M)\n",
    "print()\n",
    "print(a)"
   ]
  },
  {
   "source": [
    "This is jut a slightly different situation than in the first example: the matrix `M` is transposed. How does this \n",
    "affect the calculation? The shape of the arrays are\n",
    "\n",
    "- `M.shape = (3, 2)`\n",
    "- `a.shape = (3, )`\n",
    "\n",
    "Again, rule 1 tells us that we must pad the shape of `a` with ones:\n",
    "\n",
    "- `M.shape -> (3, 2)`\n",
    "- `a.shape -> (1, 3)`\n",
    "\n",
    "By rule 2, the first dimension of `a` is stretched to match that of `M`:\n",
    "\n",
    "- `M.shape -> (3, 2)`\n",
    "- `a.shape -> (3, 3)`\n",
    "\n",
    "Now we hit rule 3-the final shapes do not match, so these two arrays are \n",
    "incompatible, as we cna observe by attempting this operation:"
   ],
   "cell_type": "markdown",
   "metadata": {}
  },
  {
   "cell_type": "code",
   "execution_count": 41,
   "metadata": {},
   "outputs": [
    {
     "output_type": "error",
     "ename": "ValueError",
     "evalue": "operands could not be broadcast together with shapes (3,2) (3,) ",
     "traceback": [
      "\u001b[1;31m---------------------------------------------------------------------------\u001b[0m",
      "\u001b[1;31mValueError\u001b[0m                                Traceback (most recent call last)",
      "\u001b[1;32m<ipython-input-41-8cac1d547906>\u001b[0m in \u001b[0;36m<module>\u001b[1;34m\u001b[0m\n\u001b[1;32m----> 1\u001b[1;33m \u001b[0mM\u001b[0m \u001b[1;33m+\u001b[0m \u001b[0ma\u001b[0m\u001b[1;33m\u001b[0m\u001b[1;33m\u001b[0m\u001b[0m\n\u001b[0m",
      "\u001b[1;31mValueError\u001b[0m: operands could not be broadcast together with shapes (3,2) (3,) "
     ]
    }
   ],
   "source": [
    "M + a"
   ]
  },
  {
   "source": [
    "Note the potential confusion here: you could imagine making `a` and `M` compatible by, say, padding `a`'s shape with ones on the right rather than the left. \n",
    "But this is not a how the broadcasting work. That sort of flexibility might be useful in some cases, but it would lead to potential areas of ambiguity.\n",
    "If right-side padding is what you'd like, you can do this explicity by reshaping the array(we'll use the `np.newaxis` keyword)"
   ],
   "cell_type": "markdown",
   "metadata": {}
  },
  {
   "source": [
    "a[:, np.newaxis].shape"
   ],
   "cell_type": "code",
   "metadata": {},
   "execution_count": 51,
   "outputs": [
    {
     "output_type": "execute_result",
     "data": {
      "text/plain": [
       "(3, 1)"
      ]
     },
     "metadata": {},
     "execution_count": 51
    }
   ]
  },
  {
   "cell_type": "code",
   "execution_count": 50,
   "metadata": {},
   "outputs": [
    {
     "output_type": "execute_result",
     "data": {
      "text/plain": [
       "array([[0],\n",
       "       [1],\n",
       "       [2]])"
      ]
     },
     "metadata": {},
     "execution_count": 50
    }
   ],
   "source": [
    "a[:, np.newaxis]"
   ]
  },
  {
   "cell_type": "code",
   "execution_count": 53,
   "metadata": {},
   "outputs": [
    {
     "output_type": "execute_result",
     "data": {
      "text/plain": [
       "array([[0],\n",
       "       [1],\n",
       "       [2]])"
      ]
     },
     "metadata": {},
     "execution_count": 53
    }
   ],
   "source": [
    "np.reshape(a, (3, 1))"
   ]
  },
  {
   "cell_type": "code",
   "execution_count": 49,
   "metadata": {},
   "outputs": [
    {
     "output_type": "execute_result",
     "data": {
      "text/plain": [
       "array([[1., 1.],\n",
       "       [2., 2.],\n",
       "       [3., 3.]])"
      ]
     },
     "metadata": {},
     "execution_count": 49
    }
   ],
   "source": [
    "M + a[:, np.newaxis]"
   ]
  },
  {
   "source": [
    "Also note that while we've been focusing on the `+` operator here, these broadcasting rules apply to *any* binary `ufunc`. For example, here is the `logaddexp(a,b)` function, which computes `log(exp(a)) + exp(b))` with more precision than the naive approach: "
   ],
   "cell_type": "markdown",
   "metadata": {}
  },
  {
   "cell_type": "code",
   "execution_count": 54,
   "metadata": {},
   "outputs": [
    {
     "output_type": "execute_result",
     "data": {
      "text/plain": [
       "array([[1.31326169, 1.31326169],\n",
       "       [1.69314718, 1.69314718],\n",
       "       [2.31326169, 2.31326169]])"
      ]
     },
     "metadata": {},
     "execution_count": 54
    }
   ],
   "source": [
    "np.logaddexp(M, a[:, np.newaxis])"
   ]
  },
  {
   "source": [
    "## Broadcasting in Practice\n",
    "\n",
    "Broadcasting operations form the core of many examples we'll see throughout this book. We'll now take a look at a couple simple examples of \n",
    "where they can be useful.\n",
    "\n",
    "### Centering an array\n",
    "\n",
    "In the previous section, we saw that ufuncs allow a NumPy user to remove the need\n",
    "to explicitly write slow Python loops. Broadcasting extends this ability. One \n",
    "commonly seen example is when centering an array of data. Image you have an array of 10 observations, each \n",
    "of which consists of 3 values. Using the standard convention. we'll store this in a `10 x 3` array:"
   ],
   "cell_type": "markdown",
   "metadata": {}
  },
  {
   "cell_type": "code",
   "execution_count": 55,
   "metadata": {},
   "outputs": [],
   "source": [
    "X = np.random.random((10, 3))"
   ]
  },
  {
   "source": [
    "We can compute the mean of each feature using the `mean` aggregate across the first dimension:"
   ],
   "cell_type": "markdown",
   "metadata": {}
  },
  {
   "cell_type": "code",
   "execution_count": 59,
   "metadata": {},
   "outputs": [],
   "source": [
    "Xmean = X.mean(axis=0)"
   ]
  },
  {
   "source": [
    "And now we can center the `X` array by subtracting the mean (this is a broadcasting operation):"
   ],
   "cell_type": "markdown",
   "metadata": {}
  },
  {
   "source": [
    "X_centered = X - Xmean"
   ],
   "cell_type": "code",
   "metadata": {},
   "execution_count": null,
   "outputs": []
  },
  {
   "source": [
    "To double-check that we've done this correctly, we can check that the centered array has near zero mean:"
   ],
   "cell_type": "markdown",
   "metadata": {}
  },
  {
   "cell_type": "code",
   "execution_count": 62,
   "metadata": {},
   "outputs": [
    {
     "output_type": "execute_result",
     "data": {
      "text/plain": [
       "array([8.8817842e-17, 4.4408921e-17, 0.0000000e+00])"
      ]
     },
     "metadata": {},
     "execution_count": 62
    }
   ],
   "source": [
    "X_centered.mean(axis=0)"
   ]
  },
  {
   "source": [
    "### Plotting a two-dimensional function\n",
    "\n",
    "One place that broadcasting is very useful is in displaying images based on two-dimensional functions. If we want \n",
    "to define a function `z = f(x, y)`, broadcasting can be used to compute the function across the grid:\n"
   ],
   "cell_type": "markdown",
   "metadata": {}
  },
  {
   "source": [
    "# x and y have 50 steps from 0 to 5\n",
    "\n",
    "x = np.linspace(0, 5, 50)\n",
    "y = np.linspace(0, 5, 50)[:, np.newaxis]\n",
    "\n",
    "z = np.sin(x) ** 10 + np.cos(10 + y * x) * np.cos(x)"
   ],
   "cell_type": "code",
   "metadata": {},
   "execution_count": 68,
   "outputs": []
  },
  {
   "source": [
    "We'll use Matplotlib to plot this two-dimensional array."
   ],
   "cell_type": "markdown",
   "metadata": {}
  },
  {
   "cell_type": "code",
   "execution_count": 65,
   "metadata": {},
   "outputs": [],
   "source": [
    "%matplotlib inline\n",
    "import matplotlib.pyplot as plt "
   ]
  },
  {
   "cell_type": "code",
   "execution_count": 66,
   "metadata": {},
   "outputs": [
    {
     "output_type": "display_data",
     "data": {
      "text/plain": "<Figure size 432x288 with 2 Axes>",
      "image/svg+xml": "<?xml version=\"1.0\" encoding=\"utf-8\" standalone=\"no\"?>\r\n<!DOCTYPE svg PUBLIC \"-//W3C//DTD SVG 1.1//EN\"\r\n  \"http://www.w3.org/Graphics/SVG/1.1/DTD/svg11.dtd\">\r\n<!-- Created with matplotlib (https://matplotlib.org/) -->\r\n<svg height=\"252.317344pt\" version=\"1.1\" viewBox=\"0 0 310.459812 252.317344\" width=\"310.459812pt\" xmlns=\"http://www.w3.org/2000/svg\" xmlns:xlink=\"http://www.w3.org/1999/xlink\">\r\n <metadata>\r\n  <rdf:RDF xmlns:cc=\"http://creativecommons.org/ns#\" xmlns:dc=\"http://purl.org/dc/elements/1.1/\" xmlns:rdf=\"http://www.w3.org/1999/02/22-rdf-syntax-ns#\">\r\n   <cc:Work>\r\n    <dc:type rdf:resource=\"http://purl.org/dc/dcmitype/StillImage\"/>\r\n    <dc:date>2021-02-12T11:53:02.165150</dc:date>\r\n    <dc:format>image/svg+xml</dc:format>\r\n    <dc:creator>\r\n     <cc:Agent>\r\n      <dc:title>Matplotlib v3.3.3, https://matplotlib.org/</dc:title>\r\n     </cc:Agent>\r\n    </dc:creator>\r\n   </cc:Work>\r\n  </rdf:RDF>\r\n </metadata>\r\n <defs>\r\n  <style type=\"text/css\">*{stroke-linecap:butt;stroke-linejoin:round;}</style>\r\n </defs>\r\n <g id=\"figure_1\">\r\n  <g id=\"patch_1\">\r\n   <path d=\"M 0 252.317344 \r\nL 310.459812 252.317344 \r\nL 310.459812 0 \r\nL 0 0 \r\nz\r\n\" style=\"fill:none;\"/>\r\n  </g>\r\n  <g id=\"axes_1\">\r\n   <g id=\"patch_2\">\r\n    <path d=\"M 20.5625 228.439219 \r\nL 238.0025 228.439219 \r\nL 238.0025 10.999219 \r\nL 20.5625 10.999219 \r\nz\r\n\" style=\"fill:#ffffff;\"/>\r\n   </g>\r\n   <g clip-path=\"url(#p9c2b0e8f6b)\">\r\n    <image height=\"218\" id=\"image8fd9580e43\" transform=\"scale(1 -1)translate(0 -218)\" width=\"218\" x=\"20.5625\" xlink:href=\"data:image/png;base64,\r\niVBORw0KGgoAAAANSUhEUgAAANoAAADaCAYAAADAHVzbAAAj50lEQVR4nO2d2XMcWXbeT261F1AAQYIECBJkN5qc6WnNTEh2SKN5sR0hSxH+X/zPyQ7bctgRlsOSYuTQTE+3prl1owmSWEiCAGrNyspMP7Qe+H3nRFc13XGfzu/tFnKrm3mR9Z01+su9/1jLMpIYxzGO6yxVu9SNDMctvU3Zxm2KPm6TDxK1z+QGnnuyg5ef7I/UPv9671sY/4drv4Pxr1ov1T7bSRuvrS5h/O1iofZ5UmzB+Gl+U23zpujBOK/wO6dxpfbpxHMYr6cTGPfjmdqnG+d0DBw3Ivw+IiJZpL8TU9Y4/4XgPSpqfZ/HVRPGw7IF48uyo/bhbXieLHoJfsfbjXMYHzRP1D4HKT4vW3TfRfS9f1zgM/c345+qff7LyacwjtUWjuP86PhCc5wA+EJznADoH75RpLeiz+qUtBOPRURSXMNVprepMt4Gz1Ol+lr4p3qV4u/lRqI1TjPG39isT4yrV+Q16peJoUUuSGucL7pqm9fzPozHi8bSc6d0/fx92glqOBGRjL4ja79E9DwxpfF/uKrxnrB2srTUtEQtPlsyFhHJF3icBWnDNNLXv96cwnjUQW2YGPusRajrWjQWEckiPHeH5v96OlT73OpcwdjfaI4TAF9ojhMAX2iOEwBfaI4TAK1cY8MYEi9xWKd6vdZk/LC2UcYPGhsaWdgGUZMxJDGNIWjIWMUxW5GxoBA8z7jWRozzEp3Rr+c9tc3xdA3GozkK9qJaboCII7wW444pOCqBjykiUtK5y0pvsygT2ob2KfX1lwsyetE+1UKfp6Zzs40uzvR9bnfQkHG5pp3PzCBh5792am8lePI+zf9e9lbt87CHx/E3muMEwBea4wTAF5rjBGB5pKaI1KzbKMi4TgxntHJYWxqNft8rzaavhf2hdYa/l7NEB8s24wK3EXJYG076ssbjzmjMzmkRkTcFOqNPSY+JiJyNUbeNpqTR5vqWVCUFDFTfPxYREdpn6VhEIvosMrQTf0a+WzFilSWmfVhGG35kRU2P2KKlY+FHa/jAfFvgTu0UnwMRkVuNSxjvpO/UNpv0/PRjvEf7KR5DRGTcfg5jf6M5TgB8oTlOAHyhOU4AVgsqZr8Z+9UsP5rSaEaAcOP7/Wj89+8+o9/m5EdrZdpH1k7wN7aV9MgUpOPG5PsZVtpHc15gEPGbqQ4qvhhSQukQNVo003MZ56RxSPNEWnpIMme9xX/X+5AUkbjQOkhtQ8e1pjaqUIRFy1ONhWKIZdHE77Po6mcjn+HjPItxrl91tWY+7q/DeNhuqW1Kwclai9CHupXoL7SfYdKpv9EcJwC+0BwnAL7QHCcAvtAcJwAflGGtsqfNgOHlDmt2UJcUp8tjEZGKPosouLSVamNIixR8i6wH1n+bihzUOXlMTYd1jsaPi4lRUekKjR/pBVXBGuv5T6jIVTqlv+dajCcz/Cylbcx98up7xyIi8ZwMGyWNK8PSwZ9RAIQKiBCRqonzvejgeGZUSKspkKLo4Xg80w/U1QKNH7PaiJIgEsq4bhnLqE+Z2v5Gc5wA+EJznAD4QnOcAKym0VQQMVfFMjRagzSa4XwuG6zRVggqpiDiuEEVoYzAUa70yxWiEiN1slSJnngx74wKV+9y1G3TidYEyRVqi8YFnruBxZO+u94RBU5PSH9NtJZKJ1QFa0K6dKrnKZrhZ1FueLUX5JEuaVwbGo2DzqlqWt3U81RTBauIqh0vWoZjny6Xg6Q54fTHgisZi4hMSNP7G81xAuALzXEC4AvNcQLgC81xArBShrUqCc7GEbN09/cbOr77jPbhMerff9kGxXYzQyHaSbWA55ZFLTKGxIYBqFAZ1mgMuVxoZ/Qwxwuuxnp6WyOcO0rwleaFUcXrEj9rDNFokYz0d45H+J2jCXq96yl5vUWkJuNHNTeMIZZD+v3zGC28ImrhFbXQSRwZGfp8FnZqm+Xi1fNE5eKNzA5u9cTBDBZ5jducV/q4z4obMPY3muMEwBea4wTAF5rjBED9oLYCPJc5qM0KV+yMNjOscVySJis5m1pE6gbpFfrd3V1Bo2URtzDSGmFOGo3bw475YkVknOMXiqf6uOkYx40hZYhfaOdn44I02SXqrXiE1XZFROoRnqiakkbLdXui2mgXrCA9GzXwO0epodHaqGfrHjr2q57Wu4sBzu9sE3VePtDP05wSqKs+fp/Nrp6nGw1suTSItXblgIZhhc/YK0OvfzHdg7G/0RwnAL7QHCcAvtAcJwAfWAVruU9jWVKniEhJlY2W+UFERKIm6qt2g6rIppQlKSJdijZtrVCGib1Z7EcbGS1x8xynM5npeeGkzYwCgrOR1knJkDTZGA9Sj5f7xFbRX1FGesvyiTUp2LdD+qur9UpJXV0WfTzPfF2fJ++jvmVNlm+qXWS2jd+xv4U69X5fd32523gD402OTBaROOKkX7xnh8WW2uer8TYeQ1+u4zg/Nr7QHCcAvtAcJwC+0BwnACsZQ5Y7rA1nNGVHs6HD+qxsopGiahqVmiijuttA8cpBoiIiXXZY099j4/9NSaee0ReaGMaQktoEZUZMLlef4mpVca4d1lFBn3GWswE7jpUjOdHfmQ0ddVs75esuBgQXfWo7tabT4udrOC/zfvS9YxGRgroSF32cp3KgjTvda+iQ/ngTDR2f9l6pffYz3GbA5e5FO6w5e/pkgWXFRURejgcw9jea4wTAF5rjBMAXmuME4MMc1smHOKx/eOJn3dRJkFmDgoiz5RpNBxVTGyTjO/OZixqnas49fkWkWuA82a1pUWtELAatxEpOvG1SIqWht9Q+5Hyu21pjLrr4WdFfrrfyNaoOvGYE+2LHYVn0ahprvRV1UIc2u3ifr/d0gPBe/wLGP+mfwPhBS2u0HYog6MVGdWmqckWyWkalbvU0KXDu/I3mOAHwheY4AfCF5jgBWKk4T00/u1mTmYVSVvCjsd+Mx1FT+4taFETMxXj63HpFRLoRVype/v+lJN9JQb6TeamTOqWipEgtMXVbWZq6OtPHrdo0maTRJDHmv8HdWPBWF3196+d9nJd8fXlyZbFOemvNCIru0z3r4j3qt7Su7jfws7UG7rPR0Bptp4mVju41z2B8M9FloNdj8n1Gev6tSsTLyGK8+f5Gc5wA+EJznAD4QnOcAPhCc5wAaEVsVsFa5rDWB+ZAY7MF0xIHddbQIrSjMqpRNLNzWkRXJs6EW+qsYhyhOWALkYgur2tQ06m4Wtiia2U1U5sjrgLd1NdfdPEzDtw1DR1k2CgGhhFgneZ/DR2+Wz0q8yUi222sNLVJhoxuatwzaofMrbaasa4o3I/RYDJI8Dxc/UxEt1Aua8OCRfBx1hOd4b7VHsHY32iOEwBfaI4TAF9ojhOAFYOKuZvMD+/sYRT21YmdDdZoRnIfBRHz73tO8hTRv6mzyPCeEyVpsIrFlQU7nw2fNgdSF21KojXmkuUgt5UtdJdfFdybD1h/6blNBzi32xtDtQ0H7u6138F4t4l/FxHZTFGvrNKxhauOcaVoDiAQ0Tp6WGGA8EWlg38HMV5bVhvZukQ3wrnbyd6pbQ76r2HsbzTHCYAvNMcJgC80xwnAasV5llQmNn1kKqhYO5kq0mQJBRFzALGISDdDDcaJnrYfjQrgkJiqVnGAEZFV7Tim4kKZ3qZsUWEacttElZ5/TppdUOGa+Zo+T7FBXU03cF5uGvrr3to5jA96Z3qbJmqPnRT1yVqsg7rZBzajJNq3JX0hERkvUJNdLrADzWWpEzQrErPrlNTJultEpCE0T1xKWkT6FHjcp/Wwl+kKyGNKrPU3muMEwBea4wTAF5rjBMAXmuMEQLfWXaFSMQcRW0HFJRtDDMPAMgd1O9NO1U5KQa2UUW05Qw1bzQ8mJqd3Guvg0zjDz6ysctL0yrBkOrlJ98/X8Tz1hv7O6xsY3HtvAwX7w/6p2udhG6tE7VNLIxGRmwkelw1NXNRLRGSojB9o6HhVbKh9vsmvw/jldADji7nRjrfC98agiYaNYUc7rBO6/k78Um3TpXvfoSzsPaPymjSPYehvNMcJgC80xwmALzTHCYCR+Kk3Yoe10mxGN5maNZrRGSZe4qDuNYzOMCrRE4NAG5FOVuRKxAlVwapWqHKUUO3iRmxUe0rxOIu21nFFSdWM6dSmrutT4uqAnM+burrTgwE6mz/tofZ4SBpCROQuOZ+vJfqeZeTsn1Hi5EWtH6nDAvvg/mG2C+OvxjfVPt9cXYPxmxFGTs/z5QXcuh2cp9lAq3VO2rSczzukS9coKD02OtBMajy3v9EcJwC+0BwnAL7QHCcAKwYV47giX4/xs1xKCiKuDT8aF99ZVoVYRAcRc5GWLNLa6UP+m7B/hQNjW4k+T7OJnxUdrf1UgxlOFm0bBYnWUUfcHmBF3gfr2if28+4RjB820Ue2l+pKv33SrrFR0fmywus7IsfgV/mO2uf3k9sw/sMFarKjdwO1z/Qd+sniERVUKqzq2KQX11GTZame27MetrqZVEaGsqBGY43PHUFFdKVrf6M5TgB8oTlOAHyhOU4AfKE5TgBWa9u0pOrVKhnWHEAsItKgIOJOxsYQHSzbTvCzlmrJ9MNb7FgkwsYQaulrGGq6Tfws7+iJWVDgcZzimJ2sIiK762j8+Mkatoz9rPtC7XPQwG3Y+NExjF4FfefXRmvgZ8UNGH8+vQPj316i4UNE5MlbDBC+eo0Z1elb/Rh2LvHcRuKzouhS5a8Ijzte19EAnMk9t6K6Ca5mPKn0c/pqgUYWf6M5TgB8oTlOAHyhOU4APqgKFv+MtRI/2UHNFa5ERFqU2LmsCrGI7jJiBREvY5WOIcvOa13behOTUOddo00rteTlOdju6epUH1PV2wcd1F/7mU7QvG50OHmfy0oHELykalSW8/m3I9Rkv3uL2xyfDdQ+yQnqoN4bfJ6a50Yww5i07ILbMOvnNKLET67WXFX6vcIJvas8T3mN9+zE2OXLHAOn/Y3mOAHwheY4AfCF5jgB8IXmOAH4capgmW1zUWQ2jYpWbeWgRmMIR+qL6Gh9FrMWvAWXAK/UFvo/EFfX4nLTIiIbLXQKL4xWT6psdQMNKLc7F2qf/RYaO26muA23lBURKejcF3TTjgrMYBYR+WKKzuZ/uthT2zx+jc7n2TFmPrePtQGofYbz3X6L1oPGlZFxMeeKYvh98oFhx6PbyNOfGc/gIMP72I/1feXo/FGNz8LRYqD2+XLsxhDHCY4vNMcJgC80xwnAalWwOKNaOayN8rTksOYAYhGRDjuoExw3jUpTHDTMwb8Wc6rUVKxS9YqkKrfs5epJIiKbDZ21zMR0vYMGHmfHaE17PUUnNuvFca2DZV9TNeDnpMk+H2n99fk5Op9fHG+qbdJXeK71VzhRXcN7236N9zW9xLmM5vo+1xk+ZIsBVhlmu4GIyIIKEZc9vJZrXX1/bjUuYLxp6N2Y7BbDEsWgpXcPRzh3/kZznAD4QnOcAPhCc5wA/Citda0KVxElOHLwrIhIj9rkcqDuKhqNqw0VRuKe9qNRwKrx/4Zdg8qPlujf+9cbqKVSI0A1pupa7I9bN6pTcdLppEb99bpYU/t8m2/B+Ish6q8/vNlW+1y8wuN0jvTj0X2J1997SffsDCtGiYjEV/SdFjQvmT5P1cQA56KD2+Tr+jmdb1Cy7gbqrft9XYX4fgMrOlvVmRN6PsZU9u0NJXmKiFzmKBj9jeY4AfCF5jgB8IXmOAHwheY4AfigkuCrOKxjLvedWm1y0ZGpKlzFuroQt09iSuN/x6xmgwm19NVfWbV66pIxZGAYQyYpGilWqcjFbaesfbhM9WsaP8+1w/QPV1h2+8kZBgPPX2AwsIhI/yimsb6W7gs0MGQnFzCur3SGeF3icaI2lvuu19HwISIyv4bGhMk2PqqTm4YxZBvn8v4WXtvDnm5VtZ+dw3g91s7/UgU84N9nVlQ94W80xwmALzTHCYAvNMcJgJH4qTdSbZtWSPxsUIscDiAWEemRRmNNtorGKch5aP1ensUoKgvB43Kg73efIU26lkGiHbNj6otrJaWyQ52DonPj+t+U6BB9lQ9g/OgKqweLiByekm57gbqof6Rv9PohVY4+Gqlt4hN0+lasySr9naM+Xn+9gY7x2a52+A53cR7Gt/F6p7e1fr9+Cys6f7aBraoeGO2Er1NQRDNqqW0mtX5238eyJXBFNH+jOU4AfKE5TgB8oTlOAIzEz+XFeVQrXcOPpjrFGN1X2uRDalLwrKVx2E/GmmdWGxpNbcO/y9UuqiBLN8Zr6dc6QZB9a5Xxf2xMPjDWZJclaikRkRfTDRg/u8KA4Rev8e8iItERao3ecyoKdKh1RecQNY4cv1bblEPtJ3ufeF0HOMsNTIKc3MFthnv6MRxTU5p8B5+VrZtXap/PrqEGe9jG8S4VNRIR6cTLu8cwGT2XW6mek/0e+uf8jeY4AfCF5jgB8IXmOAHwheY4AVitUjEHFfM41UaLJjusV2mTS44/q8JVRSdnB/UkQmODiDaQFDVmBVe10TYowvO06Fq6kQ6S5kpZw0obNvj6zxcY3PtyNlD7PLtE48fL17hN/EI7WZXx4xuqCn14ofaRl6cwNA0fNC/JJl5Lvaud5+N9dEhf3aWWt7f1/Ne7aGzaowDhg3VtqPmki9d/M0PjDhsxRHSAeV7r55Qz8vne72U6c3vWxWfO32iOEwBfaI4TAF9ojhMAI/FTb7QsqJirEouINCnR02pFu0rSI8MOaq6CxQ5hEZ04OaOOIaWRTNqk/0EZbdMyrnWV6x+WqKdOc3TeHg51deBXb9dhHB3jMbov9U1be04BA8/JwXuM1Z9EDE0W6f/DrMmqPUwwHX2kkzgv7+E9G98l/b6jg5fvX0Pdc7+HHXVuNci5LiIbKQZ6l6qjjtayrYiDw3VgBev1PgV17KX6WrhFr7/RHCcAvtAcJwC+0BwnACsV56lUUDFqsjgzOohQN0/2mYlovxkHEVtVh5cVQrF8b6zbuBum1fGTi/M0aaqySP+W58JB1rW+W3Rg/HKC+uv4nQ7Krc9Ikx3jtfVf6vnvvCDdc4oap7zSuihKcL7jDR2sXN3FCsdXH6Mmu7yv/3dP7uF9vnkbA25/tnmi9rnbRo3WS3QQNzMi/csB25yYKyJSUNcaSXWw8vWYqjNHeNws0T7VJEK96280xwmALzTHCYAvNMcJgC80xwnAB1XBYhtFbLS6aVMQcS/RDuumCiJGY8LEaBmbU3p3US3PkB0neJyZShHXYla1coq41ZOGs7/ZUS4icppjgO3JEMf5uQ5E7pzicbvHeC2dV7rNb/z6Aq9tiMYPNnyIiMTsjL6jWztdHmAQ9MUBXlv+kTZaPLiNwb5/svkcxneaOii3RcamyxLPe2q0qjovcJuSHuZrma5cxlXUuoaRi9vtNiPchw1nIiJJhc+7v9EcJwC+0BwnAL7QHCcAH9RNhmVRajisueqVVc2Vg3Ar7vqiopdFJiXqrdzYRu1DWmkuFJhsJH4yVvtdhh3UbxY6wPZ0gtri8hId2I03Wju1z/D6Oqc4l+mZdrLWSzRZvKGrAy/uYNIm6zERkYtPcB4WB1j560/uHKl9frXxDMbczjYxEjJfFhhcfTjDysvPRtgdR0TkzVRf7/vc6OhE1izGZ9BK4hRBjZZQkHFeaY3/lp45f6M5TgB8oTlOAHyhOU4AfKE5TgCMkuB6I3ZQc/R+mhrR+xStz9nUIiINqiakq1Vpw8CUjCHTcnlbU5VhTUYLKy86tlLN38Nq8MtVr97OtTHkbISf1e/w+7Te6vN23uI8Nd6iAaIe6za/DJfqLm9rY8LVx+SM/kQ/DNUn6PT91f43MP63G1+pfQ4aOjr/fQ4LfS3/PNmB8e/Od2H86hyzHkREihk+znGGd2lR6e+z00ZDUtFdHgBRUuWs80o/20/md/Falh7VcZz/b3yhOU4AfKE5TgA+rFIx7dVIjaq9CbVkMhzWMSkdHZSrg4rHpNHGC70Nw8cp5Ie36mEKw8d9UaLz+WRmtIwdoY5rvMNrab01Koq9pUz0K9Jold4n6qMWLG9itvTVfcMZ/THOf3mgtd+v730N43+/8QWMf2q0r+Ws92cFOp9/O76j9vmHM9Q4J8d4/ck7bV5ICnx2yz4+X8OmfgZXCXhgptRq91Wpg8c/n+zB2N9ojhMAX2iOEwBfaI4TgNUqFXMVrAR/+zZMPxoFFUf693ES4W939ptZv5+HBf4enqyi0UjXcbKfBQeOFjV+R27XKyJyTsmJb6baj1ZeoQ+vQ0Vum5d6LtMhJc0ucJuopTVCuYV+ptE+Vav6SP+PnR9gAumf7R+qbf5q83MY/6L5CsaZUYXs6wVey9+PPobx3558pPY5fY5Bxa1jqkKmi3ipCtp5TNXODD9aM6aK2mZ1M3z+J/QsHBW6g86TIfoG/Y3mOAHwheY4AfCF5jgB8IXmOAH4QIc1Ct5mYmRYszHEcFhz1Ss2howXRgsmMn5MChzHkRbjbFThdj5WgDDDxpCh4Ux/U6CD+nyiK1qlV/gdG5d4vdlQz2WU09yleIxqDR3lIiLT22iY4dZJk/ta9P/y7gsY/9W136tt/lXzJYy71MLo60J/5/89egDj/3lyAOOzr9GBLSLSe06O/NdUht6IBJ+v4bXk1AEry3RgxbUGWlUGsVFRjNbEsMQn5lWhS6ezIczfaI4TAF9ojhMAX2iOE4AVHdb0AVUmbqVafzUpqTOL9O9jdhyrNjuGM3o0pyTOBVWNjbXimnJQseFsZji5j1s7XVU6KPd8jp9NJlpjNkY4wY0xHjeZ6nniymSsyWa3tGP86g7Oy3gfRc3H97B6sIjIX17/EsZ/2vpWbTMgJ/BRieP/M0H9JSLyN8cPYXz6dAvG/Wf6fvSoFVVG87Ro63dEvk7Vzdq4z2ZH66/dxjvcxmgvltAyGdNze1lqXVqQc9zfaI4TAF9ojhMAX2iOE4AP6iajNJrRWrRD3WMakXZ8sEbjojlWwPC0wG3yBf4uzwyfHnec4QTTVZgpP5r+Xf42R+1UjnXhoJQamqRT1BFRqTVm1aSiRRvYQna0o6X26A7eo427qEX+zfXHap8/bWNS55bRceZNifPw91MMEP5PJz9T+7x6igG2a4/xuOuH+vlpnqOfr06pinVXPxsLls3rqLfurekqxPvZa9wlNrrsCAeYq00UHWot7W80xwmALzTHCYAvNMcJgC80xwmAUanYCComfRilKNgthzVnVHPFKxHd+pSrDlsO6+kct1ks8H/F3Mj2zldov8tUlCk8o9ZOXPFKROQdGUOiiT5vOqXgWFLWdar/95UdMhJt43h0W9+z6A5aXf78FlYU/nXvkdpnjzLnJ5W+Z7+ZYXWnvz77Ixh//fSm2mf9Ec7D4Ck+G+1j3fJWaL7n13Bu8zU9T7NruM/WFrZp+mkPs8FFRPazCxj3Im3kymsjiOD9fRLdTni3i8f1N5rjBMAXmuMEwBea4wTggxzWMSV+cucYEZ3oabVPZYc1B/9OCu3wnc8p6bHE8Xyhf08vlmg0678NBxHn5KS8NDTaKMcg4mSmJ1M11aHjli0tm/MNCmq9hVc8u63n/+c72MHl12vooL6f6jJSJUWU/36uExr/8/lnuM2z2zBee6Svf+MJabLnWPormukk1HIDvc/5Jj0r24Yt4RYGDT/cxMDpB0YV5U26+Vz97LsD47BFwRc3UyplJiIPu3huf6M5TgB8oTlOAHyhOU4AjMTP5cV5YkquNDUa+dG4o4iITsAckd+MfWYiIos5XnJd4vUuWkaXyiXdOy3Kmv1oeK1Wst8kx+s1mpyqojIqWLZpdDndoi47t8hftKM1wp9tYoDwp9R1s2Xc56cFBiv/18vP1DZ/9819GHcf4T3beKSfhfbX5zCOhug3q/s6iTa/jhp4uEvFhfa0Ft/fxvN81sdCQrvphdonI03GCb8WHdJo+9kbvU2MQfX+RnOcAPhCc5wA+EJznAD4QnOcAHyQwzqhoOJGrIVpZmRUM7P6+zOqZ4YxpM7JWMAO39IwhlhfagnssFaVjxZG5SMy1HCr1+/AC160OHNYX//0Bh1nBx2zv7iOol9E5JftQxivkxXmtNRGl7+dfALj//HiE7VN+hiNFJuP8N53nqJBQkRE3mJ2t7Rx7oobRgviPXLS38H7sbGrDUCfbWDQ8N0GGikyI2giV8aPXG3DbZv6FHifRLq6Vp8sYf5Gc5wA+EJznAD4QnOcABiJn3ojTvxMKEGwY3hmW5a3luDKxKzR5nPDnz7HC6ype0xlaDSGu9hYIcclaalJhQHDQ3LuiogsCjxSavg+uf0ra7LZNa3rZtuor+7eQB30i/5ztc9uegXjCenU/0sJnCIi/+30pzAePhmoba4/wi/Ve3yBG5xgVSkREcnwS1fU9ne4r+fyCv3i0tzHJM6fXdcBwvfbeG4OmrA6AIngczow7A19cmr3YzxOq9b2iJKSRf2N5jgB8IXmOAHwheY4AVip4ycvR64G3LT8aILbFIYSUpWJqXtnyT4zEYnndH3k01jFZxaTPyUxvnOlgorxWrmQkIgOcLYoGxQETfmjXGBGRCS7jn6aTwcYIHxAAcMiIjFpzK8LbH/539+hHhMRefoMC+tsPtbfZ/0xaj95geeujcTbaBu7x4zuo9/s8iPj//09TEz97CZqMk6sFNG2gvMSu+xY1aUHCQY4V4n2z3VS/E7NSN97Zki30d9ojhMAX2iOEwBfaI4TAF9ojhOAlVrrVtSmKWWHdWIEYpLBgQ0fIiKTZVWvVjCG1FSRy4yKJqwWUkyhKhXjtc1KPXVCxhDV7kpEODGbjSHFNW1M+HgLg3J/0sXg2UEyUfucV+gE/rsxtlf6zYu7ap/uM/yOG090Bd74WzR+VBM8d3IdDR8iItN7aIh5d0CVyw50UO4f38ZA6T+ibOm+UR34TUFGFppsDlQQEbnVQONHt6UDLW7LUH32PjOjkvFhcQ3G/kZznAD4QnOcAPhCc5wAaIe1tfToswY58FrR8sTPyljT7PTlqlcRO6dFhAogqwpXldH2NCW9mEXLAz4LdliTxpxzdLBBlemLWXTweucDqih2TeuVgzUMlt3NULNVxk37MscKwv/rDDXa4hk6c0VEtp5QIMLXOkB4cX4B47iLInNx94ba590BavHxAeqgX955ofb543UMlOaOLWfFmtrn2Rhb+F7MUaO1jGptZQ/n7n5TO8LVPpQsemq0Q/58egfG/kZznAD4QnOcAPhCc5wA+EJznACs5LDmDOuMSoI32UIh2jk454OIyHiBWct5jpcT5/r/gHJYJ4b1g0ipAhRnFnCVIxGR2RKH9aIy/kfRYayE3qqBxy030DCzu6Gjx+9R5nAnwgCBlwvdXukfLjFF+fBbNBRQxXAREek9xXOXJ2dqm4iyJaKdbRhfHOjy3pcPcL4f3MdI/F9vPlP7bFGG+Is5OoC/vLql9vn6HW7DVdTWOtrJfaOl21ctY1qjMedooQ0zX40wE8LfaI4TAF9ojhMAX2iOE4CVMqw5TreZoK5oGA5rbtPEbXRFRMYlihhuyZRZbY/YYd3U2zBcoZaDimMzwxrHc7r+2ghejkgvlm3tyKxJo3UH6KDe7+lKv9vUupX14hdTdE6LiPzjCVa5ah/iXA+e6UDw6AidtVWut0lvoiYbHWDA8MVDtYtsH2DF4H934ysY329qLfiyQN35+XAXxv98ihpIRGT6liK26RZFkdE6jNous34X0Rp+WOHzfkQBxCIixxPUbf5Gc5wA+EJznAD4QnOcAKzoR8PftlwFiyvCWnAbXRGRUYECizvFxLkRVMxykH52W0W8lB/N0JRMSce1rl9dW4aazNJoSQfPvb2GSYW3W9R5RURaJExPFgMY/9OFrjo8PEKNcOMb8n1+q7VgeXEB47irfWLFfdRG5w/J9/mJTpL8ix3UZD9vYcCwVZ3qyzFqst+foN8sP9JB0Y0R3vyyQ1WsN/R7pZuiDl2LjWTXiDUajl8vdDccTmL2N5rjBMAXmuMEwBea4wTAF5rjBOCDWutyK10W6xZWFazpgjOq8UTWYZcbQ7RTsk2ZtZwRbgUVsxmDs5iTWBs60owurquvZa2HDurd7gWMN1MsUS2i5+7RBA0SX53qrObuczTerB1itar6WDuJhdoTRbvaKXzxCWZUjx7g3P7F3adqnz/vPsZri9EA8Y8T6tEkIr85xQzl/BANDp0T/Y7gzrlTeuQyvj8iciND482mUV0roXL2E8qun5Q6aoID7/2N5jgB8IXmOAHwheY4Afh/bpofW+fIe6IAAAAASUVORK5CYII=\" y=\"-10.439219\"/>\r\n   </g>\r\n   <g id=\"matplotlib.axis_1\">\r\n    <g id=\"xtick_1\">\r\n     <g id=\"line2d_1\">\r\n      <defs>\r\n       <path d=\"M 0 0 \r\nL 0 3.5 \r\n\" id=\"m917766593f\" style=\"stroke:#000000;stroke-width:0.8;\"/>\r\n      </defs>\r\n      <g>\r\n       <use style=\"stroke:#000000;stroke-width:0.8;\" x=\"20.5625\" xlink:href=\"#m917766593f\" y=\"228.439219\"/>\r\n      </g>\r\n     </g>\r\n     <g id=\"text_1\">\r\n      <!-- 0 -->\r\n      <g transform=\"translate(17.38125 243.037656)scale(0.1 -0.1)\">\r\n       <defs>\r\n        <path d=\"M 31.78125 66.40625 \r\nQ 24.171875 66.40625 20.328125 58.90625 \r\nQ 16.5 51.421875 16.5 36.375 \r\nQ 16.5 21.390625 20.328125 13.890625 \r\nQ 24.171875 6.390625 31.78125 6.390625 \r\nQ 39.453125 6.390625 43.28125 13.890625 \r\nQ 47.125 21.390625 47.125 36.375 \r\nQ 47.125 51.421875 43.28125 58.90625 \r\nQ 39.453125 66.40625 31.78125 66.40625 \r\nz\r\nM 31.78125 74.21875 \r\nQ 44.046875 74.21875 50.515625 64.515625 \r\nQ 56.984375 54.828125 56.984375 36.375 \r\nQ 56.984375 17.96875 50.515625 8.265625 \r\nQ 44.046875 -1.421875 31.78125 -1.421875 \r\nQ 19.53125 -1.421875 13.0625 8.265625 \r\nQ 6.59375 17.96875 6.59375 36.375 \r\nQ 6.59375 54.828125 13.0625 64.515625 \r\nQ 19.53125 74.21875 31.78125 74.21875 \r\nz\r\n\" id=\"DejaVuSans-48\"/>\r\n       </defs>\r\n       <use xlink:href=\"#DejaVuSans-48\"/>\r\n      </g>\r\n     </g>\r\n    </g>\r\n    <g id=\"xtick_2\">\r\n     <g id=\"line2d_2\">\r\n      <g>\r\n       <use style=\"stroke:#000000;stroke-width:0.8;\" x=\"64.0505\" xlink:href=\"#m917766593f\" y=\"228.439219\"/>\r\n      </g>\r\n     </g>\r\n     <g id=\"text_2\">\r\n      <!-- 1 -->\r\n      <g transform=\"translate(60.86925 243.037656)scale(0.1 -0.1)\">\r\n       <defs>\r\n        <path d=\"M 12.40625 8.296875 \r\nL 28.515625 8.296875 \r\nL 28.515625 63.921875 \r\nL 10.984375 60.40625 \r\nL 10.984375 69.390625 \r\nL 28.421875 72.90625 \r\nL 38.28125 72.90625 \r\nL 38.28125 8.296875 \r\nL 54.390625 8.296875 \r\nL 54.390625 0 \r\nL 12.40625 0 \r\nz\r\n\" id=\"DejaVuSans-49\"/>\r\n       </defs>\r\n       <use xlink:href=\"#DejaVuSans-49\"/>\r\n      </g>\r\n     </g>\r\n    </g>\r\n    <g id=\"xtick_3\">\r\n     <g id=\"line2d_3\">\r\n      <g>\r\n       <use style=\"stroke:#000000;stroke-width:0.8;\" x=\"107.5385\" xlink:href=\"#m917766593f\" y=\"228.439219\"/>\r\n      </g>\r\n     </g>\r\n     <g id=\"text_3\">\r\n      <!-- 2 -->\r\n      <g transform=\"translate(104.35725 243.037656)scale(0.1 -0.1)\">\r\n       <defs>\r\n        <path d=\"M 19.1875 8.296875 \r\nL 53.609375 8.296875 \r\nL 53.609375 0 \r\nL 7.328125 0 \r\nL 7.328125 8.296875 \r\nQ 12.9375 14.109375 22.625 23.890625 \r\nQ 32.328125 33.6875 34.8125 36.53125 \r\nQ 39.546875 41.84375 41.421875 45.53125 \r\nQ 43.3125 49.21875 43.3125 52.78125 \r\nQ 43.3125 58.59375 39.234375 62.25 \r\nQ 35.15625 65.921875 28.609375 65.921875 \r\nQ 23.96875 65.921875 18.8125 64.3125 \r\nQ 13.671875 62.703125 7.8125 59.421875 \r\nL 7.8125 69.390625 \r\nQ 13.765625 71.78125 18.9375 73 \r\nQ 24.125 74.21875 28.421875 74.21875 \r\nQ 39.75 74.21875 46.484375 68.546875 \r\nQ 53.21875 62.890625 53.21875 53.421875 \r\nQ 53.21875 48.921875 51.53125 44.890625 \r\nQ 49.859375 40.875 45.40625 35.40625 \r\nQ 44.1875 33.984375 37.640625 27.21875 \r\nQ 31.109375 20.453125 19.1875 8.296875 \r\nz\r\n\" id=\"DejaVuSans-50\"/>\r\n       </defs>\r\n       <use xlink:href=\"#DejaVuSans-50\"/>\r\n      </g>\r\n     </g>\r\n    </g>\r\n    <g id=\"xtick_4\">\r\n     <g id=\"line2d_4\">\r\n      <g>\r\n       <use style=\"stroke:#000000;stroke-width:0.8;\" x=\"151.0265\" xlink:href=\"#m917766593f\" y=\"228.439219\"/>\r\n      </g>\r\n     </g>\r\n     <g id=\"text_4\">\r\n      <!-- 3 -->\r\n      <g transform=\"translate(147.84525 243.037656)scale(0.1 -0.1)\">\r\n       <defs>\r\n        <path d=\"M 40.578125 39.3125 \r\nQ 47.65625 37.796875 51.625 33 \r\nQ 55.609375 28.21875 55.609375 21.1875 \r\nQ 55.609375 10.40625 48.1875 4.484375 \r\nQ 40.765625 -1.421875 27.09375 -1.421875 \r\nQ 22.515625 -1.421875 17.65625 -0.515625 \r\nQ 12.796875 0.390625 7.625 2.203125 \r\nL 7.625 11.71875 \r\nQ 11.71875 9.328125 16.59375 8.109375 \r\nQ 21.484375 6.890625 26.8125 6.890625 \r\nQ 36.078125 6.890625 40.9375 10.546875 \r\nQ 45.796875 14.203125 45.796875 21.1875 \r\nQ 45.796875 27.640625 41.28125 31.265625 \r\nQ 36.765625 34.90625 28.71875 34.90625 \r\nL 20.21875 34.90625 \r\nL 20.21875 43.015625 \r\nL 29.109375 43.015625 \r\nQ 36.375 43.015625 40.234375 45.921875 \r\nQ 44.09375 48.828125 44.09375 54.296875 \r\nQ 44.09375 59.90625 40.109375 62.90625 \r\nQ 36.140625 65.921875 28.71875 65.921875 \r\nQ 24.65625 65.921875 20.015625 65.03125 \r\nQ 15.375 64.15625 9.8125 62.3125 \r\nL 9.8125 71.09375 \r\nQ 15.4375 72.65625 20.34375 73.4375 \r\nQ 25.25 74.21875 29.59375 74.21875 \r\nQ 40.828125 74.21875 47.359375 69.109375 \r\nQ 53.90625 64.015625 53.90625 55.328125 \r\nQ 53.90625 49.265625 50.4375 45.09375 \r\nQ 46.96875 40.921875 40.578125 39.3125 \r\nz\r\n\" id=\"DejaVuSans-51\"/>\r\n       </defs>\r\n       <use xlink:href=\"#DejaVuSans-51\"/>\r\n      </g>\r\n     </g>\r\n    </g>\r\n    <g id=\"xtick_5\">\r\n     <g id=\"line2d_5\">\r\n      <g>\r\n       <use style=\"stroke:#000000;stroke-width:0.8;\" x=\"194.5145\" xlink:href=\"#m917766593f\" y=\"228.439219\"/>\r\n      </g>\r\n     </g>\r\n     <g id=\"text_5\">\r\n      <!-- 4 -->\r\n      <g transform=\"translate(191.33325 243.037656)scale(0.1 -0.1)\">\r\n       <defs>\r\n        <path d=\"M 37.796875 64.3125 \r\nL 12.890625 25.390625 \r\nL 37.796875 25.390625 \r\nz\r\nM 35.203125 72.90625 \r\nL 47.609375 72.90625 \r\nL 47.609375 25.390625 \r\nL 58.015625 25.390625 \r\nL 58.015625 17.1875 \r\nL 47.609375 17.1875 \r\nL 47.609375 0 \r\nL 37.796875 0 \r\nL 37.796875 17.1875 \r\nL 4.890625 17.1875 \r\nL 4.890625 26.703125 \r\nz\r\n\" id=\"DejaVuSans-52\"/>\r\n       </defs>\r\n       <use xlink:href=\"#DejaVuSans-52\"/>\r\n      </g>\r\n     </g>\r\n    </g>\r\n    <g id=\"xtick_6\">\r\n     <g id=\"line2d_6\">\r\n      <g>\r\n       <use style=\"stroke:#000000;stroke-width:0.8;\" x=\"238.0025\" xlink:href=\"#m917766593f\" y=\"228.439219\"/>\r\n      </g>\r\n     </g>\r\n     <g id=\"text_6\">\r\n      <!-- 5 -->\r\n      <g transform=\"translate(234.82125 243.037656)scale(0.1 -0.1)\">\r\n       <defs>\r\n        <path d=\"M 10.796875 72.90625 \r\nL 49.515625 72.90625 \r\nL 49.515625 64.59375 \r\nL 19.828125 64.59375 \r\nL 19.828125 46.734375 \r\nQ 21.96875 47.46875 24.109375 47.828125 \r\nQ 26.265625 48.1875 28.421875 48.1875 \r\nQ 40.625 48.1875 47.75 41.5 \r\nQ 54.890625 34.8125 54.890625 23.390625 \r\nQ 54.890625 11.625 47.5625 5.09375 \r\nQ 40.234375 -1.421875 26.90625 -1.421875 \r\nQ 22.3125 -1.421875 17.546875 -0.640625 \r\nQ 12.796875 0.140625 7.71875 1.703125 \r\nL 7.71875 11.625 \r\nQ 12.109375 9.234375 16.796875 8.0625 \r\nQ 21.484375 6.890625 26.703125 6.890625 \r\nQ 35.15625 6.890625 40.078125 11.328125 \r\nQ 45.015625 15.765625 45.015625 23.390625 \r\nQ 45.015625 31 40.078125 35.4375 \r\nQ 35.15625 39.890625 26.703125 39.890625 \r\nQ 22.75 39.890625 18.8125 39.015625 \r\nQ 14.890625 38.140625 10.796875 36.28125 \r\nz\r\n\" id=\"DejaVuSans-53\"/>\r\n       </defs>\r\n       <use xlink:href=\"#DejaVuSans-53\"/>\r\n      </g>\r\n     </g>\r\n    </g>\r\n   </g>\r\n   <g id=\"matplotlib.axis_2\">\r\n    <g id=\"ytick_1\">\r\n     <g id=\"line2d_7\">\r\n      <defs>\r\n       <path d=\"M 0 0 \r\nL -3.5 0 \r\n\" id=\"ma6aacdb1b0\" style=\"stroke:#000000;stroke-width:0.8;\"/>\r\n      </defs>\r\n      <g>\r\n       <use style=\"stroke:#000000;stroke-width:0.8;\" x=\"20.5625\" xlink:href=\"#ma6aacdb1b0\" y=\"228.439219\"/>\r\n      </g>\r\n     </g>\r\n     <g id=\"text_7\">\r\n      <!-- 0 -->\r\n      <g transform=\"translate(7.2 232.238437)scale(0.1 -0.1)\">\r\n       <use xlink:href=\"#DejaVuSans-48\"/>\r\n      </g>\r\n     </g>\r\n    </g>\r\n    <g id=\"ytick_2\">\r\n     <g id=\"line2d_8\">\r\n      <g>\r\n       <use style=\"stroke:#000000;stroke-width:0.8;\" x=\"20.5625\" xlink:href=\"#ma6aacdb1b0\" y=\"184.951219\"/>\r\n      </g>\r\n     </g>\r\n     <g id=\"text_8\">\r\n      <!-- 1 -->\r\n      <g transform=\"translate(7.2 188.750437)scale(0.1 -0.1)\">\r\n       <use xlink:href=\"#DejaVuSans-49\"/>\r\n      </g>\r\n     </g>\r\n    </g>\r\n    <g id=\"ytick_3\">\r\n     <g id=\"line2d_9\">\r\n      <g>\r\n       <use style=\"stroke:#000000;stroke-width:0.8;\" x=\"20.5625\" xlink:href=\"#ma6aacdb1b0\" y=\"141.463219\"/>\r\n      </g>\r\n     </g>\r\n     <g id=\"text_9\">\r\n      <!-- 2 -->\r\n      <g transform=\"translate(7.2 145.262437)scale(0.1 -0.1)\">\r\n       <use xlink:href=\"#DejaVuSans-50\"/>\r\n      </g>\r\n     </g>\r\n    </g>\r\n    <g id=\"ytick_4\">\r\n     <g id=\"line2d_10\">\r\n      <g>\r\n       <use style=\"stroke:#000000;stroke-width:0.8;\" x=\"20.5625\" xlink:href=\"#ma6aacdb1b0\" y=\"97.975219\"/>\r\n      </g>\r\n     </g>\r\n     <g id=\"text_10\">\r\n      <!-- 3 -->\r\n      <g transform=\"translate(7.2 101.774437)scale(0.1 -0.1)\">\r\n       <use xlink:href=\"#DejaVuSans-51\"/>\r\n      </g>\r\n     </g>\r\n    </g>\r\n    <g id=\"ytick_5\">\r\n     <g id=\"line2d_11\">\r\n      <g>\r\n       <use style=\"stroke:#000000;stroke-width:0.8;\" x=\"20.5625\" xlink:href=\"#ma6aacdb1b0\" y=\"54.487219\"/>\r\n      </g>\r\n     </g>\r\n     <g id=\"text_11\">\r\n      <!-- 4 -->\r\n      <g transform=\"translate(7.2 58.286437)scale(0.1 -0.1)\">\r\n       <use xlink:href=\"#DejaVuSans-52\"/>\r\n      </g>\r\n     </g>\r\n    </g>\r\n    <g id=\"ytick_6\">\r\n     <g id=\"line2d_12\">\r\n      <g>\r\n       <use style=\"stroke:#000000;stroke-width:0.8;\" x=\"20.5625\" xlink:href=\"#ma6aacdb1b0\" y=\"10.999219\"/>\r\n      </g>\r\n     </g>\r\n     <g id=\"text_12\">\r\n      <!-- 5 -->\r\n      <g transform=\"translate(7.2 14.798437)scale(0.1 -0.1)\">\r\n       <use xlink:href=\"#DejaVuSans-53\"/>\r\n      </g>\r\n     </g>\r\n    </g>\r\n   </g>\r\n   <g id=\"patch_3\">\r\n    <path d=\"M 20.5625 228.439219 \r\nL 20.5625 10.999219 \r\n\" style=\"fill:none;stroke:#000000;stroke-linecap:square;stroke-linejoin:miter;stroke-width:0.8;\"/>\r\n   </g>\r\n   <g id=\"patch_4\">\r\n    <path d=\"M 238.0025 228.439219 \r\nL 238.0025 10.999219 \r\n\" style=\"fill:none;stroke:#000000;stroke-linecap:square;stroke-linejoin:miter;stroke-width:0.8;\"/>\r\n   </g>\r\n   <g id=\"patch_5\">\r\n    <path d=\"M 20.5625 228.439219 \r\nL 238.0025 228.439219 \r\n\" style=\"fill:none;stroke:#000000;stroke-linecap:square;stroke-linejoin:miter;stroke-width:0.8;\"/>\r\n   </g>\r\n   <g id=\"patch_6\">\r\n    <path d=\"M 20.5625 10.999219 \r\nL 238.0025 10.999219 \r\n\" style=\"fill:none;stroke:#000000;stroke-linecap:square;stroke-linejoin:miter;stroke-width:0.8;\"/>\r\n   </g>\r\n  </g>\r\n  <g id=\"axes_2\">\r\n   <g id=\"patch_7\">\r\n    <path clip-path=\"url(#p371056fba9)\" d=\"M 254.7425 228.439219 \r\nL 254.7425 227.589844 \r\nL 254.7425 11.848594 \r\nL 254.7425 10.999219 \r\nL 265.6145 10.999219 \r\nL 265.6145 11.848594 \r\nL 265.6145 227.589844 \r\nL 265.6145 228.439219 \r\nz\r\n\" style=\"fill:#ffffff;stroke:#ffffff;stroke-linejoin:miter;stroke-width:0.01;\"/>\r\n   </g>\r\n   <image height=\"217\" id=\"image45b2a115ce\" transform=\"scale(1 -1)translate(0 -217)\" width=\"11\" x=\"255\" xlink:href=\"data:image/png;base64,\r\niVBORw0KGgoAAAANSUhEUgAAAAsAAADZCAYAAAD2WsoCAAABSElEQVR4nN2awQ0CMQwEYztHZdRA/41AaMHzGMl3vK3V7qxD0HHxzs9Zzc+OjO7s2iuyP8yUq4gNoBwJPCPlpSkHosEa1IaHcBZpaDZEdBaNw2y0Z00aomftWJ2a0WB/1gx4NBsooLdIhxxYjwZUBsNwn4nyHWmIdSMbmrJGw9wNS9nkfEN0M7ZuirJHoz+LL3piA92Dmo3n1/14dDcM6NW9on++x6C7Hw3gmAcEnr1SRM4zaICfSG4pXsARyuA5GaTBbMxAl2JAi4bnOZMMezaWha7yB2x4AUUaYHhrNLyAng1GQ/RslbKZMhgusW6LxhVfSRnSsAIWUb6S0CANlrd1xAasG9kY0SDizGgwG1ZAVMpLDKjthnasrgVowIDWPciWn30VeAHbs1S5L7z2i/zdgJSLKYPhIsNI+Qrwug7zTN45SfCQ6g9eiIFo/nbsswAAAABJRU5ErkJggg==\" y=\"-11\"/>\r\n   <g id=\"matplotlib.axis_3\"/>\r\n   <g id=\"matplotlib.axis_4\">\r\n    <g id=\"ytick_7\">\r\n     <g id=\"line2d_13\">\r\n      <defs>\r\n       <path d=\"M 0 0 \r\nL 3.5 0 \r\n\" id=\"m791fc3a91e\" style=\"stroke:#000000;stroke-width:0.8;\"/>\r\n      </defs>\r\n      <g>\r\n       <use style=\"stroke:#000000;stroke-width:0.8;\" x=\"265.6145\" xlink:href=\"#m791fc3a91e\" y=\"201.955892\"/>\r\n      </g>\r\n     </g>\r\n     <g id=\"text_13\">\r\n      <!-- −0.75 -->\r\n      <g transform=\"translate(272.6145 205.75511)scale(0.1 -0.1)\">\r\n       <defs>\r\n        <path d=\"M 10.59375 35.5 \r\nL 73.1875 35.5 \r\nL 73.1875 27.203125 \r\nL 10.59375 27.203125 \r\nz\r\n\" id=\"DejaVuSans-8722\"/>\r\n        <path d=\"M 10.6875 12.40625 \r\nL 21 12.40625 \r\nL 21 0 \r\nL 10.6875 0 \r\nz\r\n\" id=\"DejaVuSans-46\"/>\r\n        <path d=\"M 8.203125 72.90625 \r\nL 55.078125 72.90625 \r\nL 55.078125 68.703125 \r\nL 28.609375 0 \r\nL 18.3125 0 \r\nL 43.21875 64.59375 \r\nL 8.203125 64.59375 \r\nz\r\n\" id=\"DejaVuSans-55\"/>\r\n       </defs>\r\n       <use xlink:href=\"#DejaVuSans-8722\"/>\r\n       <use x=\"83.789062\" xlink:href=\"#DejaVuSans-48\"/>\r\n       <use x=\"147.412109\" xlink:href=\"#DejaVuSans-46\"/>\r\n       <use x=\"179.199219\" xlink:href=\"#DejaVuSans-55\"/>\r\n       <use x=\"242.822266\" xlink:href=\"#DejaVuSans-53\"/>\r\n      </g>\r\n     </g>\r\n    </g>\r\n    <g id=\"ytick_8\">\r\n     <g id=\"line2d_14\">\r\n      <g>\r\n       <use style=\"stroke:#000000;stroke-width:0.8;\" x=\"265.6145\" xlink:href=\"#m791fc3a91e\" y=\"175.434266\"/>\r\n      </g>\r\n     </g>\r\n     <g id=\"text_14\">\r\n      <!-- −0.50 -->\r\n      <g transform=\"translate(272.6145 179.233485)scale(0.1 -0.1)\">\r\n       <use xlink:href=\"#DejaVuSans-8722\"/>\r\n       <use x=\"83.789062\" xlink:href=\"#DejaVuSans-48\"/>\r\n       <use x=\"147.412109\" xlink:href=\"#DejaVuSans-46\"/>\r\n       <use x=\"179.199219\" xlink:href=\"#DejaVuSans-53\"/>\r\n       <use x=\"242.822266\" xlink:href=\"#DejaVuSans-48\"/>\r\n      </g>\r\n     </g>\r\n    </g>\r\n    <g id=\"ytick_9\">\r\n     <g id=\"line2d_15\">\r\n      <g>\r\n       <use style=\"stroke:#000000;stroke-width:0.8;\" x=\"265.6145\" xlink:href=\"#m791fc3a91e\" y=\"148.912641\"/>\r\n      </g>\r\n     </g>\r\n     <g id=\"text_15\">\r\n      <!-- −0.25 -->\r\n      <g transform=\"translate(272.6145 152.71186)scale(0.1 -0.1)\">\r\n       <use xlink:href=\"#DejaVuSans-8722\"/>\r\n       <use x=\"83.789062\" xlink:href=\"#DejaVuSans-48\"/>\r\n       <use x=\"147.412109\" xlink:href=\"#DejaVuSans-46\"/>\r\n       <use x=\"179.199219\" xlink:href=\"#DejaVuSans-50\"/>\r\n       <use x=\"242.822266\" xlink:href=\"#DejaVuSans-53\"/>\r\n      </g>\r\n     </g>\r\n    </g>\r\n    <g id=\"ytick_10\">\r\n     <g id=\"line2d_16\">\r\n      <g>\r\n       <use style=\"stroke:#000000;stroke-width:0.8;\" x=\"265.6145\" xlink:href=\"#m791fc3a91e\" y=\"122.391016\"/>\r\n      </g>\r\n     </g>\r\n     <g id=\"text_16\">\r\n      <!-- 0.00 -->\r\n      <g transform=\"translate(272.6145 126.190235)scale(0.1 -0.1)\">\r\n       <use xlink:href=\"#DejaVuSans-48\"/>\r\n       <use x=\"63.623047\" xlink:href=\"#DejaVuSans-46\"/>\r\n       <use x=\"95.410156\" xlink:href=\"#DejaVuSans-48\"/>\r\n       <use x=\"159.033203\" xlink:href=\"#DejaVuSans-48\"/>\r\n      </g>\r\n     </g>\r\n    </g>\r\n    <g id=\"ytick_11\">\r\n     <g id=\"line2d_17\">\r\n      <g>\r\n       <use style=\"stroke:#000000;stroke-width:0.8;\" x=\"265.6145\" xlink:href=\"#m791fc3a91e\" y=\"95.869391\"/>\r\n      </g>\r\n     </g>\r\n     <g id=\"text_17\">\r\n      <!-- 0.25 -->\r\n      <g transform=\"translate(272.6145 99.66861)scale(0.1 -0.1)\">\r\n       <use xlink:href=\"#DejaVuSans-48\"/>\r\n       <use x=\"63.623047\" xlink:href=\"#DejaVuSans-46\"/>\r\n       <use x=\"95.410156\" xlink:href=\"#DejaVuSans-50\"/>\r\n       <use x=\"159.033203\" xlink:href=\"#DejaVuSans-53\"/>\r\n      </g>\r\n     </g>\r\n    </g>\r\n    <g id=\"ytick_12\">\r\n     <g id=\"line2d_18\">\r\n      <g>\r\n       <use style=\"stroke:#000000;stroke-width:0.8;\" x=\"265.6145\" xlink:href=\"#m791fc3a91e\" y=\"69.347766\"/>\r\n      </g>\r\n     </g>\r\n     <g id=\"text_18\">\r\n      <!-- 0.50 -->\r\n      <g transform=\"translate(272.6145 73.146985)scale(0.1 -0.1)\">\r\n       <use xlink:href=\"#DejaVuSans-48\"/>\r\n       <use x=\"63.623047\" xlink:href=\"#DejaVuSans-46\"/>\r\n       <use x=\"95.410156\" xlink:href=\"#DejaVuSans-53\"/>\r\n       <use x=\"159.033203\" xlink:href=\"#DejaVuSans-48\"/>\r\n      </g>\r\n     </g>\r\n    </g>\r\n    <g id=\"ytick_13\">\r\n     <g id=\"line2d_19\">\r\n      <g>\r\n       <use style=\"stroke:#000000;stroke-width:0.8;\" x=\"265.6145\" xlink:href=\"#m791fc3a91e\" y=\"42.826141\"/>\r\n      </g>\r\n     </g>\r\n     <g id=\"text_19\">\r\n      <!-- 0.75 -->\r\n      <g transform=\"translate(272.6145 46.62536)scale(0.1 -0.1)\">\r\n       <use xlink:href=\"#DejaVuSans-48\"/>\r\n       <use x=\"63.623047\" xlink:href=\"#DejaVuSans-46\"/>\r\n       <use x=\"95.410156\" xlink:href=\"#DejaVuSans-55\"/>\r\n       <use x=\"159.033203\" xlink:href=\"#DejaVuSans-53\"/>\r\n      </g>\r\n     </g>\r\n    </g>\r\n    <g id=\"ytick_14\">\r\n     <g id=\"line2d_20\">\r\n      <g>\r\n       <use style=\"stroke:#000000;stroke-width:0.8;\" x=\"265.6145\" xlink:href=\"#m791fc3a91e\" y=\"16.304516\"/>\r\n      </g>\r\n     </g>\r\n     <g id=\"text_20\">\r\n      <!-- 1.00 -->\r\n      <g transform=\"translate(272.6145 20.103735)scale(0.1 -0.1)\">\r\n       <use xlink:href=\"#DejaVuSans-49\"/>\r\n       <use x=\"63.623047\" xlink:href=\"#DejaVuSans-46\"/>\r\n       <use x=\"95.410156\" xlink:href=\"#DejaVuSans-48\"/>\r\n       <use x=\"159.033203\" xlink:href=\"#DejaVuSans-48\"/>\r\n      </g>\r\n     </g>\r\n    </g>\r\n   </g>\r\n   <g id=\"patch_8\">\r\n    <path d=\"M 254.7425 228.439219 \r\nL 254.7425 227.589844 \r\nL 254.7425 11.848594 \r\nL 254.7425 10.999219 \r\nL 265.6145 10.999219 \r\nL 265.6145 11.848594 \r\nL 265.6145 227.589844 \r\nL 265.6145 228.439219 \r\nz\r\n\" style=\"fill:none;stroke:#000000;stroke-linejoin:miter;stroke-width:0.8;\"/>\r\n   </g>\r\n  </g>\r\n </g>\r\n <defs>\r\n  <clipPath id=\"p9c2b0e8f6b\">\r\n   <rect height=\"217.44\" width=\"217.44\" x=\"20.5625\" y=\"10.999219\"/>\r\n  </clipPath>\r\n  <clipPath id=\"p371056fba9\">\r\n   <rect height=\"217.44\" width=\"10.872\" x=\"254.7425\" y=\"10.999219\"/>\r\n  </clipPath>\r\n </defs>\r\n</svg>\r\n",
      "image/png": "[encoded data removed]"
     },
     "metadata": {
      "needs_background": "light"
     }
    }
   ],
   "source": [
    "plt.imshow(z, origin='lower', extent=[0, 5, 0, 5], cmap='viridis')\n",
    "\n",
    "plt.colorbar();"
   ]
  }
 ]
}