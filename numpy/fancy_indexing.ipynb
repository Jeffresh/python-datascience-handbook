{
 "metadata": {
  "language_info": {
   "codemirror_mode": {
    "name": "ipython",
    "version": 3
   },
   "file_extension": ".py",
   "mimetype": "text/x-python",
   "name": "python",
   "nbconvert_exporter": "python",
   "pygments_lexer": "ipython3",
   "version": "3.8.6-final"
  },
  "orig_nbformat": 2,
  "kernelspec": {
   "name": "python3",
   "display_name": "Python 3",
   "language": "python"
  }
 },
 "nbformat": 4,
 "nbformat_minor": 2,
 "cells": [
  {
   "source": [
    "# Fancy Indexing\n",
    "\n",
    "In the previous sections, we saw how to access and modify portions of arrays using simple indices `(arr[0])`, `slices(arr[:5])`, and Boolean masks `(arr[arr > 0])`. In this section, we'll llok at another style of array indexing, known as *fancy indexing*. Fancy indexing islike the simple indexing we've already seen, but we pass arrays of indices in place of single scalars. this allows us to very quickly access and modify copmlicated subsets of an array's values."
   ],
   "cell_type": "markdown",
   "metadata": {}
  },
  {
   "source": [
    "## Exploring Fancy Indexing\n",
    "\n",
    "Fancy indexing is conceptually sipmle: it means passing and array of indices to access multiple array elements at once. For example, consider the following array:"
   ],
   "cell_type": "markdown",
   "metadata": {}
  },
  {
   "cell_type": "code",
   "execution_count": 2,
   "metadata": {},
   "outputs": [
    {
     "output_type": "stream",
     "name": "stdout",
     "text": [
      "[51 92 14 71 60 20 82 86 74 74]\n"
     ]
    }
   ],
   "source": [
    "import numpy as np \n",
    "rand = np.random.RandomState(42)\n",
    "\n",
    "x = rand.randint(100, size=10)\n",
    "print(x)"
   ]
  },
  {
   "source": [
    "Suppose we want to access three different elements. We could do it like this:"
   ],
   "cell_type": "markdown",
   "metadata": {}
  },
  {
   "cell_type": "code",
   "execution_count": 3,
   "metadata": {},
   "outputs": [
    {
     "output_type": "execute_result",
     "data": {
      "text/plain": [
       "[71, 86, 14]"
      ]
     },
     "metadata": {},
     "execution_count": 3
    }
   ],
   "source": [
    "[x[3], x[7], x[2]]"
   ]
  },
  {
   "source": [
    "When using fancy indexing, the shape of the result reflects the shape of the index arrays rather than the shape of the array being indexed:"
   ],
   "cell_type": "markdown",
   "metadata": {}
  },
  {
   "cell_type": "code",
   "execution_count": 4,
   "metadata": {},
   "outputs": [],
   "source": [
    "ind = np.array([[3, 7], [4, 5]])"
   ]
  },
  {
   "cell_type": "code",
   "execution_count": 5,
   "metadata": {},
   "outputs": [
    {
     "output_type": "execute_result",
     "data": {
      "text/plain": [
       "array([[71, 86],\n",
       "       [60, 20]])"
      ]
     },
     "metadata": {},
     "execution_count": 5
    }
   ],
   "source": [
    "x[ind]"
   ]
  },
  {
   "source": [
    "Fancy indexing also works in multiple dimensions. Consider the following array:"
   ],
   "cell_type": "markdown",
   "metadata": {}
  },
  {
   "cell_type": "code",
   "execution_count": 6,
   "metadata": {},
   "outputs": [
    {
     "output_type": "execute_result",
     "data": {
      "text/plain": [
       "array([[ 0,  1,  2,  3],\n",
       "       [ 4,  5,  6,  7],\n",
       "       [ 8,  9, 10, 11]])"
      ]
     },
     "metadata": {},
     "execution_count": 6
    }
   ],
   "source": [
    "X = np.arange(12).reshape((3, 4))\n",
    "X"
   ]
  },
  {
   "source": [
    "Like with standard indexing, the first index refers to the row, and the second to the column:"
   ],
   "cell_type": "markdown",
   "metadata": {}
  },
  {
   "cell_type": "code",
   "execution_count": 7,
   "metadata": {},
   "outputs": [
    {
     "output_type": "execute_result",
     "data": {
      "text/plain": [
       "array([ 2,  5, 11])"
      ]
     },
     "metadata": {},
     "execution_count": 7
    }
   ],
   "source": [
    "row = np.array([0, 1, 2])\n",
    "col = np.array([2, 1, 3])\n",
    "X[row, col]"
   ]
  },
  {
   "source": [
    "Notice that the first value in the result is `X[0, 2]`, the seconds is `X[1, 1]`, and the third is `X[2, 3]`. The pairing of the indices in fancy indexing follows all the broadcasting rules that were mentioned. So for example, if we combine a column vector and a row vector within the indices, we get a two-dimensional result:"
   ],
   "cell_type": "markdown",
   "metadata": {}
  },
  {
   "cell_type": "code",
   "execution_count": 8,
   "metadata": {},
   "outputs": [
    {
     "output_type": "execute_result",
     "data": {
      "text/plain": [
       "array([[ 2,  1,  3],\n",
       "       [ 6,  5,  7],\n",
       "       [10,  9, 11]])"
      ]
     },
     "metadata": {},
     "execution_count": 8
    }
   ],
   "source": [
    "X[row[:, np.newaxis], col]"
   ]
  },
  {
   "source": [
    "Here, each row value is matched with each column vector, exactly as we saw in broadcasting of arithmetic operations. For example:"
   ],
   "cell_type": "markdown",
   "metadata": {}
  },
  {
   "cell_type": "code",
   "execution_count": 9,
   "metadata": {},
   "outputs": [
    {
     "output_type": "execute_result",
     "data": {
      "text/plain": [
       "array([[0, 0, 0],\n",
       "       [2, 1, 3],\n",
       "       [4, 2, 6]])"
      ]
     },
     "metadata": {},
     "execution_count": 9
    }
   ],
   "source": [
    "row[:, np.newaxis] * col"
   ]
  },
  {
   "source": [
    "It is always important to remember with fancy indexing that the return value deflects the *broadcasted shape of the indices*, rather than the shape of the array being indexed"
   ],
   "cell_type": "markdown",
   "metadata": {}
  },
  {
   "source": [
    "## Combined Indexing\n",
    "For even more powerful operations, fancy indexing can be combined with the other indexing schemes we've seen:"
   ],
   "cell_type": "markdown",
   "metadata": {}
  },
  {
   "cell_type": "code",
   "execution_count": 10,
   "metadata": {},
   "outputs": [
    {
     "output_type": "stream",
     "name": "stdout",
     "text": [
      "[[ 0  1  2  3]\n [ 4  5  6  7]\n [ 8  9 10 11]]\n"
     ]
    }
   ],
   "source": [
    "print(X)"
   ]
  },
  {
   "source": [
    "We can also combine fancy indexing with slicing:"
   ],
   "cell_type": "markdown",
   "metadata": {}
  },
  {
   "cell_type": "code",
   "execution_count": 11,
   "metadata": {},
   "outputs": [
    {
     "output_type": "execute_result",
     "data": {
      "text/plain": [
       "array([[ 6,  4,  5],\n",
       "       [10,  8,  9]])"
      ]
     },
     "metadata": {},
     "execution_count": 11
    }
   ],
   "source": [
    "X[1:, [2, 0, 1]]"
   ]
  },
  {
   "source": [
    "And we can combine fancy indexing with masking:"
   ],
   "cell_type": "markdown",
   "metadata": {}
  },
  {
   "cell_type": "code",
   "execution_count": 12,
   "metadata": {},
   "outputs": [
    {
     "output_type": "execute_result",
     "data": {
      "text/plain": [
       "array([[ 0,  2],\n",
       "       [ 4,  6],\n",
       "       [ 8, 10]])"
      ]
     },
     "metadata": {},
     "execution_count": 12
    }
   ],
   "source": [
    "mask = np.array([1, 0, 1, 0], dtype=bool)\n",
    "X[row[:, np.newaxis], mask]"
   ]
  },
  {
   "source": [
    "All of these indexing options combined lead to a very flexible set of operations for accessing and modifying array values."
   ],
   "cell_type": "markdown",
   "metadata": {}
  },
  {
   "source": [
    "## Example: Selecting Random Points\n",
    "One common use of fancy indexing is the selection of subsets of rows from a matrix.\n",
    "For example, we might have an **N** by **D** matrix representing **N** points in **D** dimensions, such as the following points \n",
    "draw from a two-dimensional normal distribution:"
   ],
   "cell_type": "markdown",
   "metadata": {}
  },
  {
   "cell_type": "code",
   "execution_count": 13,
   "metadata": {},
   "outputs": [
    {
     "output_type": "execute_result",
     "data": {
      "text/plain": [
       "(100, 2)"
      ]
     },
     "metadata": {},
     "execution_count": 13
    }
   ],
   "source": [
    "mean = [0, 0]\n",
    "cov =  [[1, 2], [2, 5]]\n",
    "X = rand.multivariate_normal(mean, cov, 100)\n",
    "X.shape"
   ]
  },
  {
   "source": [
    "Using the plotting tools, we can visualize these points as a scatter-plot:"
   ],
   "cell_type": "markdown",
   "metadata": {}
  },
  {
   "cell_type": "code",
   "execution_count": 14,
   "metadata": {},
   "outputs": [
    {
     "output_type": "execute_result",
     "data": {
      "text/plain": [
       "<matplotlib.collections.PathCollection at 0x2a909567760>"
      ]
     },
     "metadata": {},
     "execution_count": 14
    },
    {
     "output_type": "display_data",
     "data": {
      "text/plain": "<Figure size 432x288 with 1 Axes>",
      "image/svg+xml": "<?xml version=\"1.0\" encoding=\"utf-8\" standalone=\"no\"?>\r\n<!DOCTYPE svg PUBLIC \"-//W3C//DTD SVG 1.1//EN\"\r\n  \"http://www.w3.org/Graphics/SVG/1.1/DTD/svg11.dtd\">\r\n<!-- Created with matplotlib (https://matplotlib.org/) -->\r\n<svg height=\"251.399844pt\" version=\"1.1\" viewBox=\"0 0 371.241719 251.399844\" width=\"371.241719pt\" xmlns=\"http://www.w3.org/2000/svg\" xmlns:xlink=\"http://www.w3.org/1999/xlink\">\r\n <metadata>\r\n  <rdf:RDF xmlns:cc=\"http://creativecommons.org/ns#\" xmlns:dc=\"http://purl.org/dc/elements/1.1/\" xmlns:rdf=\"http://www.w3.org/1999/02/22-rdf-syntax-ns#\">\r\n   <cc:Work>\r\n    <dc:type rdf:resource=\"http://purl.org/dc/dcmitype/StillImage\"/>\r\n    <dc:date>2021-02-14T09:59:20.530059</dc:date>\r\n    <dc:format>image/svg+xml</dc:format>\r\n    <dc:creator>\r\n     <cc:Agent>\r\n      <dc:title>Matplotlib v3.3.3, https://matplotlib.org/</dc:title>\r\n     </cc:Agent>\r\n    </dc:creator>\r\n   </cc:Work>\r\n  </rdf:RDF>\r\n </metadata>\r\n <defs>\r\n  <style type=\"text/css\">*{stroke-linecap:butt;stroke-linejoin:round;}</style>\r\n </defs>\r\n <g id=\"figure_1\">\r\n  <g id=\"patch_1\">\r\n   <path d=\"M 0 251.399844 \r\nL 371.241719 251.399844 \r\nL 371.241719 0 \r\nL 0 0 \r\nz\r\n\" style=\"fill:#ffffff;\"/>\r\n  </g>\r\n  <g id=\"axes_1\">\r\n   <g id=\"patch_2\">\r\n    <path d=\"M 29.241719 224.64 \r\nL 364.041719 224.64 \r\nL 364.041719 7.2 \r\nL 29.241719 7.2 \r\nz\r\n\" style=\"fill:#eaeaf2;\"/>\r\n   </g>\r\n   <g id=\"matplotlib.axis_1\">\r\n    <g id=\"xtick_1\">\r\n     <g id=\"line2d_1\">\r\n      <path clip-path=\"url(#p7bab7ca1a6)\" d=\"M 45.804631 224.64 \r\nL 45.804631 7.2 \r\n\" style=\"fill:none;stroke:#ffffff;stroke-linecap:round;\"/>\r\n     </g>\r\n     <g id=\"text_1\">\r\n      <!-- −3 -->\r\n      <g style=\"fill:#262626;\" transform=\"translate(39.533772 242.013594)scale(0.11 -0.11)\">\r\n       <defs>\r\n        <path d=\"M 52.828125 31.203125 \r\nL 5.5625 31.203125 \r\nL 5.5625 39.40625 \r\nL 52.828125 39.40625 \r\nz\r\n\" id=\"ArialMT-8722\"/>\r\n        <path d=\"M 4.203125 18.890625 \r\nL 12.984375 20.0625 \r\nQ 14.5 12.59375 18.140625 9.296875 \r\nQ 21.78125 6 27 6 \r\nQ 33.203125 6 37.46875 10.296875 \r\nQ 41.75 14.59375 41.75 20.953125 \r\nQ 41.75 27 37.796875 30.921875 \r\nQ 33.84375 34.859375 27.734375 34.859375 \r\nQ 25.25 34.859375 21.53125 33.890625 \r\nL 22.515625 41.609375 \r\nQ 23.390625 41.5 23.921875 41.5 \r\nQ 29.546875 41.5 34.03125 44.421875 \r\nQ 38.53125 47.359375 38.53125 53.46875 \r\nQ 38.53125 58.296875 35.25 61.46875 \r\nQ 31.984375 64.65625 26.8125 64.65625 \r\nQ 21.6875 64.65625 18.265625 61.421875 \r\nQ 14.84375 58.203125 13.875 51.765625 \r\nL 5.078125 53.328125 \r\nQ 6.6875 62.15625 12.390625 67.015625 \r\nQ 18.109375 71.875 26.609375 71.875 \r\nQ 32.46875 71.875 37.390625 69.359375 \r\nQ 42.328125 66.84375 44.9375 62.5 \r\nQ 47.5625 58.15625 47.5625 53.265625 \r\nQ 47.5625 48.640625 45.0625 44.828125 \r\nQ 42.578125 41.015625 37.703125 38.765625 \r\nQ 44.046875 37.3125 47.5625 32.6875 \r\nQ 51.078125 28.078125 51.078125 21.140625 \r\nQ 51.078125 11.765625 44.234375 5.25 \r\nQ 37.40625 -1.265625 26.953125 -1.265625 \r\nQ 17.53125 -1.265625 11.296875 4.34375 \r\nQ 5.078125 9.96875 4.203125 18.890625 \r\nz\r\n\" id=\"ArialMT-51\"/>\r\n       </defs>\r\n       <use xlink:href=\"#ArialMT-8722\"/>\r\n       <use x=\"58.398438\" xlink:href=\"#ArialMT-51\"/>\r\n      </g>\r\n     </g>\r\n    </g>\r\n    <g id=\"xtick_2\">\r\n     <g id=\"line2d_2\">\r\n      <path clip-path=\"url(#p7bab7ca1a6)\" d=\"M 102.754093 224.64 \r\nL 102.754093 7.2 \r\n\" style=\"fill:none;stroke:#ffffff;stroke-linecap:round;\"/>\r\n     </g>\r\n     <g id=\"text_2\">\r\n      <!-- −2 -->\r\n      <g style=\"fill:#262626;\" transform=\"translate(96.483233 242.013594)scale(0.11 -0.11)\">\r\n       <defs>\r\n        <path d=\"M 50.34375 8.453125 \r\nL 50.34375 0 \r\nL 3.03125 0 \r\nQ 2.9375 3.171875 4.046875 6.109375 \r\nQ 5.859375 10.9375 9.828125 15.625 \r\nQ 13.8125 20.3125 21.34375 26.46875 \r\nQ 33.015625 36.03125 37.109375 41.625 \r\nQ 41.21875 47.21875 41.21875 52.203125 \r\nQ 41.21875 57.421875 37.46875 61 \r\nQ 33.734375 64.59375 27.734375 64.59375 \r\nQ 21.390625 64.59375 17.578125 60.78125 \r\nQ 13.765625 56.984375 13.71875 50.25 \r\nL 4.6875 51.171875 \r\nQ 5.609375 61.28125 11.65625 66.578125 \r\nQ 17.71875 71.875 27.9375 71.875 \r\nQ 38.234375 71.875 44.234375 66.15625 \r\nQ 50.25 60.453125 50.25 52 \r\nQ 50.25 47.703125 48.484375 43.546875 \r\nQ 46.734375 39.40625 42.65625 34.8125 \r\nQ 38.578125 30.21875 29.109375 22.21875 \r\nQ 21.1875 15.578125 18.9375 13.203125 \r\nQ 16.703125 10.84375 15.234375 8.453125 \r\nz\r\n\" id=\"ArialMT-50\"/>\r\n       </defs>\r\n       <use xlink:href=\"#ArialMT-8722\"/>\r\n       <use x=\"58.398438\" xlink:href=\"#ArialMT-50\"/>\r\n      </g>\r\n     </g>\r\n    </g>\r\n    <g id=\"xtick_3\">\r\n     <g id=\"line2d_3\">\r\n      <path clip-path=\"url(#p7bab7ca1a6)\" d=\"M 159.703554 224.64 \r\nL 159.703554 7.2 \r\n\" style=\"fill:none;stroke:#ffffff;stroke-linecap:round;\"/>\r\n     </g>\r\n     <g id=\"text_3\">\r\n      <!-- −1 -->\r\n      <g style=\"fill:#262626;\" transform=\"translate(153.432695 242.013594)scale(0.11 -0.11)\">\r\n       <defs>\r\n        <path d=\"M 37.25 0 \r\nL 28.46875 0 \r\nL 28.46875 56 \r\nQ 25.296875 52.984375 20.140625 49.953125 \r\nQ 14.984375 46.921875 10.890625 45.40625 \r\nL 10.890625 53.90625 \r\nQ 18.265625 57.375 23.78125 62.296875 \r\nQ 29.296875 67.234375 31.59375 71.875 \r\nL 37.25 71.875 \r\nz\r\n\" id=\"ArialMT-49\"/>\r\n       </defs>\r\n       <use xlink:href=\"#ArialMT-8722\"/>\r\n       <use x=\"58.398438\" xlink:href=\"#ArialMT-49\"/>\r\n      </g>\r\n     </g>\r\n    </g>\r\n    <g id=\"xtick_4\">\r\n     <g id=\"line2d_4\">\r\n      <path clip-path=\"url(#p7bab7ca1a6)\" d=\"M 216.653016 224.64 \r\nL 216.653016 7.2 \r\n\" style=\"fill:none;stroke:#ffffff;stroke-linecap:round;\"/>\r\n     </g>\r\n     <g id=\"text_4\">\r\n      <!-- 0 -->\r\n      <g style=\"fill:#262626;\" transform=\"translate(213.5945 242.013594)scale(0.11 -0.11)\">\r\n       <defs>\r\n        <path d=\"M 4.15625 35.296875 \r\nQ 4.15625 48 6.765625 55.734375 \r\nQ 9.375 63.484375 14.515625 67.671875 \r\nQ 19.671875 71.875 27.484375 71.875 \r\nQ 33.25 71.875 37.59375 69.546875 \r\nQ 41.9375 67.234375 44.765625 62.859375 \r\nQ 47.609375 58.5 49.21875 52.21875 \r\nQ 50.828125 45.953125 50.828125 35.296875 \r\nQ 50.828125 22.703125 48.234375 14.96875 \r\nQ 45.65625 7.234375 40.5 3 \r\nQ 35.359375 -1.21875 27.484375 -1.21875 \r\nQ 17.140625 -1.21875 11.234375 6.203125 \r\nQ 4.15625 15.140625 4.15625 35.296875 \r\nz\r\nM 13.1875 35.296875 \r\nQ 13.1875 17.671875 17.3125 11.828125 \r\nQ 21.4375 6 27.484375 6 \r\nQ 33.546875 6 37.671875 11.859375 \r\nQ 41.796875 17.71875 41.796875 35.296875 \r\nQ 41.796875 52.984375 37.671875 58.78125 \r\nQ 33.546875 64.59375 27.390625 64.59375 \r\nQ 21.34375 64.59375 17.71875 59.46875 \r\nQ 13.1875 52.9375 13.1875 35.296875 \r\nz\r\n\" id=\"ArialMT-48\"/>\r\n       </defs>\r\n       <use xlink:href=\"#ArialMT-48\"/>\r\n      </g>\r\n     </g>\r\n    </g>\r\n    <g id=\"xtick_5\">\r\n     <g id=\"line2d_5\">\r\n      <path clip-path=\"url(#p7bab7ca1a6)\" d=\"M 273.602478 224.64 \r\nL 273.602478 7.2 \r\n\" style=\"fill:none;stroke:#ffffff;stroke-linecap:round;\"/>\r\n     </g>\r\n     <g id=\"text_5\">\r\n      <!-- 1 -->\r\n      <g style=\"fill:#262626;\" transform=\"translate(270.543962 242.013594)scale(0.11 -0.11)\">\r\n       <use xlink:href=\"#ArialMT-49\"/>\r\n      </g>\r\n     </g>\r\n    </g>\r\n    <g id=\"xtick_6\">\r\n     <g id=\"line2d_6\">\r\n      <path clip-path=\"url(#p7bab7ca1a6)\" d=\"M 330.551939 224.64 \r\nL 330.551939 7.2 \r\n\" style=\"fill:none;stroke:#ffffff;stroke-linecap:round;\"/>\r\n     </g>\r\n     <g id=\"text_6\">\r\n      <!-- 2 -->\r\n      <g style=\"fill:#262626;\" transform=\"translate(327.493424 242.013594)scale(0.11 -0.11)\">\r\n       <use xlink:href=\"#ArialMT-50\"/>\r\n      </g>\r\n     </g>\r\n    </g>\r\n   </g>\r\n   <g id=\"matplotlib.axis_2\">\r\n    <g id=\"ytick_1\">\r\n     <g id=\"line2d_7\">\r\n      <path clip-path=\"url(#p7bab7ca1a6)\" d=\"M 29.241719 219.571552 \r\nL 364.041719 219.571552 \r\n\" style=\"fill:none;stroke:#ffffff;stroke-linecap:round;\"/>\r\n     </g>\r\n     <g id=\"text_7\">\r\n      <!-- −8 -->\r\n      <g style=\"fill:#262626;\" transform=\"translate(7.2 223.508349)scale(0.11 -0.11)\">\r\n       <defs>\r\n        <path d=\"M 17.671875 38.8125 \r\nQ 12.203125 40.828125 9.5625 44.53125 \r\nQ 6.9375 48.25 6.9375 53.421875 \r\nQ 6.9375 61.234375 12.546875 66.546875 \r\nQ 18.171875 71.875 27.484375 71.875 \r\nQ 36.859375 71.875 42.578125 66.421875 \r\nQ 48.296875 60.984375 48.296875 53.171875 \r\nQ 48.296875 48.1875 45.671875 44.5 \r\nQ 43.0625 40.828125 37.75 38.8125 \r\nQ 44.34375 36.671875 47.78125 31.875 \r\nQ 51.21875 27.09375 51.21875 20.453125 \r\nQ 51.21875 11.28125 44.71875 5.03125 \r\nQ 38.234375 -1.21875 27.640625 -1.21875 \r\nQ 17.046875 -1.21875 10.546875 5.046875 \r\nQ 4.046875 11.328125 4.046875 20.703125 \r\nQ 4.046875 27.6875 7.59375 32.390625 \r\nQ 11.140625 37.109375 17.671875 38.8125 \r\nz\r\nM 15.921875 53.71875 \r\nQ 15.921875 48.640625 19.1875 45.40625 \r\nQ 22.46875 42.1875 27.6875 42.1875 \r\nQ 32.765625 42.1875 36.015625 45.375 \r\nQ 39.265625 48.578125 39.265625 53.21875 \r\nQ 39.265625 58.0625 35.90625 61.359375 \r\nQ 32.5625 64.65625 27.59375 64.65625 \r\nQ 22.5625 64.65625 19.234375 61.421875 \r\nQ 15.921875 58.203125 15.921875 53.71875 \r\nz\r\nM 13.09375 20.65625 \r\nQ 13.09375 16.890625 14.875 13.375 \r\nQ 16.65625 9.859375 20.171875 7.921875 \r\nQ 23.6875 6 27.734375 6 \r\nQ 34.03125 6 38.125 10.046875 \r\nQ 42.234375 14.109375 42.234375 20.359375 \r\nQ 42.234375 26.703125 38.015625 30.859375 \r\nQ 33.796875 35.015625 27.4375 35.015625 \r\nQ 21.234375 35.015625 17.15625 30.90625 \r\nQ 13.09375 26.8125 13.09375 20.65625 \r\nz\r\n\" id=\"ArialMT-56\"/>\r\n       </defs>\r\n       <use xlink:href=\"#ArialMT-8722\"/>\r\n       <use x=\"58.398438\" xlink:href=\"#ArialMT-56\"/>\r\n      </g>\r\n     </g>\r\n    </g>\r\n    <g id=\"ytick_2\">\r\n     <g id=\"line2d_8\">\r\n      <path clip-path=\"url(#p7bab7ca1a6)\" d=\"M 29.241719 190.598735 \r\nL 364.041719 190.598735 \r\n\" style=\"fill:none;stroke:#ffffff;stroke-linecap:round;\"/>\r\n     </g>\r\n     <g id=\"text_8\">\r\n      <!-- −6 -->\r\n      <g style=\"fill:#262626;\" transform=\"translate(7.2 194.535532)scale(0.11 -0.11)\">\r\n       <defs>\r\n        <path d=\"M 49.75 54.046875 \r\nL 41.015625 53.375 \r\nQ 39.84375 58.546875 37.703125 60.890625 \r\nQ 34.125 64.65625 28.90625 64.65625 \r\nQ 24.703125 64.65625 21.53125 62.3125 \r\nQ 17.390625 59.28125 14.984375 53.46875 \r\nQ 12.59375 47.65625 12.5 36.921875 \r\nQ 15.671875 41.75 20.265625 44.09375 \r\nQ 24.859375 46.4375 29.890625 46.4375 \r\nQ 38.671875 46.4375 44.84375 39.96875 \r\nQ 51.03125 33.5 51.03125 23.25 \r\nQ 51.03125 16.5 48.125 10.71875 \r\nQ 45.21875 4.9375 40.140625 1.859375 \r\nQ 35.0625 -1.21875 28.609375 -1.21875 \r\nQ 17.625 -1.21875 10.6875 6.859375 \r\nQ 3.765625 14.9375 3.765625 33.5 \r\nQ 3.765625 54.25 11.421875 63.671875 \r\nQ 18.109375 71.875 29.4375 71.875 \r\nQ 37.890625 71.875 43.28125 67.140625 \r\nQ 48.6875 62.40625 49.75 54.046875 \r\nz\r\nM 13.875 23.1875 \r\nQ 13.875 18.65625 15.796875 14.5 \r\nQ 17.71875 10.359375 21.1875 8.171875 \r\nQ 24.65625 6 28.46875 6 \r\nQ 34.03125 6 38.03125 10.484375 \r\nQ 42.046875 14.984375 42.046875 22.703125 \r\nQ 42.046875 30.125 38.078125 34.390625 \r\nQ 34.125 38.671875 28.125 38.671875 \r\nQ 22.171875 38.671875 18.015625 34.390625 \r\nQ 13.875 30.125 13.875 23.1875 \r\nz\r\n\" id=\"ArialMT-54\"/>\r\n       </defs>\r\n       <use xlink:href=\"#ArialMT-8722\"/>\r\n       <use x=\"58.398438\" xlink:href=\"#ArialMT-54\"/>\r\n      </g>\r\n     </g>\r\n    </g>\r\n    <g id=\"ytick_3\">\r\n     <g id=\"line2d_9\">\r\n      <path clip-path=\"url(#p7bab7ca1a6)\" d=\"M 29.241719 161.625918 \r\nL 364.041719 161.625918 \r\n\" style=\"fill:none;stroke:#ffffff;stroke-linecap:round;\"/>\r\n     </g>\r\n     <g id=\"text_9\">\r\n      <!-- −4 -->\r\n      <g style=\"fill:#262626;\" transform=\"translate(7.2 165.562715)scale(0.11 -0.11)\">\r\n       <defs>\r\n        <path d=\"M 32.328125 0 \r\nL 32.328125 17.140625 \r\nL 1.265625 17.140625 \r\nL 1.265625 25.203125 \r\nL 33.9375 71.578125 \r\nL 41.109375 71.578125 \r\nL 41.109375 25.203125 \r\nL 50.78125 25.203125 \r\nL 50.78125 17.140625 \r\nL 41.109375 17.140625 \r\nL 41.109375 0 \r\nz\r\nM 32.328125 25.203125 \r\nL 32.328125 57.46875 \r\nL 9.90625 25.203125 \r\nz\r\n\" id=\"ArialMT-52\"/>\r\n       </defs>\r\n       <use xlink:href=\"#ArialMT-8722\"/>\r\n       <use x=\"58.398438\" xlink:href=\"#ArialMT-52\"/>\r\n      </g>\r\n     </g>\r\n    </g>\r\n    <g id=\"ytick_4\">\r\n     <g id=\"line2d_10\">\r\n      <path clip-path=\"url(#p7bab7ca1a6)\" d=\"M 29.241719 132.653102 \r\nL 364.041719 132.653102 \r\n\" style=\"fill:none;stroke:#ffffff;stroke-linecap:round;\"/>\r\n     </g>\r\n     <g id=\"text_10\">\r\n      <!-- −2 -->\r\n      <g style=\"fill:#262626;\" transform=\"translate(7.2 136.589899)scale(0.11 -0.11)\">\r\n       <use xlink:href=\"#ArialMT-8722\"/>\r\n       <use x=\"58.398438\" xlink:href=\"#ArialMT-50\"/>\r\n      </g>\r\n     </g>\r\n    </g>\r\n    <g id=\"ytick_5\">\r\n     <g id=\"line2d_11\">\r\n      <path clip-path=\"url(#p7bab7ca1a6)\" d=\"M 29.241719 103.680285 \r\nL 364.041719 103.680285 \r\n\" style=\"fill:none;stroke:#ffffff;stroke-linecap:round;\"/>\r\n     </g>\r\n     <g id=\"text_11\">\r\n      <!-- 0 -->\r\n      <g style=\"fill:#262626;\" transform=\"translate(13.624688 107.617082)scale(0.11 -0.11)\">\r\n       <use xlink:href=\"#ArialMT-48\"/>\r\n      </g>\r\n     </g>\r\n    </g>\r\n    <g id=\"ytick_6\">\r\n     <g id=\"line2d_12\">\r\n      <path clip-path=\"url(#p7bab7ca1a6)\" d=\"M 29.241719 74.707468 \r\nL 364.041719 74.707468 \r\n\" style=\"fill:none;stroke:#ffffff;stroke-linecap:round;\"/>\r\n     </g>\r\n     <g id=\"text_12\">\r\n      <!-- 2 -->\r\n      <g style=\"fill:#262626;\" transform=\"translate(13.624688 78.644265)scale(0.11 -0.11)\">\r\n       <use xlink:href=\"#ArialMT-50\"/>\r\n      </g>\r\n     </g>\r\n    </g>\r\n    <g id=\"ytick_7\">\r\n     <g id=\"line2d_13\">\r\n      <path clip-path=\"url(#p7bab7ca1a6)\" d=\"M 29.241719 45.734652 \r\nL 364.041719 45.734652 \r\n\" style=\"fill:none;stroke:#ffffff;stroke-linecap:round;\"/>\r\n     </g>\r\n     <g id=\"text_13\">\r\n      <!-- 4 -->\r\n      <g style=\"fill:#262626;\" transform=\"translate(13.624688 49.671449)scale(0.11 -0.11)\">\r\n       <use xlink:href=\"#ArialMT-52\"/>\r\n      </g>\r\n     </g>\r\n    </g>\r\n    <g id=\"ytick_8\">\r\n     <g id=\"line2d_14\">\r\n      <path clip-path=\"url(#p7bab7ca1a6)\" d=\"M 29.241719 16.761835 \r\nL 364.041719 16.761835 \r\n\" style=\"fill:none;stroke:#ffffff;stroke-linecap:round;\"/>\r\n     </g>\r\n     <g id=\"text_14\">\r\n      <!-- 6 -->\r\n      <g style=\"fill:#262626;\" transform=\"translate(13.624688 20.698632)scale(0.11 -0.11)\">\r\n       <use xlink:href=\"#ArialMT-54\"/>\r\n      </g>\r\n     </g>\r\n    </g>\r\n   </g>\r\n   <g id=\"PathCollection_1\">\r\n    <defs>\r\n     <path d=\"M 0 3 \r\nC 0.795609 3 1.55874 2.683901 2.12132 2.12132 \r\nC 2.683901 1.55874 3 0.795609 3 0 \r\nC 3 -0.795609 2.683901 -1.55874 2.12132 -2.12132 \r\nC 1.55874 -2.683901 0.795609 -3 0 -3 \r\nC -0.795609 -3 -1.55874 -2.683901 -2.12132 -2.12132 \r\nC -2.683901 -1.55874 -3 -0.795609 -3 0 \r\nC -3 0.795609 -2.683901 1.55874 -2.12132 2.12132 \r\nC -1.55874 2.683901 -0.795609 3 0 3 \r\nz\r\n\" id=\"m45f0c6274f\" style=\"stroke:#4c72b0;\"/>\r\n    </defs>\r\n    <g clip-path=\"url(#p7bab7ca1a6)\">\r\n     <use style=\"fill:#4c72b0;stroke:#4c72b0;\" x=\"179.948633\" xlink:href=\"#m45f0c6274f\" y=\"110.375991\"/>\r\n     <use style=\"fill:#4c72b0;stroke:#4c72b0;\" x=\"258.660944\" xlink:href=\"#m45f0c6274f\" y=\"86.11741\"/>\r\n     <use style=\"fill:#4c72b0;stroke:#4c72b0;\" x=\"266.854971\" xlink:href=\"#m45f0c6274f\" y=\"87.340315\"/>\r\n     <use style=\"fill:#4c72b0;stroke:#4c72b0;\" x=\"333.398833\" xlink:href=\"#m45f0c6274f\" y=\"17.083636\"/>\r\n     <use style=\"fill:#4c72b0;stroke:#4c72b0;\" x=\"206.906981\" xlink:href=\"#m45f0c6274f\" y=\"133.559769\"/>\r\n     <use style=\"fill:#4c72b0;stroke:#4c72b0;\" x=\"255.35415\" xlink:href=\"#m45f0c6274f\" y=\"91.554419\"/>\r\n     <use style=\"fill:#4c72b0;stroke:#4c72b0;\" x=\"300.289127\" xlink:href=\"#m45f0c6274f\" y=\"85.867639\"/>\r\n     <use style=\"fill:#4c72b0;stroke:#4c72b0;\" x=\"236.746\" xlink:href=\"#m45f0c6274f\" y=\"81.968723\"/>\r\n     <use style=\"fill:#4c72b0;stroke:#4c72b0;\" x=\"73.395219\" xlink:href=\"#m45f0c6274f\" y=\"185.474892\"/>\r\n     <use style=\"fill:#4c72b0;stroke:#4c72b0;\" x=\"221.455729\" xlink:href=\"#m45f0c6274f\" y=\"108.812905\"/>\r\n     <use style=\"fill:#4c72b0;stroke:#4c72b0;\" x=\"227.586898\" xlink:href=\"#m45f0c6274f\" y=\"82.109836\"/>\r\n     <use style=\"fill:#4c72b0;stroke:#4c72b0;\" x=\"215.191569\" xlink:href=\"#m45f0c6274f\" y=\"114.543337\"/>\r\n     <use style=\"fill:#4c72b0;stroke:#4c72b0;\" x=\"273.926649\" xlink:href=\"#m45f0c6274f\" y=\"71.044245\"/>\r\n     <use style=\"fill:#4c72b0;stroke:#4c72b0;\" x=\"244.851122\" xlink:href=\"#m45f0c6274f\" y=\"86.450198\"/>\r\n     <use style=\"fill:#4c72b0;stroke:#4c72b0;\" x=\"220.240103\" xlink:href=\"#m45f0c6274f\" y=\"95.372435\"/>\r\n     <use style=\"fill:#4c72b0;stroke:#4c72b0;\" x=\"259.418093\" xlink:href=\"#m45f0c6274f\" y=\"60.295375\"/>\r\n     <use style=\"fill:#4c72b0;stroke:#4c72b0;\" x=\"44.459901\" xlink:href=\"#m45f0c6274f\" y=\"190.709708\"/>\r\n     <use style=\"fill:#4c72b0;stroke:#4c72b0;\" x=\"185.932722\" xlink:href=\"#m45f0c6274f\" y=\"108.71996\"/>\r\n     <use style=\"fill:#4c72b0;stroke:#4c72b0;\" x=\"304.251183\" xlink:href=\"#m45f0c6274f\" y=\"74.711312\"/>\r\n     <use style=\"fill:#4c72b0;stroke:#4c72b0;\" x=\"187.673253\" xlink:href=\"#m45f0c6274f\" y=\"129.915121\"/>\r\n     <use style=\"fill:#4c72b0;stroke:#4c72b0;\" x=\"306.699\" xlink:href=\"#m45f0c6274f\" y=\"62.189717\"/>\r\n     <use style=\"fill:#4c72b0;stroke:#4c72b0;\" x=\"273.206703\" xlink:href=\"#m45f0c6274f\" y=\"66.842209\"/>\r\n     <use style=\"fill:#4c72b0;stroke:#4c72b0;\" x=\"166.677701\" xlink:href=\"#m45f0c6274f\" y=\"120.450795\"/>\r\n     <use style=\"fill:#4c72b0;stroke:#4c72b0;\" x=\"153.144088\" xlink:href=\"#m45f0c6274f\" y=\"130.843461\"/>\r\n     <use style=\"fill:#4c72b0;stroke:#4c72b0;\" x=\"241.14076\" xlink:href=\"#m45f0c6274f\" y=\"98.418205\"/>\r\n     <use style=\"fill:#4c72b0;stroke:#4c72b0;\" x=\"272.038376\" xlink:href=\"#m45f0c6274f\" y=\"52.425096\"/>\r\n     <use style=\"fill:#4c72b0;stroke:#4c72b0;\" x=\"234.948028\" xlink:href=\"#m45f0c6274f\" y=\"98.879919\"/>\r\n     <use style=\"fill:#4c72b0;stroke:#4c72b0;\" x=\"174.158097\" xlink:href=\"#m45f0c6274f\" y=\"143.860755\"/>\r\n     <use style=\"fill:#4c72b0;stroke:#4c72b0;\" x=\"166.267576\" xlink:href=\"#m45f0c6274f\" y=\"129.972456\"/>\r\n     <use style=\"fill:#4c72b0;stroke:#4c72b0;\" x=\"272.909894\" xlink:href=\"#m45f0c6274f\" y=\"70.320926\"/>\r\n     <use style=\"fill:#4c72b0;stroke:#4c72b0;\" x=\"148.122181\" xlink:href=\"#m45f0c6274f\" y=\"133.290899\"/>\r\n     <use style=\"fill:#4c72b0;stroke:#4c72b0;\" x=\"130.601385\" xlink:href=\"#m45f0c6274f\" y=\"151.222853\"/>\r\n     <use style=\"fill:#4c72b0;stroke:#4c72b0;\" x=\"59.280174\" xlink:href=\"#m45f0c6274f\" y=\"214.756364\"/>\r\n     <use style=\"fill:#4c72b0;stroke:#4c72b0;\" x=\"238.953601\" xlink:href=\"#m45f0c6274f\" y=\"90.939601\"/>\r\n     <use style=\"fill:#4c72b0;stroke:#4c72b0;\" x=\"268.580118\" xlink:href=\"#m45f0c6274f\" y=\"55.445044\"/>\r\n     <use style=\"fill:#4c72b0;stroke:#4c72b0;\" x=\"168.700072\" xlink:href=\"#m45f0c6274f\" y=\"132.830784\"/>\r\n     <use style=\"fill:#4c72b0;stroke:#4c72b0;\" x=\"277.353669\" xlink:href=\"#m45f0c6274f\" y=\"89.845762\"/>\r\n     <use style=\"fill:#4c72b0;stroke:#4c72b0;\" x=\"241.971245\" xlink:href=\"#m45f0c6274f\" y=\"76.470711\"/>\r\n     <use style=\"fill:#4c72b0;stroke:#4c72b0;\" x=\"237.118785\" xlink:href=\"#m45f0c6274f\" y=\"97.805326\"/>\r\n     <use style=\"fill:#4c72b0;stroke:#4c72b0;\" x=\"165.028517\" xlink:href=\"#m45f0c6274f\" y=\"117.223113\"/>\r\n     <use style=\"fill:#4c72b0;stroke:#4c72b0;\" x=\"196.270582\" xlink:href=\"#m45f0c6274f\" y=\"111.265805\"/>\r\n     <use style=\"fill:#4c72b0;stroke:#4c72b0;\" x=\"140.647314\" xlink:href=\"#m45f0c6274f\" y=\"147.603541\"/>\r\n     <use style=\"fill:#4c72b0;stroke:#4c72b0;\" x=\"218.256222\" xlink:href=\"#m45f0c6274f\" y=\"92.141148\"/>\r\n     <use style=\"fill:#4c72b0;stroke:#4c72b0;\" x=\"238.171722\" xlink:href=\"#m45f0c6274f\" y=\"96.232912\"/>\r\n     <use style=\"fill:#4c72b0;stroke:#4c72b0;\" x=\"155.998937\" xlink:href=\"#m45f0c6274f\" y=\"145.506425\"/>\r\n     <use style=\"fill:#4c72b0;stroke:#4c72b0;\" x=\"348.823537\" xlink:href=\"#m45f0c6274f\" y=\"17.095218\"/>\r\n     <use style=\"fill:#4c72b0;stroke:#4c72b0;\" x=\"243.764231\" xlink:href=\"#m45f0c6274f\" y=\"91.564652\"/>\r\n     <use style=\"fill:#4c72b0;stroke:#4c72b0;\" x=\"196.441092\" xlink:href=\"#m45f0c6274f\" y=\"118.696479\"/>\r\n     <use style=\"fill:#4c72b0;stroke:#4c72b0;\" x=\"249.417683\" xlink:href=\"#m45f0c6274f\" y=\"115.268995\"/>\r\n     <use style=\"fill:#4c72b0;stroke:#4c72b0;\" x=\"235.674087\" xlink:href=\"#m45f0c6274f\" y=\"69.9852\"/>\r\n     <use style=\"fill:#4c72b0;stroke:#4c72b0;\" x=\"254.100772\" xlink:href=\"#m45f0c6274f\" y=\"106.923722\"/>\r\n     <use style=\"fill:#4c72b0;stroke:#4c72b0;\" x=\"294.715721\" xlink:href=\"#m45f0c6274f\" y=\"71.304856\"/>\r\n     <use style=\"fill:#4c72b0;stroke:#4c72b0;\" x=\"220.69617\" xlink:href=\"#m45f0c6274f\" y=\"107.980643\"/>\r\n     <use style=\"fill:#4c72b0;stroke:#4c72b0;\" x=\"251.249717\" xlink:href=\"#m45f0c6274f\" y=\"82.372338\"/>\r\n     <use style=\"fill:#4c72b0;stroke:#4c72b0;\" x=\"197.161421\" xlink:href=\"#m45f0c6274f\" y=\"119.711848\"/>\r\n     <use style=\"fill:#4c72b0;stroke:#4c72b0;\" x=\"256.07699\" xlink:href=\"#m45f0c6274f\" y=\"86.078676\"/>\r\n     <use style=\"fill:#4c72b0;stroke:#4c72b0;\" x=\"198.934366\" xlink:href=\"#m45f0c6274f\" y=\"114.677221\"/>\r\n     <use style=\"fill:#4c72b0;stroke:#4c72b0;\" x=\"201.340258\" xlink:href=\"#m45f0c6274f\" y=\"131.112735\"/>\r\n     <use style=\"fill:#4c72b0;stroke:#4c72b0;\" x=\"240.597358\" xlink:href=\"#m45f0c6274f\" y=\"76.852975\"/>\r\n     <use style=\"fill:#4c72b0;stroke:#4c72b0;\" x=\"228.678034\" xlink:href=\"#m45f0c6274f\" y=\"74.594258\"/>\r\n     <use style=\"fill:#4c72b0;stroke:#4c72b0;\" x=\"112.375111\" xlink:href=\"#m45f0c6274f\" y=\"145.886847\"/>\r\n     <use style=\"fill:#4c72b0;stroke:#4c72b0;\" x=\"261.311622\" xlink:href=\"#m45f0c6274f\" y=\"75.049239\"/>\r\n     <use style=\"fill:#4c72b0;stroke:#4c72b0;\" x=\"222.49564\" xlink:href=\"#m45f0c6274f\" y=\"85.617099\"/>\r\n     <use style=\"fill:#4c72b0;stroke:#4c72b0;\" x=\"107.822277\" xlink:href=\"#m45f0c6274f\" y=\"156.816565\"/>\r\n     <use style=\"fill:#4c72b0;stroke:#4c72b0;\" x=\"224.138314\" xlink:href=\"#m45f0c6274f\" y=\"104.815129\"/>\r\n     <use style=\"fill:#4c72b0;stroke:#4c72b0;\" x=\"209.152515\" xlink:href=\"#m45f0c6274f\" y=\"127.461051\"/>\r\n     <use style=\"fill:#4c72b0;stroke:#4c72b0;\" x=\"208.368417\" xlink:href=\"#m45f0c6274f\" y=\"123.110278\"/>\r\n     <use style=\"fill:#4c72b0;stroke:#4c72b0;\" x=\"187.510625\" xlink:href=\"#m45f0c6274f\" y=\"124.100438\"/>\r\n     <use style=\"fill:#4c72b0;stroke:#4c72b0;\" x=\"256.379847\" xlink:href=\"#m45f0c6274f\" y=\"93.168419\"/>\r\n     <use style=\"fill:#4c72b0;stroke:#4c72b0;\" x=\"223.303052\" xlink:href=\"#m45f0c6274f\" y=\"90.87645\"/>\r\n     <use style=\"fill:#4c72b0;stroke:#4c72b0;\" x=\"150.257664\" xlink:href=\"#m45f0c6274f\" y=\"136.199699\"/>\r\n     <use style=\"fill:#4c72b0;stroke:#4c72b0;\" x=\"89.555352\" xlink:href=\"#m45f0c6274f\" y=\"141.918333\"/>\r\n     <use style=\"fill:#4c72b0;stroke:#4c72b0;\" x=\"238.212507\" xlink:href=\"#m45f0c6274f\" y=\"93.668352\"/>\r\n     <use style=\"fill:#4c72b0;stroke:#4c72b0;\" x=\"266.469741\" xlink:href=\"#m45f0c6274f\" y=\"54.416718\"/>\r\n     <use style=\"fill:#4c72b0;stroke:#4c72b0;\" x=\"167.184228\" xlink:href=\"#m45f0c6274f\" y=\"147.656436\"/>\r\n     <use style=\"fill:#4c72b0;stroke:#4c72b0;\" x=\"157.631815\" xlink:href=\"#m45f0c6274f\" y=\"120.842206\"/>\r\n     <use style=\"fill:#4c72b0;stroke:#4c72b0;\" x=\"186.279044\" xlink:href=\"#m45f0c6274f\" y=\"109.046038\"/>\r\n     <use style=\"fill:#4c72b0;stroke:#4c72b0;\" x=\"233.973942\" xlink:href=\"#m45f0c6274f\" y=\"112.123571\"/>\r\n     <use style=\"fill:#4c72b0;stroke:#4c72b0;\" x=\"132.563345\" xlink:href=\"#m45f0c6274f\" y=\"134.543042\"/>\r\n     <use style=\"fill:#4c72b0;stroke:#4c72b0;\" x=\"198.809599\" xlink:href=\"#m45f0c6274f\" y=\"129.604615\"/>\r\n     <use style=\"fill:#4c72b0;stroke:#4c72b0;\" x=\"280.812017\" xlink:href=\"#m45f0c6274f\" y=\"82.004629\"/>\r\n     <use style=\"fill:#4c72b0;stroke:#4c72b0;\" x=\"148.498293\" xlink:href=\"#m45f0c6274f\" y=\"125.646525\"/>\r\n     <use style=\"fill:#4c72b0;stroke:#4c72b0;\" x=\"173.821238\" xlink:href=\"#m45f0c6274f\" y=\"115.236171\"/>\r\n     <use style=\"fill:#4c72b0;stroke:#4c72b0;\" x=\"259.124611\" xlink:href=\"#m45f0c6274f\" y=\"75.310907\"/>\r\n     <use style=\"fill:#4c72b0;stroke:#4c72b0;\" x=\"305.54791\" xlink:href=\"#m45f0c6274f\" y=\"61.190467\"/>\r\n     <use style=\"fill:#4c72b0;stroke:#4c72b0;\" x=\"175.643728\" xlink:href=\"#m45f0c6274f\" y=\"132.621371\"/>\r\n     <use style=\"fill:#4c72b0;stroke:#4c72b0;\" x=\"141.297965\" xlink:href=\"#m45f0c6274f\" y=\"141.521441\"/>\r\n     <use style=\"fill:#4c72b0;stroke:#4c72b0;\" x=\"70.739432\" xlink:href=\"#m45f0c6274f\" y=\"191.817164\"/>\r\n     <use style=\"fill:#4c72b0;stroke:#4c72b0;\" x=\"291.40277\" xlink:href=\"#m45f0c6274f\" y=\"58.317072\"/>\r\n     <use style=\"fill:#4c72b0;stroke:#4c72b0;\" x=\"246.025261\" xlink:href=\"#m45f0c6274f\" y=\"70.320312\"/>\r\n     <use style=\"fill:#4c72b0;stroke:#4c72b0;\" x=\"217.435908\" xlink:href=\"#m45f0c6274f\" y=\"105.351922\"/>\r\n     <use style=\"fill:#4c72b0;stroke:#4c72b0;\" x=\"207.049469\" xlink:href=\"#m45f0c6274f\" y=\"97.969402\"/>\r\n     <use style=\"fill:#4c72b0;stroke:#4c72b0;\" x=\"223.524339\" xlink:href=\"#m45f0c6274f\" y=\"87.276409\"/>\r\n     <use style=\"fill:#4c72b0;stroke:#4c72b0;\" x=\"169.097377\" xlink:href=\"#m45f0c6274f\" y=\"138.249493\"/>\r\n     <use style=\"fill:#4c72b0;stroke:#4c72b0;\" x=\"276.555811\" xlink:href=\"#m45f0c6274f\" y=\"74.936611\"/>\r\n     <use style=\"fill:#4c72b0;stroke:#4c72b0;\" x=\"177.275566\" xlink:href=\"#m45f0c6274f\" y=\"126.412339\"/>\r\n     <use style=\"fill:#4c72b0;stroke:#4c72b0;\" x=\"145.081193\" xlink:href=\"#m45f0c6274f\" y=\"119.990503\"/>\r\n     <use style=\"fill:#4c72b0;stroke:#4c72b0;\" x=\"222.131174\" xlink:href=\"#m45f0c6274f\" y=\"113.000199\"/>\r\n     <use style=\"fill:#4c72b0;stroke:#4c72b0;\" x=\"159.897929\" xlink:href=\"#m45f0c6274f\" y=\"137.728864\"/>\r\n     <use style=\"fill:#4c72b0;stroke:#4c72b0;\" x=\"147.513375\" xlink:href=\"#m45f0c6274f\" y=\"129.421724\"/>\r\n    </g>\r\n   </g>\r\n   <g id=\"patch_3\">\r\n    <path d=\"M 29.241719 224.64 \r\nL 29.241719 7.2 \r\n\" style=\"fill:none;stroke:#ffffff;stroke-linecap:square;stroke-linejoin:miter;stroke-width:1.25;\"/>\r\n   </g>\r\n   <g id=\"patch_4\">\r\n    <path d=\"M 364.041719 224.64 \r\nL 364.041719 7.2 \r\n\" style=\"fill:none;stroke:#ffffff;stroke-linecap:square;stroke-linejoin:miter;stroke-width:1.25;\"/>\r\n   </g>\r\n   <g id=\"patch_5\">\r\n    <path d=\"M 29.241719 224.64 \r\nL 364.041719 224.64 \r\n\" style=\"fill:none;stroke:#ffffff;stroke-linecap:square;stroke-linejoin:miter;stroke-width:1.25;\"/>\r\n   </g>\r\n   <g id=\"patch_6\">\r\n    <path d=\"M 29.241719 7.2 \r\nL 364.041719 7.2 \r\n\" style=\"fill:none;stroke:#ffffff;stroke-linecap:square;stroke-linejoin:miter;stroke-width:1.25;\"/>\r\n   </g>\r\n  </g>\r\n </g>\r\n <defs>\r\n  <clipPath id=\"p7bab7ca1a6\">\r\n   <rect height=\"217.44\" width=\"334.8\" x=\"29.241719\" y=\"7.2\"/>\r\n  </clipPath>\r\n </defs>\r\n</svg>\r\n",
      "image/png": "[encoded data removed]"
     },
     "metadata": {}
    }
   ],
   "source": [
    "%matplotlib inline\n",
    "import matplotlib.pyplot as plt \n",
    "import seaborn; seaborn.set() # for plot styling \n",
    "plt.scatter(X[:, 0], X[:, 1])"
   ]
  },
  {
   "source": [
    "Let's use fancy indexing to select 20 random points. We'll do this by first choosing 20 random indices with no repetas, and sue these indices to seelct a portion of original array:"
   ],
   "cell_type": "markdown",
   "metadata": {}
  },
  {
   "cell_type": "code",
   "execution_count": 15,
   "metadata": {},
   "outputs": [
    {
     "output_type": "execute_result",
     "data": {
      "text/plain": [
       "array([83, 82, 18, 58, 29, 89,  4, 11, 68, 53, 62, 95, 13, 55, 93,  2, 49,\n",
       "       61, 54, 80])"
      ]
     },
     "metadata": {},
     "execution_count": 15
    }
   ],
   "source": [
    "indices = np.random.choice(X.shape[0], 20, replace=False)\n",
    "indices"
   ]
  },
  {
   "cell_type": "code",
   "execution_count": 16,
   "metadata": {},
   "outputs": [
    {
     "output_type": "execute_result",
     "data": {
      "text/plain": [
       "(20, 2)"
      ]
     },
     "metadata": {},
     "execution_count": 16
    }
   ],
   "source": [
    "selection = X[indices] # fancy indexing here \n",
    "selection.shape"
   ]
  },
  {
   "source": [
    "Now to see which points were selected, let's over-plot large circles at the locations of the selected points:"
   ],
   "cell_type": "markdown",
   "metadata": {}
  },
  {
   "cell_type": "code",
   "execution_count": 17,
   "metadata": {},
   "outputs": [
    {
     "output_type": "display_data",
     "data": {
      "text/plain": "<Figure size 432x288 with 1 Axes>",
      "image/svg+xml": "<?xml version=\"1.0\" encoding=\"utf-8\" standalone=\"no\"?>\r\n<!DOCTYPE svg PUBLIC \"-//W3C//DTD SVG 1.1//EN\"\r\n  \"http://www.w3.org/Graphics/SVG/1.1/DTD/svg11.dtd\">\r\n<!-- Created with matplotlib (https://matplotlib.org/) -->\r\n<svg height=\"251.399844pt\" version=\"1.1\" viewBox=\"0 0 371.241719 251.399844\" width=\"371.241719pt\" xmlns=\"http://www.w3.org/2000/svg\" xmlns:xlink=\"http://www.w3.org/1999/xlink\">\r\n <metadata>\r\n  <rdf:RDF xmlns:cc=\"http://creativecommons.org/ns#\" xmlns:dc=\"http://purl.org/dc/elements/1.1/\" xmlns:rdf=\"http://www.w3.org/1999/02/22-rdf-syntax-ns#\">\r\n   <cc:Work>\r\n    <dc:type rdf:resource=\"http://purl.org/dc/dcmitype/StillImage\"/>\r\n    <dc:date>2021-02-14T09:59:21.459213</dc:date>\r\n    <dc:format>image/svg+xml</dc:format>\r\n    <dc:creator>\r\n     <cc:Agent>\r\n      <dc:title>Matplotlib v3.3.3, https://matplotlib.org/</dc:title>\r\n     </cc:Agent>\r\n    </dc:creator>\r\n   </cc:Work>\r\n  </rdf:RDF>\r\n </metadata>\r\n <defs>\r\n  <style type=\"text/css\">*{stroke-linecap:butt;stroke-linejoin:round;}</style>\r\n </defs>\r\n <g id=\"figure_1\">\r\n  <g id=\"patch_1\">\r\n   <path d=\"M 0 251.399844 \r\nL 371.241719 251.399844 \r\nL 371.241719 0 \r\nL 0 0 \r\nz\r\n\" style=\"fill:#ffffff;\"/>\r\n  </g>\r\n  <g id=\"axes_1\">\r\n   <g id=\"patch_2\">\r\n    <path d=\"M 29.241719 224.64 \r\nL 364.041719 224.64 \r\nL 364.041719 7.2 \r\nL 29.241719 7.2 \r\nz\r\n\" style=\"fill:#eaeaf2;\"/>\r\n   </g>\r\n   <g id=\"matplotlib.axis_1\">\r\n    <g id=\"xtick_1\">\r\n     <g id=\"line2d_1\">\r\n      <path clip-path=\"url(#p89ddc64c44)\" d=\"M 45.804631 224.64 \r\nL 45.804631 7.2 \r\n\" style=\"fill:none;stroke:#ffffff;stroke-linecap:round;\"/>\r\n     </g>\r\n     <g id=\"text_1\">\r\n      <!-- −3 -->\r\n      <g style=\"fill:#262626;\" transform=\"translate(39.533772 242.013594)scale(0.11 -0.11)\">\r\n       <defs>\r\n        <path d=\"M 52.828125 31.203125 \r\nL 5.5625 31.203125 \r\nL 5.5625 39.40625 \r\nL 52.828125 39.40625 \r\nz\r\n\" id=\"ArialMT-8722\"/>\r\n        <path d=\"M 4.203125 18.890625 \r\nL 12.984375 20.0625 \r\nQ 14.5 12.59375 18.140625 9.296875 \r\nQ 21.78125 6 27 6 \r\nQ 33.203125 6 37.46875 10.296875 \r\nQ 41.75 14.59375 41.75 20.953125 \r\nQ 41.75 27 37.796875 30.921875 \r\nQ 33.84375 34.859375 27.734375 34.859375 \r\nQ 25.25 34.859375 21.53125 33.890625 \r\nL 22.515625 41.609375 \r\nQ 23.390625 41.5 23.921875 41.5 \r\nQ 29.546875 41.5 34.03125 44.421875 \r\nQ 38.53125 47.359375 38.53125 53.46875 \r\nQ 38.53125 58.296875 35.25 61.46875 \r\nQ 31.984375 64.65625 26.8125 64.65625 \r\nQ 21.6875 64.65625 18.265625 61.421875 \r\nQ 14.84375 58.203125 13.875 51.765625 \r\nL 5.078125 53.328125 \r\nQ 6.6875 62.15625 12.390625 67.015625 \r\nQ 18.109375 71.875 26.609375 71.875 \r\nQ 32.46875 71.875 37.390625 69.359375 \r\nQ 42.328125 66.84375 44.9375 62.5 \r\nQ 47.5625 58.15625 47.5625 53.265625 \r\nQ 47.5625 48.640625 45.0625 44.828125 \r\nQ 42.578125 41.015625 37.703125 38.765625 \r\nQ 44.046875 37.3125 47.5625 32.6875 \r\nQ 51.078125 28.078125 51.078125 21.140625 \r\nQ 51.078125 11.765625 44.234375 5.25 \r\nQ 37.40625 -1.265625 26.953125 -1.265625 \r\nQ 17.53125 -1.265625 11.296875 4.34375 \r\nQ 5.078125 9.96875 4.203125 18.890625 \r\nz\r\n\" id=\"ArialMT-51\"/>\r\n       </defs>\r\n       <use xlink:href=\"#ArialMT-8722\"/>\r\n       <use x=\"58.398438\" xlink:href=\"#ArialMT-51\"/>\r\n      </g>\r\n     </g>\r\n    </g>\r\n    <g id=\"xtick_2\">\r\n     <g id=\"line2d_2\">\r\n      <path clip-path=\"url(#p89ddc64c44)\" d=\"M 102.754093 224.64 \r\nL 102.754093 7.2 \r\n\" style=\"fill:none;stroke:#ffffff;stroke-linecap:round;\"/>\r\n     </g>\r\n     <g id=\"text_2\">\r\n      <!-- −2 -->\r\n      <g style=\"fill:#262626;\" transform=\"translate(96.483233 242.013594)scale(0.11 -0.11)\">\r\n       <defs>\r\n        <path d=\"M 50.34375 8.453125 \r\nL 50.34375 0 \r\nL 3.03125 0 \r\nQ 2.9375 3.171875 4.046875 6.109375 \r\nQ 5.859375 10.9375 9.828125 15.625 \r\nQ 13.8125 20.3125 21.34375 26.46875 \r\nQ 33.015625 36.03125 37.109375 41.625 \r\nQ 41.21875 47.21875 41.21875 52.203125 \r\nQ 41.21875 57.421875 37.46875 61 \r\nQ 33.734375 64.59375 27.734375 64.59375 \r\nQ 21.390625 64.59375 17.578125 60.78125 \r\nQ 13.765625 56.984375 13.71875 50.25 \r\nL 4.6875 51.171875 \r\nQ 5.609375 61.28125 11.65625 66.578125 \r\nQ 17.71875 71.875 27.9375 71.875 \r\nQ 38.234375 71.875 44.234375 66.15625 \r\nQ 50.25 60.453125 50.25 52 \r\nQ 50.25 47.703125 48.484375 43.546875 \r\nQ 46.734375 39.40625 42.65625 34.8125 \r\nQ 38.578125 30.21875 29.109375 22.21875 \r\nQ 21.1875 15.578125 18.9375 13.203125 \r\nQ 16.703125 10.84375 15.234375 8.453125 \r\nz\r\n\" id=\"ArialMT-50\"/>\r\n       </defs>\r\n       <use xlink:href=\"#ArialMT-8722\"/>\r\n       <use x=\"58.398438\" xlink:href=\"#ArialMT-50\"/>\r\n      </g>\r\n     </g>\r\n    </g>\r\n    <g id=\"xtick_3\">\r\n     <g id=\"line2d_3\">\r\n      <path clip-path=\"url(#p89ddc64c44)\" d=\"M 159.703554 224.64 \r\nL 159.703554 7.2 \r\n\" style=\"fill:none;stroke:#ffffff;stroke-linecap:round;\"/>\r\n     </g>\r\n     <g id=\"text_3\">\r\n      <!-- −1 -->\r\n      <g style=\"fill:#262626;\" transform=\"translate(153.432695 242.013594)scale(0.11 -0.11)\">\r\n       <defs>\r\n        <path d=\"M 37.25 0 \r\nL 28.46875 0 \r\nL 28.46875 56 \r\nQ 25.296875 52.984375 20.140625 49.953125 \r\nQ 14.984375 46.921875 10.890625 45.40625 \r\nL 10.890625 53.90625 \r\nQ 18.265625 57.375 23.78125 62.296875 \r\nQ 29.296875 67.234375 31.59375 71.875 \r\nL 37.25 71.875 \r\nz\r\n\" id=\"ArialMT-49\"/>\r\n       </defs>\r\n       <use xlink:href=\"#ArialMT-8722\"/>\r\n       <use x=\"58.398438\" xlink:href=\"#ArialMT-49\"/>\r\n      </g>\r\n     </g>\r\n    </g>\r\n    <g id=\"xtick_4\">\r\n     <g id=\"line2d_4\">\r\n      <path clip-path=\"url(#p89ddc64c44)\" d=\"M 216.653016 224.64 \r\nL 216.653016 7.2 \r\n\" style=\"fill:none;stroke:#ffffff;stroke-linecap:round;\"/>\r\n     </g>\r\n     <g id=\"text_4\">\r\n      <!-- 0 -->\r\n      <g style=\"fill:#262626;\" transform=\"translate(213.5945 242.013594)scale(0.11 -0.11)\">\r\n       <defs>\r\n        <path d=\"M 4.15625 35.296875 \r\nQ 4.15625 48 6.765625 55.734375 \r\nQ 9.375 63.484375 14.515625 67.671875 \r\nQ 19.671875 71.875 27.484375 71.875 \r\nQ 33.25 71.875 37.59375 69.546875 \r\nQ 41.9375 67.234375 44.765625 62.859375 \r\nQ 47.609375 58.5 49.21875 52.21875 \r\nQ 50.828125 45.953125 50.828125 35.296875 \r\nQ 50.828125 22.703125 48.234375 14.96875 \r\nQ 45.65625 7.234375 40.5 3 \r\nQ 35.359375 -1.21875 27.484375 -1.21875 \r\nQ 17.140625 -1.21875 11.234375 6.203125 \r\nQ 4.15625 15.140625 4.15625 35.296875 \r\nz\r\nM 13.1875 35.296875 \r\nQ 13.1875 17.671875 17.3125 11.828125 \r\nQ 21.4375 6 27.484375 6 \r\nQ 33.546875 6 37.671875 11.859375 \r\nQ 41.796875 17.71875 41.796875 35.296875 \r\nQ 41.796875 52.984375 37.671875 58.78125 \r\nQ 33.546875 64.59375 27.390625 64.59375 \r\nQ 21.34375 64.59375 17.71875 59.46875 \r\nQ 13.1875 52.9375 13.1875 35.296875 \r\nz\r\n\" id=\"ArialMT-48\"/>\r\n       </defs>\r\n       <use xlink:href=\"#ArialMT-48\"/>\r\n      </g>\r\n     </g>\r\n    </g>\r\n    <g id=\"xtick_5\">\r\n     <g id=\"line2d_5\">\r\n      <path clip-path=\"url(#p89ddc64c44)\" d=\"M 273.602478 224.64 \r\nL 273.602478 7.2 \r\n\" style=\"fill:none;stroke:#ffffff;stroke-linecap:round;\"/>\r\n     </g>\r\n     <g id=\"text_5\">\r\n      <!-- 1 -->\r\n      <g style=\"fill:#262626;\" transform=\"translate(270.543962 242.013594)scale(0.11 -0.11)\">\r\n       <use xlink:href=\"#ArialMT-49\"/>\r\n      </g>\r\n     </g>\r\n    </g>\r\n    <g id=\"xtick_6\">\r\n     <g id=\"line2d_6\">\r\n      <path clip-path=\"url(#p89ddc64c44)\" d=\"M 330.551939 224.64 \r\nL 330.551939 7.2 \r\n\" style=\"fill:none;stroke:#ffffff;stroke-linecap:round;\"/>\r\n     </g>\r\n     <g id=\"text_6\">\r\n      <!-- 2 -->\r\n      <g style=\"fill:#262626;\" transform=\"translate(327.493424 242.013594)scale(0.11 -0.11)\">\r\n       <use xlink:href=\"#ArialMT-50\"/>\r\n      </g>\r\n     </g>\r\n    </g>\r\n   </g>\r\n   <g id=\"matplotlib.axis_2\">\r\n    <g id=\"ytick_1\">\r\n     <g id=\"line2d_7\">\r\n      <path clip-path=\"url(#p89ddc64c44)\" d=\"M 29.241719 219.571552 \r\nL 364.041719 219.571552 \r\n\" style=\"fill:none;stroke:#ffffff;stroke-linecap:round;\"/>\r\n     </g>\r\n     <g id=\"text_7\">\r\n      <!-- −8 -->\r\n      <g style=\"fill:#262626;\" transform=\"translate(7.2 223.508349)scale(0.11 -0.11)\">\r\n       <defs>\r\n        <path d=\"M 17.671875 38.8125 \r\nQ 12.203125 40.828125 9.5625 44.53125 \r\nQ 6.9375 48.25 6.9375 53.421875 \r\nQ 6.9375 61.234375 12.546875 66.546875 \r\nQ 18.171875 71.875 27.484375 71.875 \r\nQ 36.859375 71.875 42.578125 66.421875 \r\nQ 48.296875 60.984375 48.296875 53.171875 \r\nQ 48.296875 48.1875 45.671875 44.5 \r\nQ 43.0625 40.828125 37.75 38.8125 \r\nQ 44.34375 36.671875 47.78125 31.875 \r\nQ 51.21875 27.09375 51.21875 20.453125 \r\nQ 51.21875 11.28125 44.71875 5.03125 \r\nQ 38.234375 -1.21875 27.640625 -1.21875 \r\nQ 17.046875 -1.21875 10.546875 5.046875 \r\nQ 4.046875 11.328125 4.046875 20.703125 \r\nQ 4.046875 27.6875 7.59375 32.390625 \r\nQ 11.140625 37.109375 17.671875 38.8125 \r\nz\r\nM 15.921875 53.71875 \r\nQ 15.921875 48.640625 19.1875 45.40625 \r\nQ 22.46875 42.1875 27.6875 42.1875 \r\nQ 32.765625 42.1875 36.015625 45.375 \r\nQ 39.265625 48.578125 39.265625 53.21875 \r\nQ 39.265625 58.0625 35.90625 61.359375 \r\nQ 32.5625 64.65625 27.59375 64.65625 \r\nQ 22.5625 64.65625 19.234375 61.421875 \r\nQ 15.921875 58.203125 15.921875 53.71875 \r\nz\r\nM 13.09375 20.65625 \r\nQ 13.09375 16.890625 14.875 13.375 \r\nQ 16.65625 9.859375 20.171875 7.921875 \r\nQ 23.6875 6 27.734375 6 \r\nQ 34.03125 6 38.125 10.046875 \r\nQ 42.234375 14.109375 42.234375 20.359375 \r\nQ 42.234375 26.703125 38.015625 30.859375 \r\nQ 33.796875 35.015625 27.4375 35.015625 \r\nQ 21.234375 35.015625 17.15625 30.90625 \r\nQ 13.09375 26.8125 13.09375 20.65625 \r\nz\r\n\" id=\"ArialMT-56\"/>\r\n       </defs>\r\n       <use xlink:href=\"#ArialMT-8722\"/>\r\n       <use x=\"58.398438\" xlink:href=\"#ArialMT-56\"/>\r\n      </g>\r\n     </g>\r\n    </g>\r\n    <g id=\"ytick_2\">\r\n     <g id=\"line2d_8\">\r\n      <path clip-path=\"url(#p89ddc64c44)\" d=\"M 29.241719 190.598735 \r\nL 364.041719 190.598735 \r\n\" style=\"fill:none;stroke:#ffffff;stroke-linecap:round;\"/>\r\n     </g>\r\n     <g id=\"text_8\">\r\n      <!-- −6 -->\r\n      <g style=\"fill:#262626;\" transform=\"translate(7.2 194.535532)scale(0.11 -0.11)\">\r\n       <defs>\r\n        <path d=\"M 49.75 54.046875 \r\nL 41.015625 53.375 \r\nQ 39.84375 58.546875 37.703125 60.890625 \r\nQ 34.125 64.65625 28.90625 64.65625 \r\nQ 24.703125 64.65625 21.53125 62.3125 \r\nQ 17.390625 59.28125 14.984375 53.46875 \r\nQ 12.59375 47.65625 12.5 36.921875 \r\nQ 15.671875 41.75 20.265625 44.09375 \r\nQ 24.859375 46.4375 29.890625 46.4375 \r\nQ 38.671875 46.4375 44.84375 39.96875 \r\nQ 51.03125 33.5 51.03125 23.25 \r\nQ 51.03125 16.5 48.125 10.71875 \r\nQ 45.21875 4.9375 40.140625 1.859375 \r\nQ 35.0625 -1.21875 28.609375 -1.21875 \r\nQ 17.625 -1.21875 10.6875 6.859375 \r\nQ 3.765625 14.9375 3.765625 33.5 \r\nQ 3.765625 54.25 11.421875 63.671875 \r\nQ 18.109375 71.875 29.4375 71.875 \r\nQ 37.890625 71.875 43.28125 67.140625 \r\nQ 48.6875 62.40625 49.75 54.046875 \r\nz\r\nM 13.875 23.1875 \r\nQ 13.875 18.65625 15.796875 14.5 \r\nQ 17.71875 10.359375 21.1875 8.171875 \r\nQ 24.65625 6 28.46875 6 \r\nQ 34.03125 6 38.03125 10.484375 \r\nQ 42.046875 14.984375 42.046875 22.703125 \r\nQ 42.046875 30.125 38.078125 34.390625 \r\nQ 34.125 38.671875 28.125 38.671875 \r\nQ 22.171875 38.671875 18.015625 34.390625 \r\nQ 13.875 30.125 13.875 23.1875 \r\nz\r\n\" id=\"ArialMT-54\"/>\r\n       </defs>\r\n       <use xlink:href=\"#ArialMT-8722\"/>\r\n       <use x=\"58.398438\" xlink:href=\"#ArialMT-54\"/>\r\n      </g>\r\n     </g>\r\n    </g>\r\n    <g id=\"ytick_3\">\r\n     <g id=\"line2d_9\">\r\n      <path clip-path=\"url(#p89ddc64c44)\" d=\"M 29.241719 161.625918 \r\nL 364.041719 161.625918 \r\n\" style=\"fill:none;stroke:#ffffff;stroke-linecap:round;\"/>\r\n     </g>\r\n     <g id=\"text_9\">\r\n      <!-- −4 -->\r\n      <g style=\"fill:#262626;\" transform=\"translate(7.2 165.562715)scale(0.11 -0.11)\">\r\n       <defs>\r\n        <path d=\"M 32.328125 0 \r\nL 32.328125 17.140625 \r\nL 1.265625 17.140625 \r\nL 1.265625 25.203125 \r\nL 33.9375 71.578125 \r\nL 41.109375 71.578125 \r\nL 41.109375 25.203125 \r\nL 50.78125 25.203125 \r\nL 50.78125 17.140625 \r\nL 41.109375 17.140625 \r\nL 41.109375 0 \r\nz\r\nM 32.328125 25.203125 \r\nL 32.328125 57.46875 \r\nL 9.90625 25.203125 \r\nz\r\n\" id=\"ArialMT-52\"/>\r\n       </defs>\r\n       <use xlink:href=\"#ArialMT-8722\"/>\r\n       <use x=\"58.398438\" xlink:href=\"#ArialMT-52\"/>\r\n      </g>\r\n     </g>\r\n    </g>\r\n    <g id=\"ytick_4\">\r\n     <g id=\"line2d_10\">\r\n      <path clip-path=\"url(#p89ddc64c44)\" d=\"M 29.241719 132.653102 \r\nL 364.041719 132.653102 \r\n\" style=\"fill:none;stroke:#ffffff;stroke-linecap:round;\"/>\r\n     </g>\r\n     <g id=\"text_10\">\r\n      <!-- −2 -->\r\n      <g style=\"fill:#262626;\" transform=\"translate(7.2 136.589899)scale(0.11 -0.11)\">\r\n       <use xlink:href=\"#ArialMT-8722\"/>\r\n       <use x=\"58.398438\" xlink:href=\"#ArialMT-50\"/>\r\n      </g>\r\n     </g>\r\n    </g>\r\n    <g id=\"ytick_5\">\r\n     <g id=\"line2d_11\">\r\n      <path clip-path=\"url(#p89ddc64c44)\" d=\"M 29.241719 103.680285 \r\nL 364.041719 103.680285 \r\n\" style=\"fill:none;stroke:#ffffff;stroke-linecap:round;\"/>\r\n     </g>\r\n     <g id=\"text_11\">\r\n      <!-- 0 -->\r\n      <g style=\"fill:#262626;\" transform=\"translate(13.624688 107.617082)scale(0.11 -0.11)\">\r\n       <use xlink:href=\"#ArialMT-48\"/>\r\n      </g>\r\n     </g>\r\n    </g>\r\n    <g id=\"ytick_6\">\r\n     <g id=\"line2d_12\">\r\n      <path clip-path=\"url(#p89ddc64c44)\" d=\"M 29.241719 74.707468 \r\nL 364.041719 74.707468 \r\n\" style=\"fill:none;stroke:#ffffff;stroke-linecap:round;\"/>\r\n     </g>\r\n     <g id=\"text_12\">\r\n      <!-- 2 -->\r\n      <g style=\"fill:#262626;\" transform=\"translate(13.624688 78.644265)scale(0.11 -0.11)\">\r\n       <use xlink:href=\"#ArialMT-50\"/>\r\n      </g>\r\n     </g>\r\n    </g>\r\n    <g id=\"ytick_7\">\r\n     <g id=\"line2d_13\">\r\n      <path clip-path=\"url(#p89ddc64c44)\" d=\"M 29.241719 45.734652 \r\nL 364.041719 45.734652 \r\n\" style=\"fill:none;stroke:#ffffff;stroke-linecap:round;\"/>\r\n     </g>\r\n     <g id=\"text_13\">\r\n      <!-- 4 -->\r\n      <g style=\"fill:#262626;\" transform=\"translate(13.624688 49.671449)scale(0.11 -0.11)\">\r\n       <use xlink:href=\"#ArialMT-52\"/>\r\n      </g>\r\n     </g>\r\n    </g>\r\n    <g id=\"ytick_8\">\r\n     <g id=\"line2d_14\">\r\n      <path clip-path=\"url(#p89ddc64c44)\" d=\"M 29.241719 16.761835 \r\nL 364.041719 16.761835 \r\n\" style=\"fill:none;stroke:#ffffff;stroke-linecap:round;\"/>\r\n     </g>\r\n     <g id=\"text_14\">\r\n      <!-- 6 -->\r\n      <g style=\"fill:#262626;\" transform=\"translate(13.624688 20.698632)scale(0.11 -0.11)\">\r\n       <use xlink:href=\"#ArialMT-54\"/>\r\n      </g>\r\n     </g>\r\n    </g>\r\n   </g>\r\n   <g id=\"PathCollection_1\">\r\n    <defs>\r\n     <path d=\"M 0 3 \r\nC 0.795609 3 1.55874 2.683901 2.12132 2.12132 \r\nC 2.683901 1.55874 3 0.795609 3 0 \r\nC 3 -0.795609 2.683901 -1.55874 2.12132 -2.12132 \r\nC 1.55874 -2.683901 0.795609 -3 0 -3 \r\nC -0.795609 -3 -1.55874 -2.683901 -2.12132 -2.12132 \r\nC -2.683901 -1.55874 -3 -0.795609 -3 0 \r\nC -3 0.795609 -2.683901 1.55874 -2.12132 2.12132 \r\nC -1.55874 2.683901 -0.795609 3 0 3 \r\nz\r\n\" id=\"ma1a48b5dd2\" style=\"stroke:#4c72b0;stroke-opacity:0.3;\"/>\r\n    </defs>\r\n    <g clip-path=\"url(#p89ddc64c44)\">\r\n     <use style=\"fill:#4c72b0;fill-opacity:0.3;stroke:#4c72b0;stroke-opacity:0.3;\" x=\"179.948633\" xlink:href=\"#ma1a48b5dd2\" y=\"110.375991\"/>\r\n     <use style=\"fill:#4c72b0;fill-opacity:0.3;stroke:#4c72b0;stroke-opacity:0.3;\" x=\"258.660944\" xlink:href=\"#ma1a48b5dd2\" y=\"86.11741\"/>\r\n     <use style=\"fill:#4c72b0;fill-opacity:0.3;stroke:#4c72b0;stroke-opacity:0.3;\" x=\"266.854971\" xlink:href=\"#ma1a48b5dd2\" y=\"87.340315\"/>\r\n     <use style=\"fill:#4c72b0;fill-opacity:0.3;stroke:#4c72b0;stroke-opacity:0.3;\" x=\"333.398833\" xlink:href=\"#ma1a48b5dd2\" y=\"17.083636\"/>\r\n     <use style=\"fill:#4c72b0;fill-opacity:0.3;stroke:#4c72b0;stroke-opacity:0.3;\" x=\"206.906981\" xlink:href=\"#ma1a48b5dd2\" y=\"133.559769\"/>\r\n     <use style=\"fill:#4c72b0;fill-opacity:0.3;stroke:#4c72b0;stroke-opacity:0.3;\" x=\"255.35415\" xlink:href=\"#ma1a48b5dd2\" y=\"91.554419\"/>\r\n     <use style=\"fill:#4c72b0;fill-opacity:0.3;stroke:#4c72b0;stroke-opacity:0.3;\" x=\"300.289127\" xlink:href=\"#ma1a48b5dd2\" y=\"85.867639\"/>\r\n     <use style=\"fill:#4c72b0;fill-opacity:0.3;stroke:#4c72b0;stroke-opacity:0.3;\" x=\"236.746\" xlink:href=\"#ma1a48b5dd2\" y=\"81.968723\"/>\r\n     <use style=\"fill:#4c72b0;fill-opacity:0.3;stroke:#4c72b0;stroke-opacity:0.3;\" x=\"73.395219\" xlink:href=\"#ma1a48b5dd2\" y=\"185.474892\"/>\r\n     <use style=\"fill:#4c72b0;fill-opacity:0.3;stroke:#4c72b0;stroke-opacity:0.3;\" x=\"221.455729\" xlink:href=\"#ma1a48b5dd2\" y=\"108.812905\"/>\r\n     <use style=\"fill:#4c72b0;fill-opacity:0.3;stroke:#4c72b0;stroke-opacity:0.3;\" x=\"227.586898\" xlink:href=\"#ma1a48b5dd2\" y=\"82.109836\"/>\r\n     <use style=\"fill:#4c72b0;fill-opacity:0.3;stroke:#4c72b0;stroke-opacity:0.3;\" x=\"215.191569\" xlink:href=\"#ma1a48b5dd2\" y=\"114.543337\"/>\r\n     <use style=\"fill:#4c72b0;fill-opacity:0.3;stroke:#4c72b0;stroke-opacity:0.3;\" x=\"273.926649\" xlink:href=\"#ma1a48b5dd2\" y=\"71.044245\"/>\r\n     <use style=\"fill:#4c72b0;fill-opacity:0.3;stroke:#4c72b0;stroke-opacity:0.3;\" x=\"244.851122\" xlink:href=\"#ma1a48b5dd2\" y=\"86.450198\"/>\r\n     <use style=\"fill:#4c72b0;fill-opacity:0.3;stroke:#4c72b0;stroke-opacity:0.3;\" x=\"220.240103\" xlink:href=\"#ma1a48b5dd2\" y=\"95.372435\"/>\r\n     <use style=\"fill:#4c72b0;fill-opacity:0.3;stroke:#4c72b0;stroke-opacity:0.3;\" x=\"259.418093\" xlink:href=\"#ma1a48b5dd2\" y=\"60.295375\"/>\r\n     <use style=\"fill:#4c72b0;fill-opacity:0.3;stroke:#4c72b0;stroke-opacity:0.3;\" x=\"44.459901\" xlink:href=\"#ma1a48b5dd2\" y=\"190.709708\"/>\r\n     <use style=\"fill:#4c72b0;fill-opacity:0.3;stroke:#4c72b0;stroke-opacity:0.3;\" x=\"185.932722\" xlink:href=\"#ma1a48b5dd2\" y=\"108.71996\"/>\r\n     <use style=\"fill:#4c72b0;fill-opacity:0.3;stroke:#4c72b0;stroke-opacity:0.3;\" x=\"304.251183\" xlink:href=\"#ma1a48b5dd2\" y=\"74.711312\"/>\r\n     <use style=\"fill:#4c72b0;fill-opacity:0.3;stroke:#4c72b0;stroke-opacity:0.3;\" x=\"187.673253\" xlink:href=\"#ma1a48b5dd2\" y=\"129.915121\"/>\r\n     <use style=\"fill:#4c72b0;fill-opacity:0.3;stroke:#4c72b0;stroke-opacity:0.3;\" x=\"306.699\" xlink:href=\"#ma1a48b5dd2\" y=\"62.189717\"/>\r\n     <use style=\"fill:#4c72b0;fill-opacity:0.3;stroke:#4c72b0;stroke-opacity:0.3;\" x=\"273.206703\" xlink:href=\"#ma1a48b5dd2\" y=\"66.842209\"/>\r\n     <use style=\"fill:#4c72b0;fill-opacity:0.3;stroke:#4c72b0;stroke-opacity:0.3;\" x=\"166.677701\" xlink:href=\"#ma1a48b5dd2\" y=\"120.450795\"/>\r\n     <use style=\"fill:#4c72b0;fill-opacity:0.3;stroke:#4c72b0;stroke-opacity:0.3;\" x=\"153.144088\" xlink:href=\"#ma1a48b5dd2\" y=\"130.843461\"/>\r\n     <use style=\"fill:#4c72b0;fill-opacity:0.3;stroke:#4c72b0;stroke-opacity:0.3;\" x=\"241.14076\" xlink:href=\"#ma1a48b5dd2\" y=\"98.418205\"/>\r\n     <use style=\"fill:#4c72b0;fill-opacity:0.3;stroke:#4c72b0;stroke-opacity:0.3;\" x=\"272.038376\" xlink:href=\"#ma1a48b5dd2\" y=\"52.425096\"/>\r\n     <use style=\"fill:#4c72b0;fill-opacity:0.3;stroke:#4c72b0;stroke-opacity:0.3;\" x=\"234.948028\" xlink:href=\"#ma1a48b5dd2\" y=\"98.879919\"/>\r\n     <use style=\"fill:#4c72b0;fill-opacity:0.3;stroke:#4c72b0;stroke-opacity:0.3;\" x=\"174.158097\" xlink:href=\"#ma1a48b5dd2\" y=\"143.860755\"/>\r\n     <use style=\"fill:#4c72b0;fill-opacity:0.3;stroke:#4c72b0;stroke-opacity:0.3;\" x=\"166.267576\" xlink:href=\"#ma1a48b5dd2\" y=\"129.972456\"/>\r\n     <use style=\"fill:#4c72b0;fill-opacity:0.3;stroke:#4c72b0;stroke-opacity:0.3;\" x=\"272.909894\" xlink:href=\"#ma1a48b5dd2\" y=\"70.320926\"/>\r\n     <use style=\"fill:#4c72b0;fill-opacity:0.3;stroke:#4c72b0;stroke-opacity:0.3;\" x=\"148.122181\" xlink:href=\"#ma1a48b5dd2\" y=\"133.290899\"/>\r\n     <use style=\"fill:#4c72b0;fill-opacity:0.3;stroke:#4c72b0;stroke-opacity:0.3;\" x=\"130.601385\" xlink:href=\"#ma1a48b5dd2\" y=\"151.222853\"/>\r\n     <use style=\"fill:#4c72b0;fill-opacity:0.3;stroke:#4c72b0;stroke-opacity:0.3;\" x=\"59.280174\" xlink:href=\"#ma1a48b5dd2\" y=\"214.756364\"/>\r\n     <use style=\"fill:#4c72b0;fill-opacity:0.3;stroke:#4c72b0;stroke-opacity:0.3;\" x=\"238.953601\" xlink:href=\"#ma1a48b5dd2\" y=\"90.939601\"/>\r\n     <use style=\"fill:#4c72b0;fill-opacity:0.3;stroke:#4c72b0;stroke-opacity:0.3;\" x=\"268.580118\" xlink:href=\"#ma1a48b5dd2\" y=\"55.445044\"/>\r\n     <use style=\"fill:#4c72b0;fill-opacity:0.3;stroke:#4c72b0;stroke-opacity:0.3;\" x=\"168.700072\" xlink:href=\"#ma1a48b5dd2\" y=\"132.830784\"/>\r\n     <use style=\"fill:#4c72b0;fill-opacity:0.3;stroke:#4c72b0;stroke-opacity:0.3;\" x=\"277.353669\" xlink:href=\"#ma1a48b5dd2\" y=\"89.845762\"/>\r\n     <use style=\"fill:#4c72b0;fill-opacity:0.3;stroke:#4c72b0;stroke-opacity:0.3;\" x=\"241.971245\" xlink:href=\"#ma1a48b5dd2\" y=\"76.470711\"/>\r\n     <use style=\"fill:#4c72b0;fill-opacity:0.3;stroke:#4c72b0;stroke-opacity:0.3;\" x=\"237.118785\" xlink:href=\"#ma1a48b5dd2\" y=\"97.805326\"/>\r\n     <use style=\"fill:#4c72b0;fill-opacity:0.3;stroke:#4c72b0;stroke-opacity:0.3;\" x=\"165.028517\" xlink:href=\"#ma1a48b5dd2\" y=\"117.223113\"/>\r\n     <use style=\"fill:#4c72b0;fill-opacity:0.3;stroke:#4c72b0;stroke-opacity:0.3;\" x=\"196.270582\" xlink:href=\"#ma1a48b5dd2\" y=\"111.265805\"/>\r\n     <use style=\"fill:#4c72b0;fill-opacity:0.3;stroke:#4c72b0;stroke-opacity:0.3;\" x=\"140.647314\" xlink:href=\"#ma1a48b5dd2\" y=\"147.603541\"/>\r\n     <use style=\"fill:#4c72b0;fill-opacity:0.3;stroke:#4c72b0;stroke-opacity:0.3;\" x=\"218.256222\" xlink:href=\"#ma1a48b5dd2\" y=\"92.141148\"/>\r\n     <use style=\"fill:#4c72b0;fill-opacity:0.3;stroke:#4c72b0;stroke-opacity:0.3;\" x=\"238.171722\" xlink:href=\"#ma1a48b5dd2\" y=\"96.232912\"/>\r\n     <use style=\"fill:#4c72b0;fill-opacity:0.3;stroke:#4c72b0;stroke-opacity:0.3;\" x=\"155.998937\" xlink:href=\"#ma1a48b5dd2\" y=\"145.506425\"/>\r\n     <use style=\"fill:#4c72b0;fill-opacity:0.3;stroke:#4c72b0;stroke-opacity:0.3;\" x=\"348.823537\" xlink:href=\"#ma1a48b5dd2\" y=\"17.095218\"/>\r\n     <use style=\"fill:#4c72b0;fill-opacity:0.3;stroke:#4c72b0;stroke-opacity:0.3;\" x=\"243.764231\" xlink:href=\"#ma1a48b5dd2\" y=\"91.564652\"/>\r\n     <use style=\"fill:#4c72b0;fill-opacity:0.3;stroke:#4c72b0;stroke-opacity:0.3;\" x=\"196.441092\" xlink:href=\"#ma1a48b5dd2\" y=\"118.696479\"/>\r\n     <use style=\"fill:#4c72b0;fill-opacity:0.3;stroke:#4c72b0;stroke-opacity:0.3;\" x=\"249.417683\" xlink:href=\"#ma1a48b5dd2\" y=\"115.268995\"/>\r\n     <use style=\"fill:#4c72b0;fill-opacity:0.3;stroke:#4c72b0;stroke-opacity:0.3;\" x=\"235.674087\" xlink:href=\"#ma1a48b5dd2\" y=\"69.9852\"/>\r\n     <use style=\"fill:#4c72b0;fill-opacity:0.3;stroke:#4c72b0;stroke-opacity:0.3;\" x=\"254.100772\" xlink:href=\"#ma1a48b5dd2\" y=\"106.923722\"/>\r\n     <use style=\"fill:#4c72b0;fill-opacity:0.3;stroke:#4c72b0;stroke-opacity:0.3;\" x=\"294.715721\" xlink:href=\"#ma1a48b5dd2\" y=\"71.304856\"/>\r\n     <use style=\"fill:#4c72b0;fill-opacity:0.3;stroke:#4c72b0;stroke-opacity:0.3;\" x=\"220.69617\" xlink:href=\"#ma1a48b5dd2\" y=\"107.980643\"/>\r\n     <use style=\"fill:#4c72b0;fill-opacity:0.3;stroke:#4c72b0;stroke-opacity:0.3;\" x=\"251.249717\" xlink:href=\"#ma1a48b5dd2\" y=\"82.372338\"/>\r\n     <use style=\"fill:#4c72b0;fill-opacity:0.3;stroke:#4c72b0;stroke-opacity:0.3;\" x=\"197.161421\" xlink:href=\"#ma1a48b5dd2\" y=\"119.711848\"/>\r\n     <use style=\"fill:#4c72b0;fill-opacity:0.3;stroke:#4c72b0;stroke-opacity:0.3;\" x=\"256.07699\" xlink:href=\"#ma1a48b5dd2\" y=\"86.078676\"/>\r\n     <use style=\"fill:#4c72b0;fill-opacity:0.3;stroke:#4c72b0;stroke-opacity:0.3;\" x=\"198.934366\" xlink:href=\"#ma1a48b5dd2\" y=\"114.677221\"/>\r\n     <use style=\"fill:#4c72b0;fill-opacity:0.3;stroke:#4c72b0;stroke-opacity:0.3;\" x=\"201.340258\" xlink:href=\"#ma1a48b5dd2\" y=\"131.112735\"/>\r\n     <use style=\"fill:#4c72b0;fill-opacity:0.3;stroke:#4c72b0;stroke-opacity:0.3;\" x=\"240.597358\" xlink:href=\"#ma1a48b5dd2\" y=\"76.852975\"/>\r\n     <use style=\"fill:#4c72b0;fill-opacity:0.3;stroke:#4c72b0;stroke-opacity:0.3;\" x=\"228.678034\" xlink:href=\"#ma1a48b5dd2\" y=\"74.594258\"/>\r\n     <use style=\"fill:#4c72b0;fill-opacity:0.3;stroke:#4c72b0;stroke-opacity:0.3;\" x=\"112.375111\" xlink:href=\"#ma1a48b5dd2\" y=\"145.886847\"/>\r\n     <use style=\"fill:#4c72b0;fill-opacity:0.3;stroke:#4c72b0;stroke-opacity:0.3;\" x=\"261.311622\" xlink:href=\"#ma1a48b5dd2\" y=\"75.049239\"/>\r\n     <use style=\"fill:#4c72b0;fill-opacity:0.3;stroke:#4c72b0;stroke-opacity:0.3;\" x=\"222.49564\" xlink:href=\"#ma1a48b5dd2\" y=\"85.617099\"/>\r\n     <use style=\"fill:#4c72b0;fill-opacity:0.3;stroke:#4c72b0;stroke-opacity:0.3;\" x=\"107.822277\" xlink:href=\"#ma1a48b5dd2\" y=\"156.816565\"/>\r\n     <use style=\"fill:#4c72b0;fill-opacity:0.3;stroke:#4c72b0;stroke-opacity:0.3;\" x=\"224.138314\" xlink:href=\"#ma1a48b5dd2\" y=\"104.815129\"/>\r\n     <use style=\"fill:#4c72b0;fill-opacity:0.3;stroke:#4c72b0;stroke-opacity:0.3;\" x=\"209.152515\" xlink:href=\"#ma1a48b5dd2\" y=\"127.461051\"/>\r\n     <use style=\"fill:#4c72b0;fill-opacity:0.3;stroke:#4c72b0;stroke-opacity:0.3;\" x=\"208.368417\" xlink:href=\"#ma1a48b5dd2\" y=\"123.110278\"/>\r\n     <use style=\"fill:#4c72b0;fill-opacity:0.3;stroke:#4c72b0;stroke-opacity:0.3;\" x=\"187.510625\" xlink:href=\"#ma1a48b5dd2\" y=\"124.100438\"/>\r\n     <use style=\"fill:#4c72b0;fill-opacity:0.3;stroke:#4c72b0;stroke-opacity:0.3;\" x=\"256.379847\" xlink:href=\"#ma1a48b5dd2\" y=\"93.168419\"/>\r\n     <use style=\"fill:#4c72b0;fill-opacity:0.3;stroke:#4c72b0;stroke-opacity:0.3;\" x=\"223.303052\" xlink:href=\"#ma1a48b5dd2\" y=\"90.87645\"/>\r\n     <use style=\"fill:#4c72b0;fill-opacity:0.3;stroke:#4c72b0;stroke-opacity:0.3;\" x=\"150.257664\" xlink:href=\"#ma1a48b5dd2\" y=\"136.199699\"/>\r\n     <use style=\"fill:#4c72b0;fill-opacity:0.3;stroke:#4c72b0;stroke-opacity:0.3;\" x=\"89.555352\" xlink:href=\"#ma1a48b5dd2\" y=\"141.918333\"/>\r\n     <use style=\"fill:#4c72b0;fill-opacity:0.3;stroke:#4c72b0;stroke-opacity:0.3;\" x=\"238.212507\" xlink:href=\"#ma1a48b5dd2\" y=\"93.668352\"/>\r\n     <use style=\"fill:#4c72b0;fill-opacity:0.3;stroke:#4c72b0;stroke-opacity:0.3;\" x=\"266.469741\" xlink:href=\"#ma1a48b5dd2\" y=\"54.416718\"/>\r\n     <use style=\"fill:#4c72b0;fill-opacity:0.3;stroke:#4c72b0;stroke-opacity:0.3;\" x=\"167.184228\" xlink:href=\"#ma1a48b5dd2\" y=\"147.656436\"/>\r\n     <use style=\"fill:#4c72b0;fill-opacity:0.3;stroke:#4c72b0;stroke-opacity:0.3;\" x=\"157.631815\" xlink:href=\"#ma1a48b5dd2\" y=\"120.842206\"/>\r\n     <use style=\"fill:#4c72b0;fill-opacity:0.3;stroke:#4c72b0;stroke-opacity:0.3;\" x=\"186.279044\" xlink:href=\"#ma1a48b5dd2\" y=\"109.046038\"/>\r\n     <use style=\"fill:#4c72b0;fill-opacity:0.3;stroke:#4c72b0;stroke-opacity:0.3;\" x=\"233.973942\" xlink:href=\"#ma1a48b5dd2\" y=\"112.123571\"/>\r\n     <use style=\"fill:#4c72b0;fill-opacity:0.3;stroke:#4c72b0;stroke-opacity:0.3;\" x=\"132.563345\" xlink:href=\"#ma1a48b5dd2\" y=\"134.543042\"/>\r\n     <use style=\"fill:#4c72b0;fill-opacity:0.3;stroke:#4c72b0;stroke-opacity:0.3;\" x=\"198.809599\" xlink:href=\"#ma1a48b5dd2\" y=\"129.604615\"/>\r\n     <use style=\"fill:#4c72b0;fill-opacity:0.3;stroke:#4c72b0;stroke-opacity:0.3;\" x=\"280.812017\" xlink:href=\"#ma1a48b5dd2\" y=\"82.004629\"/>\r\n     <use style=\"fill:#4c72b0;fill-opacity:0.3;stroke:#4c72b0;stroke-opacity:0.3;\" x=\"148.498293\" xlink:href=\"#ma1a48b5dd2\" y=\"125.646525\"/>\r\n     <use style=\"fill:#4c72b0;fill-opacity:0.3;stroke:#4c72b0;stroke-opacity:0.3;\" x=\"173.821238\" xlink:href=\"#ma1a48b5dd2\" y=\"115.236171\"/>\r\n     <use style=\"fill:#4c72b0;fill-opacity:0.3;stroke:#4c72b0;stroke-opacity:0.3;\" x=\"259.124611\" xlink:href=\"#ma1a48b5dd2\" y=\"75.310907\"/>\r\n     <use style=\"fill:#4c72b0;fill-opacity:0.3;stroke:#4c72b0;stroke-opacity:0.3;\" x=\"305.54791\" xlink:href=\"#ma1a48b5dd2\" y=\"61.190467\"/>\r\n     <use style=\"fill:#4c72b0;fill-opacity:0.3;stroke:#4c72b0;stroke-opacity:0.3;\" x=\"175.643728\" xlink:href=\"#ma1a48b5dd2\" y=\"132.621371\"/>\r\n     <use style=\"fill:#4c72b0;fill-opacity:0.3;stroke:#4c72b0;stroke-opacity:0.3;\" x=\"141.297965\" xlink:href=\"#ma1a48b5dd2\" y=\"141.521441\"/>\r\n     <use style=\"fill:#4c72b0;fill-opacity:0.3;stroke:#4c72b0;stroke-opacity:0.3;\" x=\"70.739432\" xlink:href=\"#ma1a48b5dd2\" y=\"191.817164\"/>\r\n     <use style=\"fill:#4c72b0;fill-opacity:0.3;stroke:#4c72b0;stroke-opacity:0.3;\" x=\"291.40277\" xlink:href=\"#ma1a48b5dd2\" y=\"58.317072\"/>\r\n     <use style=\"fill:#4c72b0;fill-opacity:0.3;stroke:#4c72b0;stroke-opacity:0.3;\" x=\"246.025261\" xlink:href=\"#ma1a48b5dd2\" y=\"70.320312\"/>\r\n     <use style=\"fill:#4c72b0;fill-opacity:0.3;stroke:#4c72b0;stroke-opacity:0.3;\" x=\"217.435908\" xlink:href=\"#ma1a48b5dd2\" y=\"105.351922\"/>\r\n     <use style=\"fill:#4c72b0;fill-opacity:0.3;stroke:#4c72b0;stroke-opacity:0.3;\" x=\"207.049469\" xlink:href=\"#ma1a48b5dd2\" y=\"97.969402\"/>\r\n     <use style=\"fill:#4c72b0;fill-opacity:0.3;stroke:#4c72b0;stroke-opacity:0.3;\" x=\"223.524339\" xlink:href=\"#ma1a48b5dd2\" y=\"87.276409\"/>\r\n     <use style=\"fill:#4c72b0;fill-opacity:0.3;stroke:#4c72b0;stroke-opacity:0.3;\" x=\"169.097377\" xlink:href=\"#ma1a48b5dd2\" y=\"138.249493\"/>\r\n     <use style=\"fill:#4c72b0;fill-opacity:0.3;stroke:#4c72b0;stroke-opacity:0.3;\" x=\"276.555811\" xlink:href=\"#ma1a48b5dd2\" y=\"74.936611\"/>\r\n     <use style=\"fill:#4c72b0;fill-opacity:0.3;stroke:#4c72b0;stroke-opacity:0.3;\" x=\"177.275566\" xlink:href=\"#ma1a48b5dd2\" y=\"126.412339\"/>\r\n     <use style=\"fill:#4c72b0;fill-opacity:0.3;stroke:#4c72b0;stroke-opacity:0.3;\" x=\"145.081193\" xlink:href=\"#ma1a48b5dd2\" y=\"119.990503\"/>\r\n     <use style=\"fill:#4c72b0;fill-opacity:0.3;stroke:#4c72b0;stroke-opacity:0.3;\" x=\"222.131174\" xlink:href=\"#ma1a48b5dd2\" y=\"113.000199\"/>\r\n     <use style=\"fill:#4c72b0;fill-opacity:0.3;stroke:#4c72b0;stroke-opacity:0.3;\" x=\"159.897929\" xlink:href=\"#ma1a48b5dd2\" y=\"137.728864\"/>\r\n     <use style=\"fill:#4c72b0;fill-opacity:0.3;stroke:#4c72b0;stroke-opacity:0.3;\" x=\"147.513375\" xlink:href=\"#ma1a48b5dd2\" y=\"129.421724\"/>\r\n    </g>\r\n   </g>\r\n   <g id=\"PathCollection_2\"/>\r\n   <g id=\"patch_3\">\r\n    <path d=\"M 29.241719 224.64 \r\nL 29.241719 7.2 \r\n\" style=\"fill:none;stroke:#ffffff;stroke-linecap:square;stroke-linejoin:miter;stroke-width:1.25;\"/>\r\n   </g>\r\n   <g id=\"patch_4\">\r\n    <path d=\"M 364.041719 224.64 \r\nL 364.041719 7.2 \r\n\" style=\"fill:none;stroke:#ffffff;stroke-linecap:square;stroke-linejoin:miter;stroke-width:1.25;\"/>\r\n   </g>\r\n   <g id=\"patch_5\">\r\n    <path d=\"M 29.241719 224.64 \r\nL 364.041719 224.64 \r\n\" style=\"fill:none;stroke:#ffffff;stroke-linecap:square;stroke-linejoin:miter;stroke-width:1.25;\"/>\r\n   </g>\r\n   <g id=\"patch_6\">\r\n    <path d=\"M 29.241719 7.2 \r\nL 364.041719 7.2 \r\n\" style=\"fill:none;stroke:#ffffff;stroke-linecap:square;stroke-linejoin:miter;stroke-width:1.25;\"/>\r\n   </g>\r\n  </g>\r\n </g>\r\n <defs>\r\n  <clipPath id=\"p89ddc64c44\">\r\n   <rect height=\"217.44\" width=\"334.8\" x=\"29.241719\" y=\"7.2\"/>\r\n  </clipPath>\r\n </defs>\r\n</svg>\r\n",
      "image/png": "[encoded data removed]"
     },
     "metadata": {}
    }
   ],
   "source": [
    "plt.scatter(X[:, 0], X[:, 1], alpha=0.3)\n",
    "plt.scatter(selection[:, 0], selection[:, 1], facecolor='none', s=200);"
   ]
  },
  {
   "source": [
    "## Modifying Values with Fancy Indexing\n",
    "\n",
    "Just as fancy indexing can be used to access parts of an array, it can also be used to modify parts of an array. For example, image we have an array of indices and we'd like to set the corresponding items in an array to some value:\n"
   ],
   "cell_type": "markdown",
   "metadata": {}
  },
  {
   "cell_type": "code",
   "execution_count": 18,
   "metadata": {},
   "outputs": [
    {
     "output_type": "stream",
     "name": "stdout",
     "text": [
      "[ 0 99 99  3 99  5  6  7 99  9]\n"
     ]
    }
   ],
   "source": [
    "x = np.arange(10)\n",
    "i = np.array([2, 1, 8, 4])\n",
    "x[i] = 99\n",
    "print(x)"
   ]
  },
  {
   "source": [
    "We can use any assignment-type operator for this. For example:"
   ],
   "cell_type": "markdown",
   "metadata": {}
  },
  {
   "cell_type": "code",
   "execution_count": 19,
   "metadata": {},
   "outputs": [
    {
     "output_type": "stream",
     "name": "stdout",
     "text": [
      "[ 0 89 89  3 89  5  6  7 89  9]\n"
     ]
    }
   ],
   "source": [
    "x[i] -= 10\n",
    "print(x)"
   ]
  },
  {
   "source": [
    "Notice, though, the repeated indices with these operations can cause some potentially unexpected results. Consider the following:"
   ],
   "cell_type": "markdown",
   "metadata": {}
  },
  {
   "cell_type": "code",
   "execution_count": 20,
   "metadata": {},
   "outputs": [
    {
     "output_type": "stream",
     "name": "stdout",
     "text": [
      "[6. 0. 0. 0. 0. 0. 0. 0. 0. 0.]\n"
     ]
    }
   ],
   "source": [
    "x = np.zeros(10)\n",
    "x[[0, 0]] = [4, 6]\n",
    "print(x)"
   ]
  },
  {
   "source": [
    "Where did the 4 go? The results of this operation is to first assign `x[0] = 4`, folowed b `x[0] = 6`. The result, of course, is that `x[0]`, followed by `x[0] = 6`. The result, of course, is that `x[0]` contains the value 6.\n",
    "\n",
    "Fair enough, but consider this operation:"
   ],
   "cell_type": "markdown",
   "metadata": {}
  },
  {
   "cell_type": "code",
   "execution_count": 21,
   "metadata": {},
   "outputs": [
    {
     "output_type": "execute_result",
     "data": {
      "text/plain": [
       "array([6., 0., 1., 1., 1., 0., 0., 0., 0., 0.])"
      ]
     },
     "metadata": {},
     "execution_count": 21
    }
   ],
   "source": [
    "i = [2, 3, 3, 4, 4, 4]\n",
    "x[i] += 1\n",
    "x"
   ]
  },
  {
   "source": [
    "You migth expect that `x[3]` would contain the value 2, and `x[4]` would contain the value 3, as this is how many times each index is repeated. Why is this not the case? Conceptually, this is because `x[i] += 1` is mean as a shorthand of `x[i] = x[i] + 1. x[i] + 1` is evaluated, and then the result is assigned to the indices in x. With this in mind, it is not the augmentation that happens multiple times, but the assignment, which leads to the rather nonintuitive results.\n",
    "\n",
    "So what if you want the other behavior where the operation is repeated? For this you can use the `at()` method of ufuncs, and do the following:"
   ],
   "cell_type": "markdown",
   "metadata": {}
  },
  {
   "cell_type": "code",
   "execution_count": 22,
   "metadata": {},
   "outputs": [
    {
     "output_type": "stream",
     "name": "stdout",
     "text": [
      "[0. 0. 1. 2. 3. 0. 0. 0. 0. 0.]\n"
     ]
    }
   ],
   "source": [
    "x = np.zeros(10)\n",
    "np.add.at(x, i, 1)\n",
    "print(x)"
   ]
  },
  {
   "source": [
    "The `at()` method does an in-place application of the given operator at the specified indices(here, `i`) with the specified value(here, 1). Another method that is simi;ar in spirit is the `reduceat()`."
   ],
   "cell_type": "markdown",
   "metadata": {}
  },
  {
   "source": [
    "## Binning Data\n",
    "\n",
    "You can use these ideas to efficiently bin data to create a histogram by hand. For exmpale imagine we have 1,000 values and would like to quickly find where they fall within an array of bins. WE could compute it using `ufunc.at` like this:"
   ],
   "cell_type": "markdown",
   "metadata": {}
  },
  {
   "cell_type": "code",
   "execution_count": 23,
   "metadata": {},
   "outputs": [],
   "source": [
    "np.random.seed(42)\n",
    "x = np.random.randn(100)\n",
    "\n",
    "# compute a histogram by hand\n",
    "\n",
    "bins = np.linspace(-5, 5, 20)\n",
    "counts =  np.zeros_like(bins)\n",
    "\n",
    "# find the appropriate bin for each x\n",
    "\n",
    "i = np.searchsorted(bins, x)\n",
    "\n",
    "# add 1 to each of these bins\n",
    "\n",
    "np.add.at(counts, i, 1)"
   ]
  },
  {
   "source": [
    "The counts now reflect the number of poitns within each bin-in other words, a histogram:"
   ],
   "cell_type": "markdown",
   "metadata": {}
  },
  {
   "cell_type": "code",
   "execution_count": 25,
   "metadata": {},
   "outputs": [
    {
     "output_type": "display_data",
     "data": {
      "text/plain": "<Figure size 432x288 with 1 Axes>",
      "image/svg+xml": "<?xml version=\"1.0\" encoding=\"utf-8\" standalone=\"no\"?>\r\n<!DOCTYPE svg PUBLIC \"-//W3C//DTD SVG 1.1//EN\"\r\n  \"http://www.w3.org/Graphics/SVG/1.1/DTD/svg11.dtd\">\r\n<!-- Created with matplotlib (https://matplotlib.org/) -->\r\n<svg height=\"251.399844pt\" version=\"1.1\" viewBox=\"0 0 370.934062 251.399844\" width=\"370.934062pt\" xmlns=\"http://www.w3.org/2000/svg\" xmlns:xlink=\"http://www.w3.org/1999/xlink\">\r\n <metadata>\r\n  <rdf:RDF xmlns:cc=\"http://creativecommons.org/ns#\" xmlns:dc=\"http://purl.org/dc/elements/1.1/\" xmlns:rdf=\"http://www.w3.org/1999/02/22-rdf-syntax-ns#\">\r\n   <cc:Work>\r\n    <dc:type rdf:resource=\"http://purl.org/dc/dcmitype/StillImage\"/>\r\n    <dc:date>2021-02-14T09:59:22.703585</dc:date>\r\n    <dc:format>image/svg+xml</dc:format>\r\n    <dc:creator>\r\n     <cc:Agent>\r\n      <dc:title>Matplotlib v3.3.3, https://matplotlib.org/</dc:title>\r\n     </cc:Agent>\r\n    </dc:creator>\r\n   </cc:Work>\r\n  </rdf:RDF>\r\n </metadata>\r\n <defs>\r\n  <style type=\"text/css\">*{stroke-linecap:butt;stroke-linejoin:round;}</style>\r\n </defs>\r\n <g id=\"figure_1\">\r\n  <g id=\"patch_1\">\r\n   <path d=\"M 0 251.399844 \r\nL 370.934062 251.399844 \r\nL 370.934062 0 \r\nL 0 0 \r\nz\r\n\" style=\"fill:#ffffff;\"/>\r\n  </g>\r\n  <g id=\"axes_1\">\r\n   <g id=\"patch_2\">\r\n    <path d=\"M 28.934062 224.64 \r\nL 363.734062 224.64 \r\nL 363.734062 7.2 \r\nL 28.934062 7.2 \r\nz\r\n\" style=\"fill:#eaeaf2;\"/>\r\n   </g>\r\n   <g id=\"matplotlib.axis_1\">\r\n    <g id=\"xtick_1\">\r\n     <g id=\"line2d_1\">\r\n      <path clip-path=\"url(#p4a4758034d)\" d=\"M 74.588608 224.64 \r\nL 74.588608 7.2 \r\n\" style=\"fill:none;stroke:#ffffff;stroke-linecap:round;\"/>\r\n     </g>\r\n     <g id=\"text_1\">\r\n      <!-- −4 -->\r\n      <g style=\"fill:#262626;\" transform=\"translate(68.317749 242.013594)scale(0.11 -0.11)\">\r\n       <defs>\r\n        <path d=\"M 52.828125 31.203125 \r\nL 5.5625 31.203125 \r\nL 5.5625 39.40625 \r\nL 52.828125 39.40625 \r\nz\r\n\" id=\"ArialMT-8722\"/>\r\n        <path d=\"M 32.328125 0 \r\nL 32.328125 17.140625 \r\nL 1.265625 17.140625 \r\nL 1.265625 25.203125 \r\nL 33.9375 71.578125 \r\nL 41.109375 71.578125 \r\nL 41.109375 25.203125 \r\nL 50.78125 25.203125 \r\nL 50.78125 17.140625 \r\nL 41.109375 17.140625 \r\nL 41.109375 0 \r\nz\r\nM 32.328125 25.203125 \r\nL 32.328125 57.46875 \r\nL 9.90625 25.203125 \r\nz\r\n\" id=\"ArialMT-52\"/>\r\n       </defs>\r\n       <use xlink:href=\"#ArialMT-8722\"/>\r\n       <use x=\"58.398438\" xlink:href=\"#ArialMT-52\"/>\r\n      </g>\r\n     </g>\r\n    </g>\r\n    <g id=\"xtick_2\">\r\n     <g id=\"line2d_2\">\r\n      <path clip-path=\"url(#p4a4758034d)\" d=\"M 135.461335 224.64 \r\nL 135.461335 7.2 \r\n\" style=\"fill:none;stroke:#ffffff;stroke-linecap:round;\"/>\r\n     </g>\r\n     <g id=\"text_2\">\r\n      <!-- −2 -->\r\n      <g style=\"fill:#262626;\" transform=\"translate(129.190476 242.013594)scale(0.11 -0.11)\">\r\n       <defs>\r\n        <path d=\"M 50.34375 8.453125 \r\nL 50.34375 0 \r\nL 3.03125 0 \r\nQ 2.9375 3.171875 4.046875 6.109375 \r\nQ 5.859375 10.9375 9.828125 15.625 \r\nQ 13.8125 20.3125 21.34375 26.46875 \r\nQ 33.015625 36.03125 37.109375 41.625 \r\nQ 41.21875 47.21875 41.21875 52.203125 \r\nQ 41.21875 57.421875 37.46875 61 \r\nQ 33.734375 64.59375 27.734375 64.59375 \r\nQ 21.390625 64.59375 17.578125 60.78125 \r\nQ 13.765625 56.984375 13.71875 50.25 \r\nL 4.6875 51.171875 \r\nQ 5.609375 61.28125 11.65625 66.578125 \r\nQ 17.71875 71.875 27.9375 71.875 \r\nQ 38.234375 71.875 44.234375 66.15625 \r\nQ 50.25 60.453125 50.25 52 \r\nQ 50.25 47.703125 48.484375 43.546875 \r\nQ 46.734375 39.40625 42.65625 34.8125 \r\nQ 38.578125 30.21875 29.109375 22.21875 \r\nQ 21.1875 15.578125 18.9375 13.203125 \r\nQ 16.703125 10.84375 15.234375 8.453125 \r\nz\r\n\" id=\"ArialMT-50\"/>\r\n       </defs>\r\n       <use xlink:href=\"#ArialMT-8722\"/>\r\n       <use x=\"58.398438\" xlink:href=\"#ArialMT-50\"/>\r\n      </g>\r\n     </g>\r\n    </g>\r\n    <g id=\"xtick_3\">\r\n     <g id=\"line2d_3\">\r\n      <path clip-path=\"url(#p4a4758034d)\" d=\"M 196.334063 224.64 \r\nL 196.334063 7.2 \r\n\" style=\"fill:none;stroke:#ffffff;stroke-linecap:round;\"/>\r\n     </g>\r\n     <g id=\"text_3\">\r\n      <!-- 0 -->\r\n      <g style=\"fill:#262626;\" transform=\"translate(193.275547 242.013594)scale(0.11 -0.11)\">\r\n       <defs>\r\n        <path d=\"M 4.15625 35.296875 \r\nQ 4.15625 48 6.765625 55.734375 \r\nQ 9.375 63.484375 14.515625 67.671875 \r\nQ 19.671875 71.875 27.484375 71.875 \r\nQ 33.25 71.875 37.59375 69.546875 \r\nQ 41.9375 67.234375 44.765625 62.859375 \r\nQ 47.609375 58.5 49.21875 52.21875 \r\nQ 50.828125 45.953125 50.828125 35.296875 \r\nQ 50.828125 22.703125 48.234375 14.96875 \r\nQ 45.65625 7.234375 40.5 3 \r\nQ 35.359375 -1.21875 27.484375 -1.21875 \r\nQ 17.140625 -1.21875 11.234375 6.203125 \r\nQ 4.15625 15.140625 4.15625 35.296875 \r\nz\r\nM 13.1875 35.296875 \r\nQ 13.1875 17.671875 17.3125 11.828125 \r\nQ 21.4375 6 27.484375 6 \r\nQ 33.546875 6 37.671875 11.859375 \r\nQ 41.796875 17.71875 41.796875 35.296875 \r\nQ 41.796875 52.984375 37.671875 58.78125 \r\nQ 33.546875 64.59375 27.390625 64.59375 \r\nQ 21.34375 64.59375 17.71875 59.46875 \r\nQ 13.1875 52.9375 13.1875 35.296875 \r\nz\r\n\" id=\"ArialMT-48\"/>\r\n       </defs>\r\n       <use xlink:href=\"#ArialMT-48\"/>\r\n      </g>\r\n     </g>\r\n    </g>\r\n    <g id=\"xtick_4\">\r\n     <g id=\"line2d_4\">\r\n      <path clip-path=\"url(#p4a4758034d)\" d=\"M 257.20679 224.64 \r\nL 257.20679 7.2 \r\n\" style=\"fill:none;stroke:#ffffff;stroke-linecap:round;\"/>\r\n     </g>\r\n     <g id=\"text_4\">\r\n      <!-- 2 -->\r\n      <g style=\"fill:#262626;\" transform=\"translate(254.148274 242.013594)scale(0.11 -0.11)\">\r\n       <use xlink:href=\"#ArialMT-50\"/>\r\n      </g>\r\n     </g>\r\n    </g>\r\n    <g id=\"xtick_5\">\r\n     <g id=\"line2d_5\">\r\n      <path clip-path=\"url(#p4a4758034d)\" d=\"M 318.079517 224.64 \r\nL 318.079517 7.2 \r\n\" style=\"fill:none;stroke:#ffffff;stroke-linecap:round;\"/>\r\n     </g>\r\n     <g id=\"text_5\">\r\n      <!-- 4 -->\r\n      <g style=\"fill:#262626;\" transform=\"translate(315.021001 242.013594)scale(0.11 -0.11)\">\r\n       <use xlink:href=\"#ArialMT-52\"/>\r\n      </g>\r\n     </g>\r\n    </g>\r\n   </g>\r\n   <g id=\"matplotlib.axis_2\">\r\n    <g id=\"ytick_1\">\r\n     <g id=\"line2d_6\">\r\n      <path clip-path=\"url(#p4a4758034d)\" d=\"M 28.934062 214.756364 \r\nL 363.734062 214.756364 \r\n\" style=\"fill:none;stroke:#ffffff;stroke-linecap:round;\"/>\r\n     </g>\r\n     <g id=\"text_6\">\r\n      <!-- 0 -->\r\n      <g style=\"fill:#262626;\" transform=\"translate(13.317031 218.693161)scale(0.11 -0.11)\">\r\n       <use xlink:href=\"#ArialMT-48\"/>\r\n      </g>\r\n     </g>\r\n    </g>\r\n    <g id=\"ytick_2\">\r\n     <g id=\"line2d_7\">\r\n      <path clip-path=\"url(#p4a4758034d)\" d=\"M 28.934062 171.784032 \r\nL 363.734062 171.784032 \r\n\" style=\"fill:none;stroke:#ffffff;stroke-linecap:round;\"/>\r\n     </g>\r\n     <g id=\"text_7\">\r\n      <!-- 5 -->\r\n      <g style=\"fill:#262626;\" transform=\"translate(13.317031 175.720828)scale(0.11 -0.11)\">\r\n       <defs>\r\n        <path d=\"M 4.15625 18.75 \r\nL 13.375 19.53125 \r\nQ 14.40625 12.796875 18.140625 9.390625 \r\nQ 21.875 6 27.15625 6 \r\nQ 33.5 6 37.890625 10.78125 \r\nQ 42.28125 15.578125 42.28125 23.484375 \r\nQ 42.28125 31 38.0625 35.34375 \r\nQ 33.84375 39.703125 27 39.703125 \r\nQ 22.75 39.703125 19.328125 37.765625 \r\nQ 15.921875 35.84375 13.96875 32.765625 \r\nL 5.71875 33.84375 \r\nL 12.640625 70.609375 \r\nL 48.25 70.609375 \r\nL 48.25 62.203125 \r\nL 19.671875 62.203125 \r\nL 15.828125 42.96875 \r\nQ 22.265625 47.46875 29.34375 47.46875 \r\nQ 38.71875 47.46875 45.15625 40.96875 \r\nQ 51.609375 34.46875 51.609375 24.265625 \r\nQ 51.609375 14.546875 45.953125 7.46875 \r\nQ 39.0625 -1.21875 27.15625 -1.21875 \r\nQ 17.390625 -1.21875 11.203125 4.25 \r\nQ 5.03125 9.71875 4.15625 18.75 \r\nz\r\n\" id=\"ArialMT-53\"/>\r\n       </defs>\r\n       <use xlink:href=\"#ArialMT-53\"/>\r\n      </g>\r\n     </g>\r\n    </g>\r\n    <g id=\"ytick_3\">\r\n     <g id=\"line2d_8\">\r\n      <path clip-path=\"url(#p4a4758034d)\" d=\"M 28.934062 128.8117 \r\nL 363.734062 128.8117 \r\n\" style=\"fill:none;stroke:#ffffff;stroke-linecap:round;\"/>\r\n     </g>\r\n     <g id=\"text_8\">\r\n      <!-- 10 -->\r\n      <g style=\"fill:#262626;\" transform=\"translate(7.2 132.748496)scale(0.11 -0.11)\">\r\n       <defs>\r\n        <path d=\"M 37.25 0 \r\nL 28.46875 0 \r\nL 28.46875 56 \r\nQ 25.296875 52.984375 20.140625 49.953125 \r\nQ 14.984375 46.921875 10.890625 45.40625 \r\nL 10.890625 53.90625 \r\nQ 18.265625 57.375 23.78125 62.296875 \r\nQ 29.296875 67.234375 31.59375 71.875 \r\nL 37.25 71.875 \r\nz\r\n\" id=\"ArialMT-49\"/>\r\n       </defs>\r\n       <use xlink:href=\"#ArialMT-49\"/>\r\n       <use x=\"55.615234\" xlink:href=\"#ArialMT-48\"/>\r\n      </g>\r\n     </g>\r\n    </g>\r\n    <g id=\"ytick_4\">\r\n     <g id=\"line2d_9\">\r\n      <path clip-path=\"url(#p4a4758034d)\" d=\"M 28.934062 85.839368 \r\nL 363.734062 85.839368 \r\n\" style=\"fill:none;stroke:#ffffff;stroke-linecap:round;\"/>\r\n     </g>\r\n     <g id=\"text_9\">\r\n      <!-- 15 -->\r\n      <g style=\"fill:#262626;\" transform=\"translate(7.2 89.776164)scale(0.11 -0.11)\">\r\n       <use xlink:href=\"#ArialMT-49\"/>\r\n       <use x=\"55.615234\" xlink:href=\"#ArialMT-53\"/>\r\n      </g>\r\n     </g>\r\n    </g>\r\n    <g id=\"ytick_5\">\r\n     <g id=\"line2d_10\">\r\n      <path clip-path=\"url(#p4a4758034d)\" d=\"M 28.934062 42.867036 \r\nL 363.734062 42.867036 \r\n\" style=\"fill:none;stroke:#ffffff;stroke-linecap:round;\"/>\r\n     </g>\r\n     <g id=\"text_10\">\r\n      <!-- 20 -->\r\n      <g style=\"fill:#262626;\" transform=\"translate(7.2 46.803832)scale(0.11 -0.11)\">\r\n       <use xlink:href=\"#ArialMT-50\"/>\r\n       <use x=\"55.615234\" xlink:href=\"#ArialMT-48\"/>\r\n      </g>\r\n     </g>\r\n    </g>\r\n   </g>\r\n   <g id=\"line2d_11\">\r\n    <path clip-path=\"url(#p4a4758034d)\" d=\"M 44.152244 214.756364 \r\nL 44.152244 214.756364 \r\nL 60.171383 214.756364 \r\nL 60.171383 214.756364 \r\nL 76.190522 214.756364 \r\nL 76.190522 214.756364 \r\nL 92.209661 214.756364 \r\nL 92.209661 214.756364 \r\nL 108.228799 214.756364 \r\nL 108.228799 206.161897 \r\nL 124.247938 206.161897 \r\nL 124.247938 188.972964 \r\nL 140.267077 188.972964 \r\nL 140.267077 154.595099 \r\nL 156.286216 154.595099 \r\nL 156.286216 137.406166 \r\nL 172.305354 137.406166 \r\nL 172.305354 17.083636 \r\nL 188.324493 17.083636 \r\nL 188.324493 25.678103 \r\nL 204.343632 25.678103 \r\nL 204.343632 68.650435 \r\nL 220.362771 68.650435 \r\nL 220.362771 128.8117 \r\nL 236.381909 128.8117 \r\nL 236.381909 154.595099 \r\nL 252.401048 154.595099 \r\nL 252.401048 206.161897 \r\nL 268.420187 206.161897 \r\nL 268.420187 214.756364 \r\nL 284.439326 214.756364 \r\nL 284.439326 214.756364 \r\nL 300.458464 214.756364 \r\nL 300.458464 214.756364 \r\nL 316.477603 214.756364 \r\nL 316.477603 214.756364 \r\nL 332.496742 214.756364 \r\nL 332.496742 214.756364 \r\nL 348.515881 214.756364 \r\n\" style=\"fill:none;stroke:#4c72b0;stroke-linecap:round;stroke-width:1.5;\"/>\r\n   </g>\r\n   <g id=\"patch_3\">\r\n    <path d=\"M 28.934062 224.64 \r\nL 28.934062 7.2 \r\n\" style=\"fill:none;stroke:#ffffff;stroke-linecap:square;stroke-linejoin:miter;stroke-width:1.25;\"/>\r\n   </g>\r\n   <g id=\"patch_4\">\r\n    <path d=\"M 363.734062 224.64 \r\nL 363.734062 7.2 \r\n\" style=\"fill:none;stroke:#ffffff;stroke-linecap:square;stroke-linejoin:miter;stroke-width:1.25;\"/>\r\n   </g>\r\n   <g id=\"patch_5\">\r\n    <path d=\"M 28.934063 224.64 \r\nL 363.734063 224.64 \r\n\" style=\"fill:none;stroke:#ffffff;stroke-linecap:square;stroke-linejoin:miter;stroke-width:1.25;\"/>\r\n   </g>\r\n   <g id=\"patch_6\">\r\n    <path d=\"M 28.934063 7.2 \r\nL 363.734063 7.2 \r\n\" style=\"fill:none;stroke:#ffffff;stroke-linecap:square;stroke-linejoin:miter;stroke-width:1.25;\"/>\r\n   </g>\r\n  </g>\r\n </g>\r\n <defs>\r\n  <clipPath id=\"p4a4758034d\">\r\n   <rect height=\"217.44\" width=\"334.8\" x=\"28.934062\" y=\"7.2\"/>\r\n  </clipPath>\r\n </defs>\r\n</svg>\r\n",
      "image/png": "[encoded data removed]"
     },
     "metadata": {}
    }
   ],
   "source": [
    "# plot the results \n",
    "plt.plot(bins, counts, drawstyle='steps');"
   ]
  },
  {
   "source": [
    "plt.hist(x, bins, histtype='step');"
   ],
   "cell_type": "code",
   "metadata": {},
   "execution_count": 26,
   "outputs": [
    {
     "output_type": "display_data",
     "data": {
      "text/plain": "<Figure size 432x288 with 1 Axes>",
      "image/svg+xml": "<?xml version=\"1.0\" encoding=\"utf-8\" standalone=\"no\"?>\r\n<!DOCTYPE svg PUBLIC \"-//W3C//DTD SVG 1.1//EN\"\r\n  \"http://www.w3.org/Graphics/SVG/1.1/DTD/svg11.dtd\">\r\n<!-- Created with matplotlib (https://matplotlib.org/) -->\r\n<svg height=\"251.399844pt\" version=\"1.1\" viewBox=\"0 0 370.934062 251.399844\" width=\"370.934062pt\" xmlns=\"http://www.w3.org/2000/svg\" xmlns:xlink=\"http://www.w3.org/1999/xlink\">\r\n <metadata>\r\n  <rdf:RDF xmlns:cc=\"http://creativecommons.org/ns#\" xmlns:dc=\"http://purl.org/dc/elements/1.1/\" xmlns:rdf=\"http://www.w3.org/1999/02/22-rdf-syntax-ns#\">\r\n   <cc:Work>\r\n    <dc:type rdf:resource=\"http://purl.org/dc/dcmitype/StillImage\"/>\r\n    <dc:date>2021-02-14T09:59:23.215306</dc:date>\r\n    <dc:format>image/svg+xml</dc:format>\r\n    <dc:creator>\r\n     <cc:Agent>\r\n      <dc:title>Matplotlib v3.3.3, https://matplotlib.org/</dc:title>\r\n     </cc:Agent>\r\n    </dc:creator>\r\n   </cc:Work>\r\n  </rdf:RDF>\r\n </metadata>\r\n <defs>\r\n  <style type=\"text/css\">*{stroke-linecap:butt;stroke-linejoin:round;}</style>\r\n </defs>\r\n <g id=\"figure_1\">\r\n  <g id=\"patch_1\">\r\n   <path d=\"M 0 251.399844 \r\nL 370.934062 251.399844 \r\nL 370.934062 0 \r\nL 0 0 \r\nz\r\n\" style=\"fill:#ffffff;\"/>\r\n  </g>\r\n  <g id=\"axes_1\">\r\n   <g id=\"patch_2\">\r\n    <path d=\"M 28.934062 224.64 \r\nL 363.734062 224.64 \r\nL 363.734062 7.2 \r\nL 28.934062 7.2 \r\nz\r\n\" style=\"fill:#eaeaf2;\"/>\r\n   </g>\r\n   <g id=\"matplotlib.axis_1\">\r\n    <g id=\"xtick_1\">\r\n     <g id=\"line2d_1\">\r\n      <path clip-path=\"url(#p9a705854af)\" d=\"M 74.588608 224.64 \r\nL 74.588608 7.2 \r\n\" style=\"fill:none;stroke:#ffffff;stroke-linecap:round;\"/>\r\n     </g>\r\n     <g id=\"text_1\">\r\n      <!-- −4 -->\r\n      <g style=\"fill:#262626;\" transform=\"translate(68.317749 242.013594)scale(0.11 -0.11)\">\r\n       <defs>\r\n        <path d=\"M 52.828125 31.203125 \r\nL 5.5625 31.203125 \r\nL 5.5625 39.40625 \r\nL 52.828125 39.40625 \r\nz\r\n\" id=\"ArialMT-8722\"/>\r\n        <path d=\"M 32.328125 0 \r\nL 32.328125 17.140625 \r\nL 1.265625 17.140625 \r\nL 1.265625 25.203125 \r\nL 33.9375 71.578125 \r\nL 41.109375 71.578125 \r\nL 41.109375 25.203125 \r\nL 50.78125 25.203125 \r\nL 50.78125 17.140625 \r\nL 41.109375 17.140625 \r\nL 41.109375 0 \r\nz\r\nM 32.328125 25.203125 \r\nL 32.328125 57.46875 \r\nL 9.90625 25.203125 \r\nz\r\n\" id=\"ArialMT-52\"/>\r\n       </defs>\r\n       <use xlink:href=\"#ArialMT-8722\"/>\r\n       <use x=\"58.398438\" xlink:href=\"#ArialMT-52\"/>\r\n      </g>\r\n     </g>\r\n    </g>\r\n    <g id=\"xtick_2\">\r\n     <g id=\"line2d_2\">\r\n      <path clip-path=\"url(#p9a705854af)\" d=\"M 135.461335 224.64 \r\nL 135.461335 7.2 \r\n\" style=\"fill:none;stroke:#ffffff;stroke-linecap:round;\"/>\r\n     </g>\r\n     <g id=\"text_2\">\r\n      <!-- −2 -->\r\n      <g style=\"fill:#262626;\" transform=\"translate(129.190476 242.013594)scale(0.11 -0.11)\">\r\n       <defs>\r\n        <path d=\"M 50.34375 8.453125 \r\nL 50.34375 0 \r\nL 3.03125 0 \r\nQ 2.9375 3.171875 4.046875 6.109375 \r\nQ 5.859375 10.9375 9.828125 15.625 \r\nQ 13.8125 20.3125 21.34375 26.46875 \r\nQ 33.015625 36.03125 37.109375 41.625 \r\nQ 41.21875 47.21875 41.21875 52.203125 \r\nQ 41.21875 57.421875 37.46875 61 \r\nQ 33.734375 64.59375 27.734375 64.59375 \r\nQ 21.390625 64.59375 17.578125 60.78125 \r\nQ 13.765625 56.984375 13.71875 50.25 \r\nL 4.6875 51.171875 \r\nQ 5.609375 61.28125 11.65625 66.578125 \r\nQ 17.71875 71.875 27.9375 71.875 \r\nQ 38.234375 71.875 44.234375 66.15625 \r\nQ 50.25 60.453125 50.25 52 \r\nQ 50.25 47.703125 48.484375 43.546875 \r\nQ 46.734375 39.40625 42.65625 34.8125 \r\nQ 38.578125 30.21875 29.109375 22.21875 \r\nQ 21.1875 15.578125 18.9375 13.203125 \r\nQ 16.703125 10.84375 15.234375 8.453125 \r\nz\r\n\" id=\"ArialMT-50\"/>\r\n       </defs>\r\n       <use xlink:href=\"#ArialMT-8722\"/>\r\n       <use x=\"58.398438\" xlink:href=\"#ArialMT-50\"/>\r\n      </g>\r\n     </g>\r\n    </g>\r\n    <g id=\"xtick_3\">\r\n     <g id=\"line2d_3\">\r\n      <path clip-path=\"url(#p9a705854af)\" d=\"M 196.334063 224.64 \r\nL 196.334063 7.2 \r\n\" style=\"fill:none;stroke:#ffffff;stroke-linecap:round;\"/>\r\n     </g>\r\n     <g id=\"text_3\">\r\n      <!-- 0 -->\r\n      <g style=\"fill:#262626;\" transform=\"translate(193.275547 242.013594)scale(0.11 -0.11)\">\r\n       <defs>\r\n        <path d=\"M 4.15625 35.296875 \r\nQ 4.15625 48 6.765625 55.734375 \r\nQ 9.375 63.484375 14.515625 67.671875 \r\nQ 19.671875 71.875 27.484375 71.875 \r\nQ 33.25 71.875 37.59375 69.546875 \r\nQ 41.9375 67.234375 44.765625 62.859375 \r\nQ 47.609375 58.5 49.21875 52.21875 \r\nQ 50.828125 45.953125 50.828125 35.296875 \r\nQ 50.828125 22.703125 48.234375 14.96875 \r\nQ 45.65625 7.234375 40.5 3 \r\nQ 35.359375 -1.21875 27.484375 -1.21875 \r\nQ 17.140625 -1.21875 11.234375 6.203125 \r\nQ 4.15625 15.140625 4.15625 35.296875 \r\nz\r\nM 13.1875 35.296875 \r\nQ 13.1875 17.671875 17.3125 11.828125 \r\nQ 21.4375 6 27.484375 6 \r\nQ 33.546875 6 37.671875 11.859375 \r\nQ 41.796875 17.71875 41.796875 35.296875 \r\nQ 41.796875 52.984375 37.671875 58.78125 \r\nQ 33.546875 64.59375 27.390625 64.59375 \r\nQ 21.34375 64.59375 17.71875 59.46875 \r\nQ 13.1875 52.9375 13.1875 35.296875 \r\nz\r\n\" id=\"ArialMT-48\"/>\r\n       </defs>\r\n       <use xlink:href=\"#ArialMT-48\"/>\r\n      </g>\r\n     </g>\r\n    </g>\r\n    <g id=\"xtick_4\">\r\n     <g id=\"line2d_4\">\r\n      <path clip-path=\"url(#p9a705854af)\" d=\"M 257.20679 224.64 \r\nL 257.20679 7.2 \r\n\" style=\"fill:none;stroke:#ffffff;stroke-linecap:round;\"/>\r\n     </g>\r\n     <g id=\"text_4\">\r\n      <!-- 2 -->\r\n      <g style=\"fill:#262626;\" transform=\"translate(254.148274 242.013594)scale(0.11 -0.11)\">\r\n       <use xlink:href=\"#ArialMT-50\"/>\r\n      </g>\r\n     </g>\r\n    </g>\r\n    <g id=\"xtick_5\">\r\n     <g id=\"line2d_5\">\r\n      <path clip-path=\"url(#p9a705854af)\" d=\"M 318.079517 224.64 \r\nL 318.079517 7.2 \r\n\" style=\"fill:none;stroke:#ffffff;stroke-linecap:round;\"/>\r\n     </g>\r\n     <g id=\"text_5\">\r\n      <!-- 4 -->\r\n      <g style=\"fill:#262626;\" transform=\"translate(315.021001 242.013594)scale(0.11 -0.11)\">\r\n       <use xlink:href=\"#ArialMT-52\"/>\r\n      </g>\r\n     </g>\r\n    </g>\r\n   </g>\r\n   <g id=\"matplotlib.axis_2\">\r\n    <g id=\"ytick_1\">\r\n     <g id=\"line2d_6\">\r\n      <path clip-path=\"url(#p9a705854af)\" d=\"M 28.934062 224.64 \r\nL 363.734062 224.64 \r\n\" style=\"fill:none;stroke:#ffffff;stroke-linecap:round;\"/>\r\n     </g>\r\n     <g id=\"text_6\">\r\n      <!-- 0 -->\r\n      <g style=\"fill:#262626;\" transform=\"translate(13.317031 228.576797)scale(0.11 -0.11)\">\r\n       <use xlink:href=\"#ArialMT-48\"/>\r\n      </g>\r\n     </g>\r\n    </g>\r\n    <g id=\"ytick_2\">\r\n     <g id=\"line2d_7\">\r\n      <path clip-path=\"url(#p9a705854af)\" d=\"M 28.934062 179.621366 \r\nL 363.734062 179.621366 \r\n\" style=\"fill:none;stroke:#ffffff;stroke-linecap:round;\"/>\r\n     </g>\r\n     <g id=\"text_7\">\r\n      <!-- 5 -->\r\n      <g style=\"fill:#262626;\" transform=\"translate(13.317031 183.558163)scale(0.11 -0.11)\">\r\n       <defs>\r\n        <path d=\"M 4.15625 18.75 \r\nL 13.375 19.53125 \r\nQ 14.40625 12.796875 18.140625 9.390625 \r\nQ 21.875 6 27.15625 6 \r\nQ 33.5 6 37.890625 10.78125 \r\nQ 42.28125 15.578125 42.28125 23.484375 \r\nQ 42.28125 31 38.0625 35.34375 \r\nQ 33.84375 39.703125 27 39.703125 \r\nQ 22.75 39.703125 19.328125 37.765625 \r\nQ 15.921875 35.84375 13.96875 32.765625 \r\nL 5.71875 33.84375 \r\nL 12.640625 70.609375 \r\nL 48.25 70.609375 \r\nL 48.25 62.203125 \r\nL 19.671875 62.203125 \r\nL 15.828125 42.96875 \r\nQ 22.265625 47.46875 29.34375 47.46875 \r\nQ 38.71875 47.46875 45.15625 40.96875 \r\nQ 51.609375 34.46875 51.609375 24.265625 \r\nQ 51.609375 14.546875 45.953125 7.46875 \r\nQ 39.0625 -1.21875 27.15625 -1.21875 \r\nQ 17.390625 -1.21875 11.203125 4.25 \r\nQ 5.03125 9.71875 4.15625 18.75 \r\nz\r\n\" id=\"ArialMT-53\"/>\r\n       </defs>\r\n       <use xlink:href=\"#ArialMT-53\"/>\r\n      </g>\r\n     </g>\r\n    </g>\r\n    <g id=\"ytick_3\">\r\n     <g id=\"line2d_8\">\r\n      <path clip-path=\"url(#p9a705854af)\" d=\"M 28.934062 134.602733 \r\nL 363.734062 134.602733 \r\n\" style=\"fill:none;stroke:#ffffff;stroke-linecap:round;\"/>\r\n     </g>\r\n     <g id=\"text_8\">\r\n      <!-- 10 -->\r\n      <g style=\"fill:#262626;\" transform=\"translate(7.2 138.53953)scale(0.11 -0.11)\">\r\n       <defs>\r\n        <path d=\"M 37.25 0 \r\nL 28.46875 0 \r\nL 28.46875 56 \r\nQ 25.296875 52.984375 20.140625 49.953125 \r\nQ 14.984375 46.921875 10.890625 45.40625 \r\nL 10.890625 53.90625 \r\nQ 18.265625 57.375 23.78125 62.296875 \r\nQ 29.296875 67.234375 31.59375 71.875 \r\nL 37.25 71.875 \r\nz\r\n\" id=\"ArialMT-49\"/>\r\n       </defs>\r\n       <use xlink:href=\"#ArialMT-49\"/>\r\n       <use x=\"55.615234\" xlink:href=\"#ArialMT-48\"/>\r\n      </g>\r\n     </g>\r\n    </g>\r\n    <g id=\"ytick_4\">\r\n     <g id=\"line2d_9\">\r\n      <path clip-path=\"url(#p9a705854af)\" d=\"M 28.934062 89.584099 \r\nL 363.734062 89.584099 \r\n\" style=\"fill:none;stroke:#ffffff;stroke-linecap:round;\"/>\r\n     </g>\r\n     <g id=\"text_9\">\r\n      <!-- 15 -->\r\n      <g style=\"fill:#262626;\" transform=\"translate(7.2 93.520896)scale(0.11 -0.11)\">\r\n       <use xlink:href=\"#ArialMT-49\"/>\r\n       <use x=\"55.615234\" xlink:href=\"#ArialMT-53\"/>\r\n      </g>\r\n     </g>\r\n    </g>\r\n    <g id=\"ytick_5\">\r\n     <g id=\"line2d_10\">\r\n      <path clip-path=\"url(#p9a705854af)\" d=\"M 28.934062 44.565466 \r\nL 363.734062 44.565466 \r\n\" style=\"fill:none;stroke:#ffffff;stroke-linecap:round;\"/>\r\n     </g>\r\n     <g id=\"text_10\">\r\n      <!-- 20 -->\r\n      <g style=\"fill:#262626;\" transform=\"translate(7.2 48.502263)scale(0.11 -0.11)\">\r\n       <use xlink:href=\"#ArialMT-50\"/>\r\n       <use x=\"55.615234\" xlink:href=\"#ArialMT-48\"/>\r\n      </g>\r\n     </g>\r\n    </g>\r\n   </g>\r\n   <g id=\"patch_3\">\r\n    <path clip-path=\"url(#p9a705854af)\" d=\"M 44.152244 224.64 \r\nL 44.152244 224.64 \r\nL 60.171383 224.64 \r\nL 60.171383 224.64 \r\nL 76.190522 224.64 \r\nL 76.190522 224.64 \r\nL 92.209661 224.64 \r\nL 92.209661 224.64 \r\nL 108.228799 224.64 \r\nL 108.228799 215.636273 \r\nL 124.247938 215.636273 \r\nL 124.247938 197.62882 \r\nL 140.267077 197.62882 \r\nL 140.267077 161.613913 \r\nL 156.286216 161.613913 \r\nL 156.286216 143.60646 \r\nL 172.305354 143.60646 \r\nL 172.305354 17.554286 \r\nL 188.324493 17.554286 \r\nL 188.324493 26.558012 \r\nL 204.343632 26.558012 \r\nL 204.343632 71.576646 \r\nL 220.362771 71.576646 \r\nL 220.362771 134.602733 \r\nL 236.381909 134.602733 \r\nL 236.381909 161.613913 \r\nL 252.401048 161.613913 \r\nL 252.401048 215.636273 \r\nL 268.420187 215.636273 \r\nL 268.420187 224.64 \r\nL 284.439326 224.64 \r\nL 284.439326 224.64 \r\nL 300.458464 224.64 \r\nL 300.458464 224.64 \r\nL 316.477603 224.64 \r\nL 316.477603 224.64 \r\nL 332.496742 224.64 \r\nL 332.496742 224.64 \r\nL 348.515881 224.64 \r\nL 348.515881 224.64 \r\n\" style=\"fill:none;stroke:#4c72b0;stroke-linejoin:miter;\"/>\r\n   </g>\r\n   <g id=\"patch_4\">\r\n    <path d=\"M 28.934062 224.64 \r\nL 28.934062 7.2 \r\n\" style=\"fill:none;stroke:#ffffff;stroke-linecap:square;stroke-linejoin:miter;stroke-width:1.25;\"/>\r\n   </g>\r\n   <g id=\"patch_5\">\r\n    <path d=\"M 363.734062 224.64 \r\nL 363.734062 7.2 \r\n\" style=\"fill:none;stroke:#ffffff;stroke-linecap:square;stroke-linejoin:miter;stroke-width:1.25;\"/>\r\n   </g>\r\n   <g id=\"patch_6\">\r\n    <path d=\"M 28.934063 224.64 \r\nL 363.734063 224.64 \r\n\" style=\"fill:none;stroke:#ffffff;stroke-linecap:square;stroke-linejoin:miter;stroke-width:1.25;\"/>\r\n   </g>\r\n   <g id=\"patch_7\">\r\n    <path d=\"M 28.934063 7.2 \r\nL 363.734063 7.2 \r\n\" style=\"fill:none;stroke:#ffffff;stroke-linecap:square;stroke-linejoin:miter;stroke-width:1.25;\"/>\r\n   </g>\r\n  </g>\r\n </g>\r\n <defs>\r\n  <clipPath id=\"p9a705854af\">\r\n   <rect height=\"217.44\" width=\"334.8\" x=\"28.934062\" y=\"7.2\"/>\r\n  </clipPath>\r\n </defs>\r\n</svg>\r\n",
      "image/png": "[encoded data removed]"
     },
     "metadata": {}
    }
   ]
  },
  {
   "source": [
    "print(\"NumPy routine:\")\n",
    "%timeit counts, edges = np.histogram(x, bins)\n",
    "\n",
    "print(\"Custom routine:\")\n",
    "%timeit np.add.at(counts, np.searchsorted(bins, x), 1)"
   ],
   "cell_type": "code",
   "metadata": {},
   "execution_count": 27,
   "outputs": [
    {
     "output_type": "stream",
     "name": "stdout",
     "text": [
      "NumPy routine:\n",
      "27.2 µs ± 4.01 µs per loop (mean ± std. dev. of 7 runs, 10000 loops each)\n",
      "Custom routine:\n",
      "14.9 µs ± 1.39 µs per loop (mean ± std. dev. of 7 runs, 100000 loops each)\n"
     ]
    }
   ]
  },
  {
   "source": [
    "The custom method is sevearl time faster thant the optimized algorithm in NumPy."
   ],
   "cell_type": "markdown",
   "metadata": {}
  },
  {
   "cell_type": "code",
   "execution_count": 29,
   "metadata": {},
   "outputs": [
    {
     "output_type": "stream",
     "name": "stdout",
     "text": [
      "NumPy routine:\n",
      "59.8 ms ± 3.11 ms per loop (mean ± std. dev. of 7 runs, 10 loops each)\n",
      "Custom routine:\n",
      "105 ms ± 7.06 ms per loop (mean ± std. dev. of 7 runs, 10 loops each)\n"
     ]
    }
   ],
   "source": [
    "x = np.random.randn(1000000)\n",
    "print(\"NumPy routine:\")\n",
    "%timeit counts, edges = np.histogram(x, bins)\n",
    "\n",
    "print(\"Custom routine:\")\n",
    "%timeit np.add.at(counts, np.searchsorted(bins, x), 1)"
   ]
  },
  {
   "source": [
    "But as you can see, NumPy function is designed for better performance when the number of data points becomes large."
   ],
   "cell_type": "markdown",
   "metadata": {}
  }
 ]
}