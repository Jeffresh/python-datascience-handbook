{
 "metadata": {
  "language_info": {
   "codemirror_mode": {
    "name": "ipython",
    "version": 3
   },
   "file_extension": ".py",
   "mimetype": "text/x-python",
   "name": "python",
   "nbconvert_exporter": "python",
   "pygments_lexer": "ipython3",
   "version": "3.8.6-final"
  },
  "orig_nbformat": 2,
  "kernelspec": {
   "name": "python3",
   "display_name": "Python 3",
   "language": "python"
  }
 },
 "nbformat": 4,
 "nbformat_minor": 2,
 "cells": [
  {
   "source": [
    "# Fancy Indexing\n",
    "\n",
    "In the previous sections, we saw how to access and modify portions of arrays using simple indices `(arr[0])`, `slices(arr[:5])`, and Boolean masks `(arr[arr > 0])`. In this section, we'll llok at another style of array indexing, known as *fancy indexing*. Fancy indexing islike the simple indexing we've already seen, but we pass arrays of indices in place of single scalars. this allows us to very quickly access and modify copmlicated subsets of an array's values."
   ],
   "cell_type": "markdown",
   "metadata": {}
  },
  {
   "source": [
    "## Exploring Fancy Indexing\n",
    "\n",
    "Fancy indexing is conceptually sipmle: it means passing and array of indices to access multiple array elements at once. For example, consider the following array:"
   ],
   "cell_type": "markdown",
   "metadata": {}
  },
  {
   "cell_type": "code",
   "execution_count": 2,
   "metadata": {},
   "outputs": [
    {
     "output_type": "stream",
     "name": "stdout",
     "text": [
      "[51 92 14 71 60 20 82 86 74 74]\n"
     ]
    }
   ],
   "source": [
    "import numpy as np \n",
    "rand = np.random.RandomState(42)\n",
    "\n",
    "x = rand.randint(100, size=10)\n",
    "print(x)"
   ]
  },
  {
   "source": [
    "Suppose we want to access three different elements. We could do it like this:"
   ],
   "cell_type": "markdown",
   "metadata": {}
  },
  {
   "cell_type": "code",
   "execution_count": 3,
   "metadata": {},
   "outputs": [
    {
     "output_type": "execute_result",
     "data": {
      "text/plain": [
       "[71, 86, 14]"
      ]
     },
     "metadata": {},
     "execution_count": 3
    }
   ],
   "source": [
    "[x[3], x[7], x[2]]"
   ]
  },
  {
   "source": [
    "When using fancy indexing, the shape of the result reflects the shape of the index arrays rather than the shape of the array being indexed:"
   ],
   "cell_type": "markdown",
   "metadata": {}
  },
  {
   "cell_type": "code",
   "execution_count": 4,
   "metadata": {},
   "outputs": [],
   "source": [
    "ind = np.array([[3, 7], [4, 5]])"
   ]
  },
  {
   "cell_type": "code",
   "execution_count": 5,
   "metadata": {},
   "outputs": [
    {
     "output_type": "execute_result",
     "data": {
      "text/plain": [
       "array([[71, 86],\n",
       "       [60, 20]])"
      ]
     },
     "metadata": {},
     "execution_count": 5
    }
   ],
   "source": [
    "x[ind]"
   ]
  },
  {
   "source": [
    "Fancy indexing also works in multiple dimensions. Consider the following array:"
   ],
   "cell_type": "markdown",
   "metadata": {}
  },
  {
   "cell_type": "code",
   "execution_count": 6,
   "metadata": {},
   "outputs": [
    {
     "output_type": "execute_result",
     "data": {
      "text/plain": [
       "array([[ 0,  1,  2,  3],\n",
       "       [ 4,  5,  6,  7],\n",
       "       [ 8,  9, 10, 11]])"
      ]
     },
     "metadata": {},
     "execution_count": 6
    }
   ],
   "source": [
    "X = np.arange(12).reshape((3, 4))\n",
    "X"
   ]
  },
  {
   "source": [
    "Like with standard indexing, the first index refers to the row, and the second to the column:"
   ],
   "cell_type": "markdown",
   "metadata": {}
  },
  {
   "cell_type": "code",
   "execution_count": 7,
   "metadata": {},
   "outputs": [
    {
     "output_type": "execute_result",
     "data": {
      "text/plain": [
       "array([ 2,  5, 11])"
      ]
     },
     "metadata": {},
     "execution_count": 7
    }
   ],
   "source": [
    "row = np.array([0, 1, 2])\n",
    "col = np.array([2, 1, 3])\n",
    "X[row, col]"
   ]
  },
  {
   "source": [
    "Notice that the first value in the result is `X[0, 2]`, the seconds is `X[1, 1]`, and the third is `X[2, 3]`. The pairing of the indices in fancy indexing follows all the broadcasting rules that were mentioned. So for example, if we combine a column vector and a row vector within the indices, we get a two-dimensional result:"
   ],
   "cell_type": "markdown",
   "metadata": {}
  },
  {
   "cell_type": "code",
   "execution_count": 8,
   "metadata": {},
   "outputs": [
    {
     "output_type": "execute_result",
     "data": {
      "text/plain": [
       "array([[ 2,  1,  3],\n",
       "       [ 6,  5,  7],\n",
       "       [10,  9, 11]])"
      ]
     },
     "metadata": {},
     "execution_count": 8
    }
   ],
   "source": [
    "X[row[:, np.newaxis], col]"
   ]
  },
  {
   "source": [
    "Here, each row value is matched with each column vector, exactly as we saw in broadcasting of arithmetic operations. For example:"
   ],
   "cell_type": "markdown",
   "metadata": {}
  },
  {
   "cell_type": "code",
   "execution_count": 9,
   "metadata": {},
   "outputs": [
    {
     "output_type": "execute_result",
     "data": {
      "text/plain": [
       "array([[0, 0, 0],\n",
       "       [2, 1, 3],\n",
       "       [4, 2, 6]])"
      ]
     },
     "metadata": {},
     "execution_count": 9
    }
   ],
   "source": [
    "row[:, np.newaxis] * col"
   ]
  },
  {
   "source": [
    "It is always important to remember with fancy indexing that the return value deflects the *broadcasted shape of the indices*, rather than the shape of the array being indexed"
   ],
   "cell_type": "markdown",
   "metadata": {}
  },
  {
   "source": [
    "## Combined Indexing\n",
    "For even more powerful operations, fancy indexing can be combined with the other indexing schemes we've seen:"
   ],
   "cell_type": "markdown",
   "metadata": {}
  },
  {
   "cell_type": "code",
   "execution_count": 10,
   "metadata": {},
   "outputs": [
    {
     "output_type": "stream",
     "name": "stdout",
     "text": [
      "[[ 0  1  2  3]\n [ 4  5  6  7]\n [ 8  9 10 11]]\n"
     ]
    }
   ],
   "source": [
    "print(X)"
   ]
  },
  {
   "source": [
    "We can also combine fancy indexing with slicing:"
   ],
   "cell_type": "markdown",
   "metadata": {}
  },
  {
   "cell_type": "code",
   "execution_count": 12,
   "metadata": {},
   "outputs": [
    {
     "output_type": "execute_result",
     "data": {
      "text/plain": [
       "array([[ 6,  4,  5],\n",
       "       [10,  8,  9]])"
      ]
     },
     "metadata": {},
     "execution_count": 12
    }
   ],
   "source": [
    "X[1:, [2, 0, 1]]"
   ]
  },
  {
   "source": [
    "And we can combine fancy indexing with masking:"
   ],
   "cell_type": "markdown",
   "metadata": {}
  },
  {
   "cell_type": "code",
   "execution_count": 14,
   "metadata": {},
   "outputs": [
    {
     "output_type": "execute_result",
     "data": {
      "text/plain": [
       "array([[ 0,  2],\n",
       "       [ 4,  6],\n",
       "       [ 8, 10]])"
      ]
     },
     "metadata": {},
     "execution_count": 14
    }
   ],
   "source": [
    "mask = np.array([1, 0, 1, 0], dtype=bool)\n",
    "X[row[:, np.newaxis], mask]"
   ]
  },
  {
   "source": [
    "All of these indexing options combined lead to a very flexible set of operations for accessing and modifying array values."
   ],
   "cell_type": "markdown",
   "metadata": {}
  },
  {
   "source": [
    "## Example: Selecting Random Points\n",
    "One common use of fancy indexing is the selection of subsets of rows from a matrix.\n",
    "For example, we might have an **N** by **D** matrix representing **N** points in **D** dimensions, such as the following points \n",
    "draw from a two-dimensional normal distribution:"
   ],
   "cell_type": "markdown",
   "metadata": {}
  },
  {
   "cell_type": "code",
   "execution_count": 16,
   "metadata": {},
   "outputs": [
    {
     "output_type": "execute_result",
     "data": {
      "text/plain": [
       "(100, 2)"
      ]
     },
     "metadata": {},
     "execution_count": 16
    }
   ],
   "source": [
    "mean = [0, 0]\n",
    "cov =  [[1, 2], [2, 5]]\n",
    "X = rand.multivariate_normal(mean, cov, 100)\n",
    "X.shape"
   ]
  },
  {
   "source": [
    "Using the plotting tools, we can visualize these points as a scatter-plot:"
   ],
   "cell_type": "markdown",
   "metadata": {}
  },
  {
   "cell_type": "code",
   "execution_count": 18,
   "metadata": {},
   "outputs": [
    {
     "output_type": "execute_result",
     "data": {
      "text/plain": [
       "<matplotlib.collections.PathCollection at 0x1dcd6bf8760>"
      ]
     },
     "metadata": {},
     "execution_count": 18
    },
    {
     "output_type": "display_data",
     "data": {
      "text/plain": "<Figure size 432x288 with 1 Axes>",
      "image/svg+xml": "<?xml version=\"1.0\" encoding=\"utf-8\" standalone=\"no\"?>\r\n<!DOCTYPE svg PUBLIC \"-//W3C//DTD SVG 1.1//EN\"\r\n  \"http://www.w3.org/Graphics/SVG/1.1/DTD/svg11.dtd\">\r\n<!-- Created with matplotlib (https://matplotlib.org/) -->\r\n<svg height=\"251.399844pt\" version=\"1.1\" viewBox=\"0 0 371.241719 251.399844\" width=\"371.241719pt\" xmlns=\"http://www.w3.org/2000/svg\" xmlns:xlink=\"http://www.w3.org/1999/xlink\">\r\n <metadata>\r\n  <rdf:RDF xmlns:cc=\"http://creativecommons.org/ns#\" xmlns:dc=\"http://purl.org/dc/elements/1.1/\" xmlns:rdf=\"http://www.w3.org/1999/02/22-rdf-syntax-ns#\">\r\n   <cc:Work>\r\n    <dc:type rdf:resource=\"http://purl.org/dc/dcmitype/StillImage\"/>\r\n    <dc:date>2021-02-13T19:34:05.973375</dc:date>\r\n    <dc:format>image/svg+xml</dc:format>\r\n    <dc:creator>\r\n     <cc:Agent>\r\n      <dc:title>Matplotlib v3.3.3, https://matplotlib.org/</dc:title>\r\n     </cc:Agent>\r\n    </dc:creator>\r\n   </cc:Work>\r\n  </rdf:RDF>\r\n </metadata>\r\n <defs>\r\n  <style type=\"text/css\">*{stroke-linecap:butt;stroke-linejoin:round;}</style>\r\n </defs>\r\n <g id=\"figure_1\">\r\n  <g id=\"patch_1\">\r\n   <path d=\"M 0 251.399844 \r\nL 371.241719 251.399844 \r\nL 371.241719 0 \r\nL 0 0 \r\nz\r\n\" style=\"fill:#ffffff;\"/>\r\n  </g>\r\n  <g id=\"axes_1\">\r\n   <g id=\"patch_2\">\r\n    <path d=\"M 29.241719 224.64 \r\nL 364.041719 224.64 \r\nL 364.041719 7.2 \r\nL 29.241719 7.2 \r\nz\r\n\" style=\"fill:#eaeaf2;\"/>\r\n   </g>\r\n   <g id=\"matplotlib.axis_1\">\r\n    <g id=\"xtick_1\">\r\n     <g id=\"line2d_1\">\r\n      <path clip-path=\"url(#p0a50384e17)\" d=\"M 39.644939 224.64 \r\nL 39.644939 7.2 \r\n\" style=\"fill:none;stroke:#ffffff;stroke-linecap:round;\"/>\r\n     </g>\r\n     <g id=\"text_1\">\r\n      <!-- −3 -->\r\n      <g style=\"fill:#262626;\" transform=\"translate(33.374079 242.013594)scale(0.11 -0.11)\">\r\n       <defs>\r\n        <path d=\"M 52.828125 31.203125 \r\nL 5.5625 31.203125 \r\nL 5.5625 39.40625 \r\nL 52.828125 39.40625 \r\nz\r\n\" id=\"ArialMT-8722\"/>\r\n        <path d=\"M 4.203125 18.890625 \r\nL 12.984375 20.0625 \r\nQ 14.5 12.59375 18.140625 9.296875 \r\nQ 21.78125 6 27 6 \r\nQ 33.203125 6 37.46875 10.296875 \r\nQ 41.75 14.59375 41.75 20.953125 \r\nQ 41.75 27 37.796875 30.921875 \r\nQ 33.84375 34.859375 27.734375 34.859375 \r\nQ 25.25 34.859375 21.53125 33.890625 \r\nL 22.515625 41.609375 \r\nQ 23.390625 41.5 23.921875 41.5 \r\nQ 29.546875 41.5 34.03125 44.421875 \r\nQ 38.53125 47.359375 38.53125 53.46875 \r\nQ 38.53125 58.296875 35.25 61.46875 \r\nQ 31.984375 64.65625 26.8125 64.65625 \r\nQ 21.6875 64.65625 18.265625 61.421875 \r\nQ 14.84375 58.203125 13.875 51.765625 \r\nL 5.078125 53.328125 \r\nQ 6.6875 62.15625 12.390625 67.015625 \r\nQ 18.109375 71.875 26.609375 71.875 \r\nQ 32.46875 71.875 37.390625 69.359375 \r\nQ 42.328125 66.84375 44.9375 62.5 \r\nQ 47.5625 58.15625 47.5625 53.265625 \r\nQ 47.5625 48.640625 45.0625 44.828125 \r\nQ 42.578125 41.015625 37.703125 38.765625 \r\nQ 44.046875 37.3125 47.5625 32.6875 \r\nQ 51.078125 28.078125 51.078125 21.140625 \r\nQ 51.078125 11.765625 44.234375 5.25 \r\nQ 37.40625 -1.265625 26.953125 -1.265625 \r\nQ 17.53125 -1.265625 11.296875 4.34375 \r\nQ 5.078125 9.96875 4.203125 18.890625 \r\nz\r\n\" id=\"ArialMT-51\"/>\r\n       </defs>\r\n       <use xlink:href=\"#ArialMT-8722\"/>\r\n       <use x=\"58.398438\" xlink:href=\"#ArialMT-51\"/>\r\n      </g>\r\n     </g>\r\n    </g>\r\n    <g id=\"xtick_2\">\r\n     <g id=\"line2d_2\">\r\n      <path clip-path=\"url(#p0a50384e17)\" d=\"M 94.752005 224.64 \r\nL 94.752005 7.2 \r\n\" style=\"fill:none;stroke:#ffffff;stroke-linecap:round;\"/>\r\n     </g>\r\n     <g id=\"text_2\">\r\n      <!-- −2 -->\r\n      <g style=\"fill:#262626;\" transform=\"translate(88.481146 242.013594)scale(0.11 -0.11)\">\r\n       <defs>\r\n        <path d=\"M 50.34375 8.453125 \r\nL 50.34375 0 \r\nL 3.03125 0 \r\nQ 2.9375 3.171875 4.046875 6.109375 \r\nQ 5.859375 10.9375 9.828125 15.625 \r\nQ 13.8125 20.3125 21.34375 26.46875 \r\nQ 33.015625 36.03125 37.109375 41.625 \r\nQ 41.21875 47.21875 41.21875 52.203125 \r\nQ 41.21875 57.421875 37.46875 61 \r\nQ 33.734375 64.59375 27.734375 64.59375 \r\nQ 21.390625 64.59375 17.578125 60.78125 \r\nQ 13.765625 56.984375 13.71875 50.25 \r\nL 4.6875 51.171875 \r\nQ 5.609375 61.28125 11.65625 66.578125 \r\nQ 17.71875 71.875 27.9375 71.875 \r\nQ 38.234375 71.875 44.234375 66.15625 \r\nQ 50.25 60.453125 50.25 52 \r\nQ 50.25 47.703125 48.484375 43.546875 \r\nQ 46.734375 39.40625 42.65625 34.8125 \r\nQ 38.578125 30.21875 29.109375 22.21875 \r\nQ 21.1875 15.578125 18.9375 13.203125 \r\nQ 16.703125 10.84375 15.234375 8.453125 \r\nz\r\n\" id=\"ArialMT-50\"/>\r\n       </defs>\r\n       <use xlink:href=\"#ArialMT-8722\"/>\r\n       <use x=\"58.398438\" xlink:href=\"#ArialMT-50\"/>\r\n      </g>\r\n     </g>\r\n    </g>\r\n    <g id=\"xtick_3\">\r\n     <g id=\"line2d_3\">\r\n      <path clip-path=\"url(#p0a50384e17)\" d=\"M 149.859072 224.64 \r\nL 149.859072 7.2 \r\n\" style=\"fill:none;stroke:#ffffff;stroke-linecap:round;\"/>\r\n     </g>\r\n     <g id=\"text_3\">\r\n      <!-- −1 -->\r\n      <g style=\"fill:#262626;\" transform=\"translate(143.588212 242.013594)scale(0.11 -0.11)\">\r\n       <defs>\r\n        <path d=\"M 37.25 0 \r\nL 28.46875 0 \r\nL 28.46875 56 \r\nQ 25.296875 52.984375 20.140625 49.953125 \r\nQ 14.984375 46.921875 10.890625 45.40625 \r\nL 10.890625 53.90625 \r\nQ 18.265625 57.375 23.78125 62.296875 \r\nQ 29.296875 67.234375 31.59375 71.875 \r\nL 37.25 71.875 \r\nz\r\n\" id=\"ArialMT-49\"/>\r\n       </defs>\r\n       <use xlink:href=\"#ArialMT-8722\"/>\r\n       <use x=\"58.398438\" xlink:href=\"#ArialMT-49\"/>\r\n      </g>\r\n     </g>\r\n    </g>\r\n    <g id=\"xtick_4\">\r\n     <g id=\"line2d_4\">\r\n      <path clip-path=\"url(#p0a50384e17)\" d=\"M 204.966138 224.64 \r\nL 204.966138 7.2 \r\n\" style=\"fill:none;stroke:#ffffff;stroke-linecap:round;\"/>\r\n     </g>\r\n     <g id=\"text_4\">\r\n      <!-- 0 -->\r\n      <g style=\"fill:#262626;\" transform=\"translate(201.907623 242.013594)scale(0.11 -0.11)\">\r\n       <defs>\r\n        <path d=\"M 4.15625 35.296875 \r\nQ 4.15625 48 6.765625 55.734375 \r\nQ 9.375 63.484375 14.515625 67.671875 \r\nQ 19.671875 71.875 27.484375 71.875 \r\nQ 33.25 71.875 37.59375 69.546875 \r\nQ 41.9375 67.234375 44.765625 62.859375 \r\nQ 47.609375 58.5 49.21875 52.21875 \r\nQ 50.828125 45.953125 50.828125 35.296875 \r\nQ 50.828125 22.703125 48.234375 14.96875 \r\nQ 45.65625 7.234375 40.5 3 \r\nQ 35.359375 -1.21875 27.484375 -1.21875 \r\nQ 17.140625 -1.21875 11.234375 6.203125 \r\nQ 4.15625 15.140625 4.15625 35.296875 \r\nz\r\nM 13.1875 35.296875 \r\nQ 13.1875 17.671875 17.3125 11.828125 \r\nQ 21.4375 6 27.484375 6 \r\nQ 33.546875 6 37.671875 11.859375 \r\nQ 41.796875 17.71875 41.796875 35.296875 \r\nQ 41.796875 52.984375 37.671875 58.78125 \r\nQ 33.546875 64.59375 27.390625 64.59375 \r\nQ 21.34375 64.59375 17.71875 59.46875 \r\nQ 13.1875 52.9375 13.1875 35.296875 \r\nz\r\n\" id=\"ArialMT-48\"/>\r\n       </defs>\r\n       <use xlink:href=\"#ArialMT-48\"/>\r\n      </g>\r\n     </g>\r\n    </g>\r\n    <g id=\"xtick_5\">\r\n     <g id=\"line2d_5\">\r\n      <path clip-path=\"url(#p0a50384e17)\" d=\"M 260.073205 224.64 \r\nL 260.073205 7.2 \r\n\" style=\"fill:none;stroke:#ffffff;stroke-linecap:round;\"/>\r\n     </g>\r\n     <g id=\"text_5\">\r\n      <!-- 1 -->\r\n      <g style=\"fill:#262626;\" transform=\"translate(257.014689 242.013594)scale(0.11 -0.11)\">\r\n       <use xlink:href=\"#ArialMT-49\"/>\r\n      </g>\r\n     </g>\r\n    </g>\r\n    <g id=\"xtick_6\">\r\n     <g id=\"line2d_6\">\r\n      <path clip-path=\"url(#p0a50384e17)\" d=\"M 315.180271 224.64 \r\nL 315.180271 7.2 \r\n\" style=\"fill:none;stroke:#ffffff;stroke-linecap:round;\"/>\r\n     </g>\r\n     <g id=\"text_6\">\r\n      <!-- 2 -->\r\n      <g style=\"fill:#262626;\" transform=\"translate(312.121756 242.013594)scale(0.11 -0.11)\">\r\n       <use xlink:href=\"#ArialMT-50\"/>\r\n      </g>\r\n     </g>\r\n    </g>\r\n   </g>\r\n   <g id=\"matplotlib.axis_2\">\r\n    <g id=\"ytick_1\">\r\n     <g id=\"line2d_7\">\r\n      <path clip-path=\"url(#p0a50384e17)\" d=\"M 29.241719 194.987456 \r\nL 364.041719 194.987456 \r\n\" style=\"fill:none;stroke:#ffffff;stroke-linecap:round;\"/>\r\n     </g>\r\n     <g id=\"text_7\">\r\n      <!-- −4 -->\r\n      <g style=\"fill:#262626;\" transform=\"translate(7.2 198.924252)scale(0.11 -0.11)\">\r\n       <defs>\r\n        <path d=\"M 32.328125 0 \r\nL 32.328125 17.140625 \r\nL 1.265625 17.140625 \r\nL 1.265625 25.203125 \r\nL 33.9375 71.578125 \r\nL 41.109375 71.578125 \r\nL 41.109375 25.203125 \r\nL 50.78125 25.203125 \r\nL 50.78125 17.140625 \r\nL 41.109375 17.140625 \r\nL 41.109375 0 \r\nz\r\nM 32.328125 25.203125 \r\nL 32.328125 57.46875 \r\nL 9.90625 25.203125 \r\nz\r\n\" id=\"ArialMT-52\"/>\r\n       </defs>\r\n       <use xlink:href=\"#ArialMT-8722\"/>\r\n       <use x=\"58.398438\" xlink:href=\"#ArialMT-52\"/>\r\n      </g>\r\n     </g>\r\n    </g>\r\n    <g id=\"ytick_2\">\r\n     <g id=\"line2d_8\">\r\n      <path clip-path=\"url(#p0a50384e17)\" d=\"M 29.241719 156.838376 \r\nL 364.041719 156.838376 \r\n\" style=\"fill:none;stroke:#ffffff;stroke-linecap:round;\"/>\r\n     </g>\r\n     <g id=\"text_8\">\r\n      <!-- −2 -->\r\n      <g style=\"fill:#262626;\" transform=\"translate(7.2 160.775173)scale(0.11 -0.11)\">\r\n       <use xlink:href=\"#ArialMT-8722\"/>\r\n       <use x=\"58.398438\" xlink:href=\"#ArialMT-50\"/>\r\n      </g>\r\n     </g>\r\n    </g>\r\n    <g id=\"ytick_3\">\r\n     <g id=\"line2d_9\">\r\n      <path clip-path=\"url(#p0a50384e17)\" d=\"M 29.241719 118.689297 \r\nL 364.041719 118.689297 \r\n\" style=\"fill:none;stroke:#ffffff;stroke-linecap:round;\"/>\r\n     </g>\r\n     <g id=\"text_9\">\r\n      <!-- 0 -->\r\n      <g style=\"fill:#262626;\" transform=\"translate(13.624688 122.626094)scale(0.11 -0.11)\">\r\n       <use xlink:href=\"#ArialMT-48\"/>\r\n      </g>\r\n     </g>\r\n    </g>\r\n    <g id=\"ytick_4\">\r\n     <g id=\"line2d_10\">\r\n      <path clip-path=\"url(#p0a50384e17)\" d=\"M 29.241719 80.540218 \r\nL 364.041719 80.540218 \r\n\" style=\"fill:none;stroke:#ffffff;stroke-linecap:round;\"/>\r\n     </g>\r\n     <g id=\"text_10\">\r\n      <!-- 2 -->\r\n      <g style=\"fill:#262626;\" transform=\"translate(13.624688 84.477015)scale(0.11 -0.11)\">\r\n       <use xlink:href=\"#ArialMT-50\"/>\r\n      </g>\r\n     </g>\r\n    </g>\r\n    <g id=\"ytick_5\">\r\n     <g id=\"line2d_11\">\r\n      <path clip-path=\"url(#p0a50384e17)\" d=\"M 29.241719 42.391138 \r\nL 364.041719 42.391138 \r\n\" style=\"fill:none;stroke:#ffffff;stroke-linecap:round;\"/>\r\n     </g>\r\n     <g id=\"text_11\">\r\n      <!-- 4 -->\r\n      <g style=\"fill:#262626;\" transform=\"translate(13.624688 46.327935)scale(0.11 -0.11)\">\r\n       <use xlink:href=\"#ArialMT-52\"/>\r\n      </g>\r\n     </g>\r\n    </g>\r\n   </g>\r\n   <g id=\"PathCollection_1\">\r\n    <defs>\r\n     <path d=\"M 0 3 \r\nC 0.795609 3 1.55874 2.683901 2.12132 2.12132 \r\nC 2.683901 1.55874 3 0.795609 3 0 \r\nC 3 -0.795609 2.683901 -1.55874 2.12132 -2.12132 \r\nC 1.55874 -2.683901 0.795609 -3 0 -3 \r\nC -0.795609 -3 -1.55874 -2.683901 -2.12132 -2.12132 \r\nC -2.683901 -1.55874 -3 -0.795609 -3 0 \r\nC -3 0.795609 -2.683901 1.55874 -2.12132 2.12132 \r\nC -1.55874 2.683901 -0.795609 3 0 3 \r\nz\r\n\" id=\"m1ae2eb72b4\" style=\"stroke:#4c72b0;\"/>\r\n    </defs>\r\n    <g clip-path=\"url(#p0a50384e17)\">\r\n     <use style=\"fill:#4c72b0;stroke:#4c72b0;\" x=\"224.646949\" xlink:href=\"#m1ae2eb72b4\" y=\"73.710051\"/>\r\n     <use style=\"fill:#4c72b0;stroke:#4c72b0;\" x=\"171.61978\" xlink:href=\"#m1ae2eb72b4\" y=\"159.023345\"/>\r\n     <use style=\"fill:#4c72b0;stroke:#4c72b0;\" x=\"184.0418\" xlink:href=\"#m1ae2eb72b4\" y=\"130.864301\"/>\r\n     <use style=\"fill:#4c72b0;stroke:#4c72b0;\" x=\"185.360303\" xlink:href=\"#m1ae2eb72b4\" y=\"117.071187\"/>\r\n     <use style=\"fill:#4c72b0;stroke:#4c72b0;\" x=\"131.632954\" xlink:href=\"#m1ae2eb72b4\" y=\"179.819048\"/>\r\n     <use style=\"fill:#4c72b0;stroke:#4c72b0;\" x=\"116.36815\" xlink:href=\"#m1ae2eb72b4\" y=\"172.32331\"/>\r\n     <use style=\"fill:#4c72b0;stroke:#4c72b0;\" x=\"189.424007\" xlink:href=\"#m1ae2eb72b4\" y=\"128.039566\"/>\r\n     <use style=\"fill:#4c72b0;stroke:#4c72b0;\" x=\"295.294928\" xlink:href=\"#m1ae2eb72b4\" y=\"74.191448\"/>\r\n     <use style=\"fill:#4c72b0;stroke:#4c72b0;\" x=\"214.614759\" xlink:href=\"#m1ae2eb72b4\" y=\"128.298086\"/>\r\n     <use style=\"fill:#4c72b0;stroke:#4c72b0;\" x=\"218.259373\" xlink:href=\"#m1ae2eb72b4\" y=\"118.619573\"/>\r\n     <use style=\"fill:#4c72b0;stroke:#4c72b0;\" x=\"288.487554\" xlink:href=\"#m1ae2eb72b4\" y=\"41.517984\"/>\r\n     <use style=\"fill:#4c72b0;stroke:#4c72b0;\" x=\"224.379627\" xlink:href=\"#m1ae2eb72b4\" y=\"100.810695\"/>\r\n     <use style=\"fill:#4c72b0;stroke:#4c72b0;\" x=\"257.497751\" xlink:href=\"#m1ae2eb72b4\" y=\"81.704134\"/>\r\n     <use style=\"fill:#4c72b0;stroke:#4c72b0;\" x=\"122.812655\" xlink:href=\"#m1ae2eb72b4\" y=\"184.686464\"/>\r\n     <use style=\"fill:#4c72b0;stroke:#4c72b0;\" x=\"203.786806\" xlink:href=\"#m1ae2eb72b4\" y=\"145.91339\"/>\r\n     <use style=\"fill:#4c72b0;stroke:#4c72b0;\" x=\"44.459901\" xlink:href=\"#m1ae2eb72b4\" y=\"214.756364\"/>\r\n     <use style=\"fill:#4c72b0;stroke:#4c72b0;\" x=\"118.073032\" xlink:href=\"#m1ae2eb72b4\" y=\"174.190381\"/>\r\n     <use style=\"fill:#4c72b0;stroke:#4c72b0;\" x=\"194.872454\" xlink:href=\"#m1ae2eb72b4\" y=\"117.996927\"/>\r\n     <use style=\"fill:#4c72b0;stroke:#4c72b0;\" x=\"164.864684\" xlink:href=\"#m1ae2eb72b4\" y=\"165.177461\"/>\r\n     <use style=\"fill:#4c72b0;stroke:#4c72b0;\" x=\"262.796188\" xlink:href=\"#m1ae2eb72b4\" y=\"104.824963\"/>\r\n     <use style=\"fill:#4c72b0;stroke:#4c72b0;\" x=\"209.226752\" xlink:href=\"#m1ae2eb72b4\" y=\"80.829475\"/>\r\n     <use style=\"fill:#4c72b0;stroke:#4c72b0;\" x=\"228.686357\" xlink:href=\"#m1ae2eb72b4\" y=\"105.429895\"/>\r\n     <use style=\"fill:#4c72b0;stroke:#4c72b0;\" x=\"222.787445\" xlink:href=\"#m1ae2eb72b4\" y=\"137.083248\"/>\r\n     <use style=\"fill:#4c72b0;stroke:#4c72b0;\" x=\"130.127892\" xlink:href=\"#m1ae2eb72b4\" y=\"155.081191\"/>\r\n     <use style=\"fill:#4c72b0;stroke:#4c72b0;\" x=\"150.932504\" xlink:href=\"#m1ae2eb72b4\" y=\"129.748287\"/>\r\n     <use style=\"fill:#4c72b0;stroke:#4c72b0;\" x=\"233.636869\" xlink:href=\"#m1ae2eb72b4\" y=\"56.665107\"/>\r\n     <use style=\"fill:#4c72b0;stroke:#4c72b0;\" x=\"269.161523\" xlink:href=\"#m1ae2eb72b4\" y=\"91.470059\"/>\r\n     <use style=\"fill:#4c72b0;stroke:#4c72b0;\" x=\"177.5744\" xlink:href=\"#m1ae2eb72b4\" y=\"102.929421\"/>\r\n     <use style=\"fill:#4c72b0;stroke:#4c72b0;\" x=\"225.622999\" xlink:href=\"#m1ae2eb72b4\" y=\"120.681881\"/>\r\n     <use style=\"fill:#4c72b0;stroke:#4c72b0;\" x=\"273.111424\" xlink:href=\"#m1ae2eb72b4\" y=\"63.914236\"/>\r\n     <use style=\"fill:#4c72b0;stroke:#4c72b0;\" x=\"333.953399\" xlink:href=\"#m1ae2eb72b4\" y=\"37.745534\"/>\r\n     <use style=\"fill:#4c72b0;stroke:#4c72b0;\" x=\"98.499299\" xlink:href=\"#m1ae2eb72b4\" y=\"180.337629\"/>\r\n     <use style=\"fill:#4c72b0;stroke:#4c72b0;\" x=\"221.324095\" xlink:href=\"#m1ae2eb72b4\" y=\"114.634009\"/>\r\n     <use style=\"fill:#4c72b0;stroke:#4c72b0;\" x=\"152.471439\" xlink:href=\"#m1ae2eb72b4\" y=\"114.079238\"/>\r\n     <use style=\"fill:#4c72b0;stroke:#4c72b0;\" x=\"165.162838\" xlink:href=\"#m1ae2eb72b4\" y=\"133.168199\"/>\r\n     <use style=\"fill:#4c72b0;stroke:#4c72b0;\" x=\"213.989493\" xlink:href=\"#m1ae2eb72b4\" y=\"109.891685\"/>\r\n     <use style=\"fill:#4c72b0;stroke:#4c72b0;\" x=\"169.358444\" xlink:href=\"#m1ae2eb72b4\" y=\"145.841362\"/>\r\n     <use style=\"fill:#4c72b0;stroke:#4c72b0;\" x=\"274.561185\" xlink:href=\"#m1ae2eb72b4\" y=\"34.094244\"/>\r\n     <use style=\"fill:#4c72b0;stroke:#4c72b0;\" x=\"191.759351\" xlink:href=\"#m1ae2eb72b4\" y=\"86.134954\"/>\r\n     <use style=\"fill:#4c72b0;stroke:#4c72b0;\" x=\"168.500401\" xlink:href=\"#m1ae2eb72b4\" y=\"147.696447\"/>\r\n     <use style=\"fill:#4c72b0;stroke:#4c72b0;\" x=\"184.887052\" xlink:href=\"#m1ae2eb72b4\" y=\"137.708372\"/>\r\n     <use style=\"fill:#4c72b0;stroke:#4c72b0;\" x=\"225.353596\" xlink:href=\"#m1ae2eb72b4\" y=\"97.366493\"/>\r\n     <use style=\"fill:#4c72b0;stroke:#4c72b0;\" x=\"169.70551\" xlink:href=\"#m1ae2eb72b4\" y=\"157.745451\"/>\r\n     <use style=\"fill:#4c72b0;stroke:#4c72b0;\" x=\"244.142402\" xlink:href=\"#m1ae2eb72b4\" y=\"93.291266\"/>\r\n     <use style=\"fill:#4c72b0;stroke:#4c72b0;\" x=\"125.864878\" xlink:href=\"#m1ae2eb72b4\" y=\"154.800422\"/>\r\n     <use style=\"fill:#4c72b0;stroke:#4c72b0;\" x=\"174.276102\" xlink:href=\"#m1ae2eb72b4\" y=\"132.333421\"/>\r\n     <use style=\"fill:#4c72b0;stroke:#4c72b0;\" x=\"218.536157\" xlink:href=\"#m1ae2eb72b4\" y=\"89.247969\"/>\r\n     <use style=\"fill:#4c72b0;stroke:#4c72b0;\" x=\"191.85152\" xlink:href=\"#m1ae2eb72b4\" y=\"144.309874\"/>\r\n     <use style=\"fill:#4c72b0;stroke:#4c72b0;\" x=\"321.720663\" xlink:href=\"#m1ae2eb72b4\" y=\"46.323871\"/>\r\n     <use style=\"fill:#4c72b0;stroke:#4c72b0;\" x=\"214.533196\" xlink:href=\"#m1ae2eb72b4\" y=\"86.705109\"/>\r\n     <use style=\"fill:#4c72b0;stroke:#4c72b0;\" x=\"135.175289\" xlink:href=\"#m1ae2eb72b4\" y=\"186.084101\"/>\r\n     <use style=\"fill:#4c72b0;stroke:#4c72b0;\" x=\"220.216789\" xlink:href=\"#m1ae2eb72b4\" y=\"100.543643\"/>\r\n     <use style=\"fill:#4c72b0;stroke:#4c72b0;\" x=\"184.715671\" xlink:href=\"#m1ae2eb72b4\" y=\"116.391335\"/>\r\n     <use style=\"fill:#4c72b0;stroke:#4c72b0;\" x=\"211.586783\" xlink:href=\"#m1ae2eb72b4\" y=\"93.560648\"/>\r\n     <use style=\"fill:#4c72b0;stroke:#4c72b0;\" x=\"199.136523\" xlink:href=\"#m1ae2eb72b4\" y=\"105.929518\"/>\r\n     <use style=\"fill:#4c72b0;stroke:#4c72b0;\" x=\"231.694714\" xlink:href=\"#m1ae2eb72b4\" y=\"109.011698\"/>\r\n     <use style=\"fill:#4c72b0;stroke:#4c72b0;\" x=\"85.14156\" xlink:href=\"#m1ae2eb72b4\" y=\"196.827434\"/>\r\n     <use style=\"fill:#4c72b0;stroke:#4c72b0;\" x=\"305.62507\" xlink:href=\"#m1ae2eb72b4\" y=\"43.798185\"/>\r\n     <use style=\"fill:#4c72b0;stroke:#4c72b0;\" x=\"168.8566\" xlink:href=\"#m1ae2eb72b4\" y=\"173.570508\"/>\r\n     <use style=\"fill:#4c72b0;stroke:#4c72b0;\" x=\"151.661885\" xlink:href=\"#m1ae2eb72b4\" y=\"149.460666\"/>\r\n     <use style=\"fill:#4c72b0;stroke:#4c72b0;\" x=\"240.747231\" xlink:href=\"#m1ae2eb72b4\" y=\"88.971\"/>\r\n     <use style=\"fill:#4c72b0;stroke:#4c72b0;\" x=\"274.037876\" xlink:href=\"#m1ae2eb72b4\" y=\"24.417195\"/>\r\n     <use style=\"fill:#4c72b0;stroke:#4c72b0;\" x=\"203.751485\" xlink:href=\"#m1ae2eb72b4\" y=\"103.108686\"/>\r\n     <use style=\"fill:#4c72b0;stroke:#4c72b0;\" x=\"145.078317\" xlink:href=\"#m1ae2eb72b4\" y=\"140.699342\"/>\r\n     <use style=\"fill:#4c72b0;stroke:#4c72b0;\" x=\"222.728279\" xlink:href=\"#m1ae2eb72b4\" y=\"99.63828\"/>\r\n     <use style=\"fill:#4c72b0;stroke:#4c72b0;\" x=\"158.099961\" xlink:href=\"#m1ae2eb72b4\" y=\"139.838232\"/>\r\n     <use style=\"fill:#4c72b0;stroke:#4c72b0;\" x=\"156.262608\" xlink:href=\"#m1ae2eb72b4\" y=\"169.244305\"/>\r\n     <use style=\"fill:#4c72b0;stroke:#4c72b0;\" x=\"210.100687\" xlink:href=\"#m1ae2eb72b4\" y=\"86.317591\"/>\r\n     <use style=\"fill:#4c72b0;stroke:#4c72b0;\" x=\"275.568619\" xlink:href=\"#m1ae2eb72b4\" y=\"27.275505\"/>\r\n     <use style=\"fill:#4c72b0;stroke:#4c72b0;\" x=\"220.454382\" xlink:href=\"#m1ae2eb72b4\" y=\"105.84081\"/>\r\n     <use style=\"fill:#4c72b0;stroke:#4c72b0;\" x=\"240.722137\" xlink:href=\"#m1ae2eb72b4\" y=\"89.804982\"/>\r\n     <use style=\"fill:#4c72b0;stroke:#4c72b0;\" x=\"123.993185\" xlink:href=\"#m1ae2eb72b4\" y=\"170.438698\"/>\r\n     <use style=\"fill:#4c72b0;stroke:#4c72b0;\" x=\"178.008137\" xlink:href=\"#m1ae2eb72b4\" y=\"139.381765\"/>\r\n     <use style=\"fill:#4c72b0;stroke:#4c72b0;\" x=\"296.367087\" xlink:href=\"#m1ae2eb72b4\" y=\"59.738602\"/>\r\n     <use style=\"fill:#4c72b0;stroke:#4c72b0;\" x=\"212.787561\" xlink:href=\"#m1ae2eb72b4\" y=\"102.704105\"/>\r\n     <use style=\"fill:#4c72b0;stroke:#4c72b0;\" x=\"180.679271\" xlink:href=\"#m1ae2eb72b4\" y=\"118.678966\"/>\r\n     <use style=\"fill:#4c72b0;stroke:#4c72b0;\" x=\"179.706507\" xlink:href=\"#m1ae2eb72b4\" y=\"138.675283\"/>\r\n     <use style=\"fill:#4c72b0;stroke:#4c72b0;\" x=\"80.535181\" xlink:href=\"#m1ae2eb72b4\" y=\"214.282547\"/>\r\n     <use style=\"fill:#4c72b0;stroke:#4c72b0;\" x=\"187.733277\" xlink:href=\"#m1ae2eb72b4\" y=\"94.688747\"/>\r\n     <use style=\"fill:#4c72b0;stroke:#4c72b0;\" x=\"105.551758\" xlink:href=\"#m1ae2eb72b4\" y=\"164.269359\"/>\r\n     <use style=\"fill:#4c72b0;stroke:#4c72b0;\" x=\"190.024982\" xlink:href=\"#m1ae2eb72b4\" y=\"111.01781\"/>\r\n     <use style=\"fill:#4c72b0;stroke:#4c72b0;\" x=\"262.400465\" xlink:href=\"#m1ae2eb72b4\" y=\"54.507818\"/>\r\n     <use style=\"fill:#4c72b0;stroke:#4c72b0;\" x=\"241.572449\" xlink:href=\"#m1ae2eb72b4\" y=\"116.076078\"/>\r\n     <use style=\"fill:#4c72b0;stroke:#4c72b0;\" x=\"190.567152\" xlink:href=\"#m1ae2eb72b4\" y=\"168.093968\"/>\r\n     <use style=\"fill:#4c72b0;stroke:#4c72b0;\" x=\"294.702302\" xlink:href=\"#m1ae2eb72b4\" y=\"36.217873\"/>\r\n     <use style=\"fill:#4c72b0;stroke:#4c72b0;\" x=\"155.410577\" xlink:href=\"#m1ae2eb72b4\" y=\"140.062651\"/>\r\n     <use style=\"fill:#4c72b0;stroke:#4c72b0;\" x=\"136.050495\" xlink:href=\"#m1ae2eb72b4\" y=\"145.791104\"/>\r\n     <use style=\"fill:#4c72b0;stroke:#4c72b0;\" x=\"172.10517\" xlink:href=\"#m1ae2eb72b4\" y=\"148.880913\"/>\r\n     <use style=\"fill:#4c72b0;stroke:#4c72b0;\" x=\"214.665488\" xlink:href=\"#m1ae2eb72b4\" y=\"116.410848\"/>\r\n     <use style=\"fill:#4c72b0;stroke:#4c72b0;\" x=\"213.064146\" xlink:href=\"#m1ae2eb72b4\" y=\"134.578176\"/>\r\n     <use style=\"fill:#4c72b0;stroke:#4c72b0;\" x=\"189.431345\" xlink:href=\"#m1ae2eb72b4\" y=\"133.454993\"/>\r\n     <use style=\"fill:#4c72b0;stroke:#4c72b0;\" x=\"185.055053\" xlink:href=\"#m1ae2eb72b4\" y=\"129.573367\"/>\r\n     <use style=\"fill:#4c72b0;stroke:#4c72b0;\" x=\"348.823537\" xlink:href=\"#m1ae2eb72b4\" y=\"17.083636\"/>\r\n     <use style=\"fill:#4c72b0;stroke:#4c72b0;\" x=\"211.66677\" xlink:href=\"#m1ae2eb72b4\" y=\"114.235489\"/>\r\n     <use style=\"fill:#4c72b0;stroke:#4c72b0;\" x=\"185.383944\" xlink:href=\"#m1ae2eb72b4\" y=\"128.810761\"/>\r\n     <use style=\"fill:#4c72b0;stroke:#4c72b0;\" x=\"121.181926\" xlink:href=\"#m1ae2eb72b4\" y=\"182.252198\"/>\r\n     <use style=\"fill:#4c72b0;stroke:#4c72b0;\" x=\"254.626106\" xlink:href=\"#m1ae2eb72b4\" y=\"110.206848\"/>\r\n     <use style=\"fill:#4c72b0;stroke:#4c72b0;\" x=\"263.351444\" xlink:href=\"#m1ae2eb72b4\" y=\"58.844001\"/>\r\n     <use style=\"fill:#4c72b0;stroke:#4c72b0;\" x=\"118.471065\" xlink:href=\"#m1ae2eb72b4\" y=\"159.145228\"/>\r\n     <use style=\"fill:#4c72b0;stroke:#4c72b0;\" x=\"253.524135\" xlink:href=\"#m1ae2eb72b4\" y=\"84.385615\"/>\r\n    </g>\r\n   </g>\r\n   <g id=\"patch_3\">\r\n    <path d=\"M 29.241719 224.64 \r\nL 29.241719 7.2 \r\n\" style=\"fill:none;stroke:#ffffff;stroke-linecap:square;stroke-linejoin:miter;stroke-width:1.25;\"/>\r\n   </g>\r\n   <g id=\"patch_4\">\r\n    <path d=\"M 364.041719 224.64 \r\nL 364.041719 7.2 \r\n\" style=\"fill:none;stroke:#ffffff;stroke-linecap:square;stroke-linejoin:miter;stroke-width:1.25;\"/>\r\n   </g>\r\n   <g id=\"patch_5\">\r\n    <path d=\"M 29.241719 224.64 \r\nL 364.041719 224.64 \r\n\" style=\"fill:none;stroke:#ffffff;stroke-linecap:square;stroke-linejoin:miter;stroke-width:1.25;\"/>\r\n   </g>\r\n   <g id=\"patch_6\">\r\n    <path d=\"M 29.241719 7.2 \r\nL 364.041719 7.2 \r\n\" style=\"fill:none;stroke:#ffffff;stroke-linecap:square;stroke-linejoin:miter;stroke-width:1.25;\"/>\r\n   </g>\r\n  </g>\r\n </g>\r\n <defs>\r\n  <clipPath id=\"p0a50384e17\">\r\n   <rect height=\"217.44\" width=\"334.8\" x=\"29.241719\" y=\"7.2\"/>\r\n  </clipPath>\r\n </defs>\r\n</svg>\r\n",
      "image/png": "[encoded data removed]"
     },
     "metadata": {}
    }
   ],
   "source": [
    "%matplotlib inline\n",
    "import matplotlib.pyplot as plt \n",
    "import seaborn; seaborn.set() # for plot styling \n",
    "plt.scatter(X[:, 0], X[:, 1])"
   ]
  },
  {
   "source": [
    "Let's use fancy indexing to select 20 random points. We'll do this by first choosing 20 random indices with no repetas, and sue these indices to seelct a portion of original array:"
   ],
   "cell_type": "markdown",
   "metadata": {}
  },
  {
   "cell_type": "code",
   "execution_count": 19,
   "metadata": {},
   "outputs": [
    {
     "output_type": "execute_result",
     "data": {
      "text/plain": [
       "array([46, 92, 16, 60,  0, 47, 88, 18,  2, 67, 80, 71, 61, 10, 12, 21, 66,\n",
       "       69, 15,  5])"
      ]
     },
     "metadata": {},
     "execution_count": 19
    }
   ],
   "source": [
    "indices = np.random.choice(X.shape[0], 20, replace=False)\n",
    "indices"
   ]
  },
  {
   "cell_type": "code",
   "execution_count": 24,
   "metadata": {},
   "outputs": [
    {
     "output_type": "execute_result",
     "data": {
      "text/plain": [
       "(20, 2)"
      ]
     },
     "metadata": {},
     "execution_count": 24
    }
   ],
   "source": [
    "selection = X[indices] # fancy indexing here \n",
    "selection.shape"
   ]
  },
  {
   "source": [
    "Now to see which points were selected, let's over-plot large circles at the locations of the selected points:"
   ],
   "cell_type": "markdown",
   "metadata": {}
  },
  {
   "cell_type": "code",
   "execution_count": 29,
   "metadata": {},
   "outputs": [
    {
     "output_type": "display_data",
     "data": {
      "text/plain": "<Figure size 432x288 with 1 Axes>",
      "image/svg+xml": "<?xml version=\"1.0\" encoding=\"utf-8\" standalone=\"no\"?>\r\n<!DOCTYPE svg PUBLIC \"-//W3C//DTD SVG 1.1//EN\"\r\n  \"http://www.w3.org/Graphics/SVG/1.1/DTD/svg11.dtd\">\r\n<!-- Created with matplotlib (https://matplotlib.org/) -->\r\n<svg height=\"251.399844pt\" version=\"1.1\" viewBox=\"0 0 371.241719 251.399844\" width=\"371.241719pt\" xmlns=\"http://www.w3.org/2000/svg\" xmlns:xlink=\"http://www.w3.org/1999/xlink\">\r\n <metadata>\r\n  <rdf:RDF xmlns:cc=\"http://creativecommons.org/ns#\" xmlns:dc=\"http://purl.org/dc/elements/1.1/\" xmlns:rdf=\"http://www.w3.org/1999/02/22-rdf-syntax-ns#\">\r\n   <cc:Work>\r\n    <dc:type rdf:resource=\"http://purl.org/dc/dcmitype/StillImage\"/>\r\n    <dc:date>2021-02-13T19:42:07.554383</dc:date>\r\n    <dc:format>image/svg+xml</dc:format>\r\n    <dc:creator>\r\n     <cc:Agent>\r\n      <dc:title>Matplotlib v3.3.3, https://matplotlib.org/</dc:title>\r\n     </cc:Agent>\r\n    </dc:creator>\r\n   </cc:Work>\r\n  </rdf:RDF>\r\n </metadata>\r\n <defs>\r\n  <style type=\"text/css\">*{stroke-linecap:butt;stroke-linejoin:round;}</style>\r\n </defs>\r\n <g id=\"figure_1\">\r\n  <g id=\"patch_1\">\r\n   <path d=\"M 0 251.399844 \r\nL 371.241719 251.399844 \r\nL 371.241719 0 \r\nL 0 0 \r\nz\r\n\" style=\"fill:#ffffff;\"/>\r\n  </g>\r\n  <g id=\"axes_1\">\r\n   <g id=\"patch_2\">\r\n    <path d=\"M 29.241719 224.64 \r\nL 364.041719 224.64 \r\nL 364.041719 7.2 \r\nL 29.241719 7.2 \r\nz\r\n\" style=\"fill:#eaeaf2;\"/>\r\n   </g>\r\n   <g id=\"matplotlib.axis_1\">\r\n    <g id=\"xtick_1\">\r\n     <g id=\"line2d_1\">\r\n      <path clip-path=\"url(#pdb3c10e5dc)\" d=\"M 39.644939 224.64 \r\nL 39.644939 7.2 \r\n\" style=\"fill:none;stroke:#ffffff;stroke-linecap:round;\"/>\r\n     </g>\r\n     <g id=\"text_1\">\r\n      <!-- −3 -->\r\n      <g style=\"fill:#262626;\" transform=\"translate(33.374079 242.013594)scale(0.11 -0.11)\">\r\n       <defs>\r\n        <path d=\"M 52.828125 31.203125 \r\nL 5.5625 31.203125 \r\nL 5.5625 39.40625 \r\nL 52.828125 39.40625 \r\nz\r\n\" id=\"ArialMT-8722\"/>\r\n        <path d=\"M 4.203125 18.890625 \r\nL 12.984375 20.0625 \r\nQ 14.5 12.59375 18.140625 9.296875 \r\nQ 21.78125 6 27 6 \r\nQ 33.203125 6 37.46875 10.296875 \r\nQ 41.75 14.59375 41.75 20.953125 \r\nQ 41.75 27 37.796875 30.921875 \r\nQ 33.84375 34.859375 27.734375 34.859375 \r\nQ 25.25 34.859375 21.53125 33.890625 \r\nL 22.515625 41.609375 \r\nQ 23.390625 41.5 23.921875 41.5 \r\nQ 29.546875 41.5 34.03125 44.421875 \r\nQ 38.53125 47.359375 38.53125 53.46875 \r\nQ 38.53125 58.296875 35.25 61.46875 \r\nQ 31.984375 64.65625 26.8125 64.65625 \r\nQ 21.6875 64.65625 18.265625 61.421875 \r\nQ 14.84375 58.203125 13.875 51.765625 \r\nL 5.078125 53.328125 \r\nQ 6.6875 62.15625 12.390625 67.015625 \r\nQ 18.109375 71.875 26.609375 71.875 \r\nQ 32.46875 71.875 37.390625 69.359375 \r\nQ 42.328125 66.84375 44.9375 62.5 \r\nQ 47.5625 58.15625 47.5625 53.265625 \r\nQ 47.5625 48.640625 45.0625 44.828125 \r\nQ 42.578125 41.015625 37.703125 38.765625 \r\nQ 44.046875 37.3125 47.5625 32.6875 \r\nQ 51.078125 28.078125 51.078125 21.140625 \r\nQ 51.078125 11.765625 44.234375 5.25 \r\nQ 37.40625 -1.265625 26.953125 -1.265625 \r\nQ 17.53125 -1.265625 11.296875 4.34375 \r\nQ 5.078125 9.96875 4.203125 18.890625 \r\nz\r\n\" id=\"ArialMT-51\"/>\r\n       </defs>\r\n       <use xlink:href=\"#ArialMT-8722\"/>\r\n       <use x=\"58.398438\" xlink:href=\"#ArialMT-51\"/>\r\n      </g>\r\n     </g>\r\n    </g>\r\n    <g id=\"xtick_2\">\r\n     <g id=\"line2d_2\">\r\n      <path clip-path=\"url(#pdb3c10e5dc)\" d=\"M 94.752005 224.64 \r\nL 94.752005 7.2 \r\n\" style=\"fill:none;stroke:#ffffff;stroke-linecap:round;\"/>\r\n     </g>\r\n     <g id=\"text_2\">\r\n      <!-- −2 -->\r\n      <g style=\"fill:#262626;\" transform=\"translate(88.481146 242.013594)scale(0.11 -0.11)\">\r\n       <defs>\r\n        <path d=\"M 50.34375 8.453125 \r\nL 50.34375 0 \r\nL 3.03125 0 \r\nQ 2.9375 3.171875 4.046875 6.109375 \r\nQ 5.859375 10.9375 9.828125 15.625 \r\nQ 13.8125 20.3125 21.34375 26.46875 \r\nQ 33.015625 36.03125 37.109375 41.625 \r\nQ 41.21875 47.21875 41.21875 52.203125 \r\nQ 41.21875 57.421875 37.46875 61 \r\nQ 33.734375 64.59375 27.734375 64.59375 \r\nQ 21.390625 64.59375 17.578125 60.78125 \r\nQ 13.765625 56.984375 13.71875 50.25 \r\nL 4.6875 51.171875 \r\nQ 5.609375 61.28125 11.65625 66.578125 \r\nQ 17.71875 71.875 27.9375 71.875 \r\nQ 38.234375 71.875 44.234375 66.15625 \r\nQ 50.25 60.453125 50.25 52 \r\nQ 50.25 47.703125 48.484375 43.546875 \r\nQ 46.734375 39.40625 42.65625 34.8125 \r\nQ 38.578125 30.21875 29.109375 22.21875 \r\nQ 21.1875 15.578125 18.9375 13.203125 \r\nQ 16.703125 10.84375 15.234375 8.453125 \r\nz\r\n\" id=\"ArialMT-50\"/>\r\n       </defs>\r\n       <use xlink:href=\"#ArialMT-8722\"/>\r\n       <use x=\"58.398438\" xlink:href=\"#ArialMT-50\"/>\r\n      </g>\r\n     </g>\r\n    </g>\r\n    <g id=\"xtick_3\">\r\n     <g id=\"line2d_3\">\r\n      <path clip-path=\"url(#pdb3c10e5dc)\" d=\"M 149.859072 224.64 \r\nL 149.859072 7.2 \r\n\" style=\"fill:none;stroke:#ffffff;stroke-linecap:round;\"/>\r\n     </g>\r\n     <g id=\"text_3\">\r\n      <!-- −1 -->\r\n      <g style=\"fill:#262626;\" transform=\"translate(143.588212 242.013594)scale(0.11 -0.11)\">\r\n       <defs>\r\n        <path d=\"M 37.25 0 \r\nL 28.46875 0 \r\nL 28.46875 56 \r\nQ 25.296875 52.984375 20.140625 49.953125 \r\nQ 14.984375 46.921875 10.890625 45.40625 \r\nL 10.890625 53.90625 \r\nQ 18.265625 57.375 23.78125 62.296875 \r\nQ 29.296875 67.234375 31.59375 71.875 \r\nL 37.25 71.875 \r\nz\r\n\" id=\"ArialMT-49\"/>\r\n       </defs>\r\n       <use xlink:href=\"#ArialMT-8722\"/>\r\n       <use x=\"58.398438\" xlink:href=\"#ArialMT-49\"/>\r\n      </g>\r\n     </g>\r\n    </g>\r\n    <g id=\"xtick_4\">\r\n     <g id=\"line2d_4\">\r\n      <path clip-path=\"url(#pdb3c10e5dc)\" d=\"M 204.966138 224.64 \r\nL 204.966138 7.2 \r\n\" style=\"fill:none;stroke:#ffffff;stroke-linecap:round;\"/>\r\n     </g>\r\n     <g id=\"text_4\">\r\n      <!-- 0 -->\r\n      <g style=\"fill:#262626;\" transform=\"translate(201.907623 242.013594)scale(0.11 -0.11)\">\r\n       <defs>\r\n        <path d=\"M 4.15625 35.296875 \r\nQ 4.15625 48 6.765625 55.734375 \r\nQ 9.375 63.484375 14.515625 67.671875 \r\nQ 19.671875 71.875 27.484375 71.875 \r\nQ 33.25 71.875 37.59375 69.546875 \r\nQ 41.9375 67.234375 44.765625 62.859375 \r\nQ 47.609375 58.5 49.21875 52.21875 \r\nQ 50.828125 45.953125 50.828125 35.296875 \r\nQ 50.828125 22.703125 48.234375 14.96875 \r\nQ 45.65625 7.234375 40.5 3 \r\nQ 35.359375 -1.21875 27.484375 -1.21875 \r\nQ 17.140625 -1.21875 11.234375 6.203125 \r\nQ 4.15625 15.140625 4.15625 35.296875 \r\nz\r\nM 13.1875 35.296875 \r\nQ 13.1875 17.671875 17.3125 11.828125 \r\nQ 21.4375 6 27.484375 6 \r\nQ 33.546875 6 37.671875 11.859375 \r\nQ 41.796875 17.71875 41.796875 35.296875 \r\nQ 41.796875 52.984375 37.671875 58.78125 \r\nQ 33.546875 64.59375 27.390625 64.59375 \r\nQ 21.34375 64.59375 17.71875 59.46875 \r\nQ 13.1875 52.9375 13.1875 35.296875 \r\nz\r\n\" id=\"ArialMT-48\"/>\r\n       </defs>\r\n       <use xlink:href=\"#ArialMT-48\"/>\r\n      </g>\r\n     </g>\r\n    </g>\r\n    <g id=\"xtick_5\">\r\n     <g id=\"line2d_5\">\r\n      <path clip-path=\"url(#pdb3c10e5dc)\" d=\"M 260.073205 224.64 \r\nL 260.073205 7.2 \r\n\" style=\"fill:none;stroke:#ffffff;stroke-linecap:round;\"/>\r\n     </g>\r\n     <g id=\"text_5\">\r\n      <!-- 1 -->\r\n      <g style=\"fill:#262626;\" transform=\"translate(257.014689 242.013594)scale(0.11 -0.11)\">\r\n       <use xlink:href=\"#ArialMT-49\"/>\r\n      </g>\r\n     </g>\r\n    </g>\r\n    <g id=\"xtick_6\">\r\n     <g id=\"line2d_6\">\r\n      <path clip-path=\"url(#pdb3c10e5dc)\" d=\"M 315.180271 224.64 \r\nL 315.180271 7.2 \r\n\" style=\"fill:none;stroke:#ffffff;stroke-linecap:round;\"/>\r\n     </g>\r\n     <g id=\"text_6\">\r\n      <!-- 2 -->\r\n      <g style=\"fill:#262626;\" transform=\"translate(312.121756 242.013594)scale(0.11 -0.11)\">\r\n       <use xlink:href=\"#ArialMT-50\"/>\r\n      </g>\r\n     </g>\r\n    </g>\r\n   </g>\r\n   <g id=\"matplotlib.axis_2\">\r\n    <g id=\"ytick_1\">\r\n     <g id=\"line2d_7\">\r\n      <path clip-path=\"url(#pdb3c10e5dc)\" d=\"M 29.241719 194.987456 \r\nL 364.041719 194.987456 \r\n\" style=\"fill:none;stroke:#ffffff;stroke-linecap:round;\"/>\r\n     </g>\r\n     <g id=\"text_7\">\r\n      <!-- −4 -->\r\n      <g style=\"fill:#262626;\" transform=\"translate(7.2 198.924252)scale(0.11 -0.11)\">\r\n       <defs>\r\n        <path d=\"M 32.328125 0 \r\nL 32.328125 17.140625 \r\nL 1.265625 17.140625 \r\nL 1.265625 25.203125 \r\nL 33.9375 71.578125 \r\nL 41.109375 71.578125 \r\nL 41.109375 25.203125 \r\nL 50.78125 25.203125 \r\nL 50.78125 17.140625 \r\nL 41.109375 17.140625 \r\nL 41.109375 0 \r\nz\r\nM 32.328125 25.203125 \r\nL 32.328125 57.46875 \r\nL 9.90625 25.203125 \r\nz\r\n\" id=\"ArialMT-52\"/>\r\n       </defs>\r\n       <use xlink:href=\"#ArialMT-8722\"/>\r\n       <use x=\"58.398438\" xlink:href=\"#ArialMT-52\"/>\r\n      </g>\r\n     </g>\r\n    </g>\r\n    <g id=\"ytick_2\">\r\n     <g id=\"line2d_8\">\r\n      <path clip-path=\"url(#pdb3c10e5dc)\" d=\"M 29.241719 156.838376 \r\nL 364.041719 156.838376 \r\n\" style=\"fill:none;stroke:#ffffff;stroke-linecap:round;\"/>\r\n     </g>\r\n     <g id=\"text_8\">\r\n      <!-- −2 -->\r\n      <g style=\"fill:#262626;\" transform=\"translate(7.2 160.775173)scale(0.11 -0.11)\">\r\n       <use xlink:href=\"#ArialMT-8722\"/>\r\n       <use x=\"58.398438\" xlink:href=\"#ArialMT-50\"/>\r\n      </g>\r\n     </g>\r\n    </g>\r\n    <g id=\"ytick_3\">\r\n     <g id=\"line2d_9\">\r\n      <path clip-path=\"url(#pdb3c10e5dc)\" d=\"M 29.241719 118.689297 \r\nL 364.041719 118.689297 \r\n\" style=\"fill:none;stroke:#ffffff;stroke-linecap:round;\"/>\r\n     </g>\r\n     <g id=\"text_9\">\r\n      <!-- 0 -->\r\n      <g style=\"fill:#262626;\" transform=\"translate(13.624688 122.626094)scale(0.11 -0.11)\">\r\n       <use xlink:href=\"#ArialMT-48\"/>\r\n      </g>\r\n     </g>\r\n    </g>\r\n    <g id=\"ytick_4\">\r\n     <g id=\"line2d_10\">\r\n      <path clip-path=\"url(#pdb3c10e5dc)\" d=\"M 29.241719 80.540218 \r\nL 364.041719 80.540218 \r\n\" style=\"fill:none;stroke:#ffffff;stroke-linecap:round;\"/>\r\n     </g>\r\n     <g id=\"text_10\">\r\n      <!-- 2 -->\r\n      <g style=\"fill:#262626;\" transform=\"translate(13.624688 84.477015)scale(0.11 -0.11)\">\r\n       <use xlink:href=\"#ArialMT-50\"/>\r\n      </g>\r\n     </g>\r\n    </g>\r\n    <g id=\"ytick_5\">\r\n     <g id=\"line2d_11\">\r\n      <path clip-path=\"url(#pdb3c10e5dc)\" d=\"M 29.241719 42.391138 \r\nL 364.041719 42.391138 \r\n\" style=\"fill:none;stroke:#ffffff;stroke-linecap:round;\"/>\r\n     </g>\r\n     <g id=\"text_11\">\r\n      <!-- 4 -->\r\n      <g style=\"fill:#262626;\" transform=\"translate(13.624688 46.327935)scale(0.11 -0.11)\">\r\n       <use xlink:href=\"#ArialMT-52\"/>\r\n      </g>\r\n     </g>\r\n    </g>\r\n   </g>\r\n   <g id=\"PathCollection_1\">\r\n    <defs>\r\n     <path d=\"M 0 3 \r\nC 0.795609 3 1.55874 2.683901 2.12132 2.12132 \r\nC 2.683901 1.55874 3 0.795609 3 0 \r\nC 3 -0.795609 2.683901 -1.55874 2.12132 -2.12132 \r\nC 1.55874 -2.683901 0.795609 -3 0 -3 \r\nC -0.795609 -3 -1.55874 -2.683901 -2.12132 -2.12132 \r\nC -2.683901 -1.55874 -3 -0.795609 -3 0 \r\nC -3 0.795609 -2.683901 1.55874 -2.12132 2.12132 \r\nC -1.55874 2.683901 -0.795609 3 0 3 \r\nz\r\n\" id=\"mbc0cc0d91d\" style=\"stroke:#4c72b0;stroke-opacity:0.3;\"/>\r\n    </defs>\r\n    <g clip-path=\"url(#pdb3c10e5dc)\">\r\n     <use style=\"fill:#4c72b0;fill-opacity:0.3;stroke:#4c72b0;stroke-opacity:0.3;\" x=\"224.646949\" xlink:href=\"#mbc0cc0d91d\" y=\"73.710051\"/>\r\n     <use style=\"fill:#4c72b0;fill-opacity:0.3;stroke:#4c72b0;stroke-opacity:0.3;\" x=\"171.61978\" xlink:href=\"#mbc0cc0d91d\" y=\"159.023345\"/>\r\n     <use style=\"fill:#4c72b0;fill-opacity:0.3;stroke:#4c72b0;stroke-opacity:0.3;\" x=\"184.0418\" xlink:href=\"#mbc0cc0d91d\" y=\"130.864301\"/>\r\n     <use style=\"fill:#4c72b0;fill-opacity:0.3;stroke:#4c72b0;stroke-opacity:0.3;\" x=\"185.360303\" xlink:href=\"#mbc0cc0d91d\" y=\"117.071187\"/>\r\n     <use style=\"fill:#4c72b0;fill-opacity:0.3;stroke:#4c72b0;stroke-opacity:0.3;\" x=\"131.632954\" xlink:href=\"#mbc0cc0d91d\" y=\"179.819048\"/>\r\n     <use style=\"fill:#4c72b0;fill-opacity:0.3;stroke:#4c72b0;stroke-opacity:0.3;\" x=\"116.36815\" xlink:href=\"#mbc0cc0d91d\" y=\"172.32331\"/>\r\n     <use style=\"fill:#4c72b0;fill-opacity:0.3;stroke:#4c72b0;stroke-opacity:0.3;\" x=\"189.424007\" xlink:href=\"#mbc0cc0d91d\" y=\"128.039566\"/>\r\n     <use style=\"fill:#4c72b0;fill-opacity:0.3;stroke:#4c72b0;stroke-opacity:0.3;\" x=\"295.294928\" xlink:href=\"#mbc0cc0d91d\" y=\"74.191448\"/>\r\n     <use style=\"fill:#4c72b0;fill-opacity:0.3;stroke:#4c72b0;stroke-opacity:0.3;\" x=\"214.614759\" xlink:href=\"#mbc0cc0d91d\" y=\"128.298086\"/>\r\n     <use style=\"fill:#4c72b0;fill-opacity:0.3;stroke:#4c72b0;stroke-opacity:0.3;\" x=\"218.259373\" xlink:href=\"#mbc0cc0d91d\" y=\"118.619573\"/>\r\n     <use style=\"fill:#4c72b0;fill-opacity:0.3;stroke:#4c72b0;stroke-opacity:0.3;\" x=\"288.487554\" xlink:href=\"#mbc0cc0d91d\" y=\"41.517984\"/>\r\n     <use style=\"fill:#4c72b0;fill-opacity:0.3;stroke:#4c72b0;stroke-opacity:0.3;\" x=\"224.379627\" xlink:href=\"#mbc0cc0d91d\" y=\"100.810695\"/>\r\n     <use style=\"fill:#4c72b0;fill-opacity:0.3;stroke:#4c72b0;stroke-opacity:0.3;\" x=\"257.497751\" xlink:href=\"#mbc0cc0d91d\" y=\"81.704134\"/>\r\n     <use style=\"fill:#4c72b0;fill-opacity:0.3;stroke:#4c72b0;stroke-opacity:0.3;\" x=\"122.812655\" xlink:href=\"#mbc0cc0d91d\" y=\"184.686464\"/>\r\n     <use style=\"fill:#4c72b0;fill-opacity:0.3;stroke:#4c72b0;stroke-opacity:0.3;\" x=\"203.786806\" xlink:href=\"#mbc0cc0d91d\" y=\"145.91339\"/>\r\n     <use style=\"fill:#4c72b0;fill-opacity:0.3;stroke:#4c72b0;stroke-opacity:0.3;\" x=\"44.459901\" xlink:href=\"#mbc0cc0d91d\" y=\"214.756364\"/>\r\n     <use style=\"fill:#4c72b0;fill-opacity:0.3;stroke:#4c72b0;stroke-opacity:0.3;\" x=\"118.073032\" xlink:href=\"#mbc0cc0d91d\" y=\"174.190381\"/>\r\n     <use style=\"fill:#4c72b0;fill-opacity:0.3;stroke:#4c72b0;stroke-opacity:0.3;\" x=\"194.872454\" xlink:href=\"#mbc0cc0d91d\" y=\"117.996927\"/>\r\n     <use style=\"fill:#4c72b0;fill-opacity:0.3;stroke:#4c72b0;stroke-opacity:0.3;\" x=\"164.864684\" xlink:href=\"#mbc0cc0d91d\" y=\"165.177461\"/>\r\n     <use style=\"fill:#4c72b0;fill-opacity:0.3;stroke:#4c72b0;stroke-opacity:0.3;\" x=\"262.796188\" xlink:href=\"#mbc0cc0d91d\" y=\"104.824963\"/>\r\n     <use style=\"fill:#4c72b0;fill-opacity:0.3;stroke:#4c72b0;stroke-opacity:0.3;\" x=\"209.226752\" xlink:href=\"#mbc0cc0d91d\" y=\"80.829475\"/>\r\n     <use style=\"fill:#4c72b0;fill-opacity:0.3;stroke:#4c72b0;stroke-opacity:0.3;\" x=\"228.686357\" xlink:href=\"#mbc0cc0d91d\" y=\"105.429895\"/>\r\n     <use style=\"fill:#4c72b0;fill-opacity:0.3;stroke:#4c72b0;stroke-opacity:0.3;\" x=\"222.787445\" xlink:href=\"#mbc0cc0d91d\" y=\"137.083248\"/>\r\n     <use style=\"fill:#4c72b0;fill-opacity:0.3;stroke:#4c72b0;stroke-opacity:0.3;\" x=\"130.127892\" xlink:href=\"#mbc0cc0d91d\" y=\"155.081191\"/>\r\n     <use style=\"fill:#4c72b0;fill-opacity:0.3;stroke:#4c72b0;stroke-opacity:0.3;\" x=\"150.932504\" xlink:href=\"#mbc0cc0d91d\" y=\"129.748287\"/>\r\n     <use style=\"fill:#4c72b0;fill-opacity:0.3;stroke:#4c72b0;stroke-opacity:0.3;\" x=\"233.636869\" xlink:href=\"#mbc0cc0d91d\" y=\"56.665107\"/>\r\n     <use style=\"fill:#4c72b0;fill-opacity:0.3;stroke:#4c72b0;stroke-opacity:0.3;\" x=\"269.161523\" xlink:href=\"#mbc0cc0d91d\" y=\"91.470059\"/>\r\n     <use style=\"fill:#4c72b0;fill-opacity:0.3;stroke:#4c72b0;stroke-opacity:0.3;\" x=\"177.5744\" xlink:href=\"#mbc0cc0d91d\" y=\"102.929421\"/>\r\n     <use style=\"fill:#4c72b0;fill-opacity:0.3;stroke:#4c72b0;stroke-opacity:0.3;\" x=\"225.622999\" xlink:href=\"#mbc0cc0d91d\" y=\"120.681881\"/>\r\n     <use style=\"fill:#4c72b0;fill-opacity:0.3;stroke:#4c72b0;stroke-opacity:0.3;\" x=\"273.111424\" xlink:href=\"#mbc0cc0d91d\" y=\"63.914236\"/>\r\n     <use style=\"fill:#4c72b0;fill-opacity:0.3;stroke:#4c72b0;stroke-opacity:0.3;\" x=\"333.953399\" xlink:href=\"#mbc0cc0d91d\" y=\"37.745534\"/>\r\n     <use style=\"fill:#4c72b0;fill-opacity:0.3;stroke:#4c72b0;stroke-opacity:0.3;\" x=\"98.499299\" xlink:href=\"#mbc0cc0d91d\" y=\"180.337629\"/>\r\n     <use style=\"fill:#4c72b0;fill-opacity:0.3;stroke:#4c72b0;stroke-opacity:0.3;\" x=\"221.324095\" xlink:href=\"#mbc0cc0d91d\" y=\"114.634009\"/>\r\n     <use style=\"fill:#4c72b0;fill-opacity:0.3;stroke:#4c72b0;stroke-opacity:0.3;\" x=\"152.471439\" xlink:href=\"#mbc0cc0d91d\" y=\"114.079238\"/>\r\n     <use style=\"fill:#4c72b0;fill-opacity:0.3;stroke:#4c72b0;stroke-opacity:0.3;\" x=\"165.162838\" xlink:href=\"#mbc0cc0d91d\" y=\"133.168199\"/>\r\n     <use style=\"fill:#4c72b0;fill-opacity:0.3;stroke:#4c72b0;stroke-opacity:0.3;\" x=\"213.989493\" xlink:href=\"#mbc0cc0d91d\" y=\"109.891685\"/>\r\n     <use style=\"fill:#4c72b0;fill-opacity:0.3;stroke:#4c72b0;stroke-opacity:0.3;\" x=\"169.358444\" xlink:href=\"#mbc0cc0d91d\" y=\"145.841362\"/>\r\n     <use style=\"fill:#4c72b0;fill-opacity:0.3;stroke:#4c72b0;stroke-opacity:0.3;\" x=\"274.561185\" xlink:href=\"#mbc0cc0d91d\" y=\"34.094244\"/>\r\n     <use style=\"fill:#4c72b0;fill-opacity:0.3;stroke:#4c72b0;stroke-opacity:0.3;\" x=\"191.759351\" xlink:href=\"#mbc0cc0d91d\" y=\"86.134954\"/>\r\n     <use style=\"fill:#4c72b0;fill-opacity:0.3;stroke:#4c72b0;stroke-opacity:0.3;\" x=\"168.500401\" xlink:href=\"#mbc0cc0d91d\" y=\"147.696447\"/>\r\n     <use style=\"fill:#4c72b0;fill-opacity:0.3;stroke:#4c72b0;stroke-opacity:0.3;\" x=\"184.887052\" xlink:href=\"#mbc0cc0d91d\" y=\"137.708372\"/>\r\n     <use style=\"fill:#4c72b0;fill-opacity:0.3;stroke:#4c72b0;stroke-opacity:0.3;\" x=\"225.353596\" xlink:href=\"#mbc0cc0d91d\" y=\"97.366493\"/>\r\n     <use style=\"fill:#4c72b0;fill-opacity:0.3;stroke:#4c72b0;stroke-opacity:0.3;\" x=\"169.70551\" xlink:href=\"#mbc0cc0d91d\" y=\"157.745451\"/>\r\n     <use style=\"fill:#4c72b0;fill-opacity:0.3;stroke:#4c72b0;stroke-opacity:0.3;\" x=\"244.142402\" xlink:href=\"#mbc0cc0d91d\" y=\"93.291266\"/>\r\n     <use style=\"fill:#4c72b0;fill-opacity:0.3;stroke:#4c72b0;stroke-opacity:0.3;\" x=\"125.864878\" xlink:href=\"#mbc0cc0d91d\" y=\"154.800422\"/>\r\n     <use style=\"fill:#4c72b0;fill-opacity:0.3;stroke:#4c72b0;stroke-opacity:0.3;\" x=\"174.276102\" xlink:href=\"#mbc0cc0d91d\" y=\"132.333421\"/>\r\n     <use style=\"fill:#4c72b0;fill-opacity:0.3;stroke:#4c72b0;stroke-opacity:0.3;\" x=\"218.536157\" xlink:href=\"#mbc0cc0d91d\" y=\"89.247969\"/>\r\n     <use style=\"fill:#4c72b0;fill-opacity:0.3;stroke:#4c72b0;stroke-opacity:0.3;\" x=\"191.85152\" xlink:href=\"#mbc0cc0d91d\" y=\"144.309874\"/>\r\n     <use style=\"fill:#4c72b0;fill-opacity:0.3;stroke:#4c72b0;stroke-opacity:0.3;\" x=\"321.720663\" xlink:href=\"#mbc0cc0d91d\" y=\"46.323871\"/>\r\n     <use style=\"fill:#4c72b0;fill-opacity:0.3;stroke:#4c72b0;stroke-opacity:0.3;\" x=\"214.533196\" xlink:href=\"#mbc0cc0d91d\" y=\"86.705109\"/>\r\n     <use style=\"fill:#4c72b0;fill-opacity:0.3;stroke:#4c72b0;stroke-opacity:0.3;\" x=\"135.175289\" xlink:href=\"#mbc0cc0d91d\" y=\"186.084101\"/>\r\n     <use style=\"fill:#4c72b0;fill-opacity:0.3;stroke:#4c72b0;stroke-opacity:0.3;\" x=\"220.216789\" xlink:href=\"#mbc0cc0d91d\" y=\"100.543643\"/>\r\n     <use style=\"fill:#4c72b0;fill-opacity:0.3;stroke:#4c72b0;stroke-opacity:0.3;\" x=\"184.715671\" xlink:href=\"#mbc0cc0d91d\" y=\"116.391335\"/>\r\n     <use style=\"fill:#4c72b0;fill-opacity:0.3;stroke:#4c72b0;stroke-opacity:0.3;\" x=\"211.586783\" xlink:href=\"#mbc0cc0d91d\" y=\"93.560648\"/>\r\n     <use style=\"fill:#4c72b0;fill-opacity:0.3;stroke:#4c72b0;stroke-opacity:0.3;\" x=\"199.136523\" xlink:href=\"#mbc0cc0d91d\" y=\"105.929518\"/>\r\n     <use style=\"fill:#4c72b0;fill-opacity:0.3;stroke:#4c72b0;stroke-opacity:0.3;\" x=\"231.694714\" xlink:href=\"#mbc0cc0d91d\" y=\"109.011698\"/>\r\n     <use style=\"fill:#4c72b0;fill-opacity:0.3;stroke:#4c72b0;stroke-opacity:0.3;\" x=\"85.14156\" xlink:href=\"#mbc0cc0d91d\" y=\"196.827434\"/>\r\n     <use style=\"fill:#4c72b0;fill-opacity:0.3;stroke:#4c72b0;stroke-opacity:0.3;\" x=\"305.62507\" xlink:href=\"#mbc0cc0d91d\" y=\"43.798185\"/>\r\n     <use style=\"fill:#4c72b0;fill-opacity:0.3;stroke:#4c72b0;stroke-opacity:0.3;\" x=\"168.8566\" xlink:href=\"#mbc0cc0d91d\" y=\"173.570508\"/>\r\n     <use style=\"fill:#4c72b0;fill-opacity:0.3;stroke:#4c72b0;stroke-opacity:0.3;\" x=\"151.661885\" xlink:href=\"#mbc0cc0d91d\" y=\"149.460666\"/>\r\n     <use style=\"fill:#4c72b0;fill-opacity:0.3;stroke:#4c72b0;stroke-opacity:0.3;\" x=\"240.747231\" xlink:href=\"#mbc0cc0d91d\" y=\"88.971\"/>\r\n     <use style=\"fill:#4c72b0;fill-opacity:0.3;stroke:#4c72b0;stroke-opacity:0.3;\" x=\"274.037876\" xlink:href=\"#mbc0cc0d91d\" y=\"24.417195\"/>\r\n     <use style=\"fill:#4c72b0;fill-opacity:0.3;stroke:#4c72b0;stroke-opacity:0.3;\" x=\"203.751485\" xlink:href=\"#mbc0cc0d91d\" y=\"103.108686\"/>\r\n     <use style=\"fill:#4c72b0;fill-opacity:0.3;stroke:#4c72b0;stroke-opacity:0.3;\" x=\"145.078317\" xlink:href=\"#mbc0cc0d91d\" y=\"140.699342\"/>\r\n     <use style=\"fill:#4c72b0;fill-opacity:0.3;stroke:#4c72b0;stroke-opacity:0.3;\" x=\"222.728279\" xlink:href=\"#mbc0cc0d91d\" y=\"99.63828\"/>\r\n     <use style=\"fill:#4c72b0;fill-opacity:0.3;stroke:#4c72b0;stroke-opacity:0.3;\" x=\"158.099961\" xlink:href=\"#mbc0cc0d91d\" y=\"139.838232\"/>\r\n     <use style=\"fill:#4c72b0;fill-opacity:0.3;stroke:#4c72b0;stroke-opacity:0.3;\" x=\"156.262608\" xlink:href=\"#mbc0cc0d91d\" y=\"169.244305\"/>\r\n     <use style=\"fill:#4c72b0;fill-opacity:0.3;stroke:#4c72b0;stroke-opacity:0.3;\" x=\"210.100687\" xlink:href=\"#mbc0cc0d91d\" y=\"86.317591\"/>\r\n     <use style=\"fill:#4c72b0;fill-opacity:0.3;stroke:#4c72b0;stroke-opacity:0.3;\" x=\"275.568619\" xlink:href=\"#mbc0cc0d91d\" y=\"27.275505\"/>\r\n     <use style=\"fill:#4c72b0;fill-opacity:0.3;stroke:#4c72b0;stroke-opacity:0.3;\" x=\"220.454382\" xlink:href=\"#mbc0cc0d91d\" y=\"105.84081\"/>\r\n     <use style=\"fill:#4c72b0;fill-opacity:0.3;stroke:#4c72b0;stroke-opacity:0.3;\" x=\"240.722137\" xlink:href=\"#mbc0cc0d91d\" y=\"89.804982\"/>\r\n     <use style=\"fill:#4c72b0;fill-opacity:0.3;stroke:#4c72b0;stroke-opacity:0.3;\" x=\"123.993185\" xlink:href=\"#mbc0cc0d91d\" y=\"170.438698\"/>\r\n     <use style=\"fill:#4c72b0;fill-opacity:0.3;stroke:#4c72b0;stroke-opacity:0.3;\" x=\"178.008137\" xlink:href=\"#mbc0cc0d91d\" y=\"139.381765\"/>\r\n     <use style=\"fill:#4c72b0;fill-opacity:0.3;stroke:#4c72b0;stroke-opacity:0.3;\" x=\"296.367087\" xlink:href=\"#mbc0cc0d91d\" y=\"59.738602\"/>\r\n     <use style=\"fill:#4c72b0;fill-opacity:0.3;stroke:#4c72b0;stroke-opacity:0.3;\" x=\"212.787561\" xlink:href=\"#mbc0cc0d91d\" y=\"102.704105\"/>\r\n     <use style=\"fill:#4c72b0;fill-opacity:0.3;stroke:#4c72b0;stroke-opacity:0.3;\" x=\"180.679271\" xlink:href=\"#mbc0cc0d91d\" y=\"118.678966\"/>\r\n     <use style=\"fill:#4c72b0;fill-opacity:0.3;stroke:#4c72b0;stroke-opacity:0.3;\" x=\"179.706507\" xlink:href=\"#mbc0cc0d91d\" y=\"138.675283\"/>\r\n     <use style=\"fill:#4c72b0;fill-opacity:0.3;stroke:#4c72b0;stroke-opacity:0.3;\" x=\"80.535181\" xlink:href=\"#mbc0cc0d91d\" y=\"214.282547\"/>\r\n     <use style=\"fill:#4c72b0;fill-opacity:0.3;stroke:#4c72b0;stroke-opacity:0.3;\" x=\"187.733277\" xlink:href=\"#mbc0cc0d91d\" y=\"94.688747\"/>\r\n     <use style=\"fill:#4c72b0;fill-opacity:0.3;stroke:#4c72b0;stroke-opacity:0.3;\" x=\"105.551758\" xlink:href=\"#mbc0cc0d91d\" y=\"164.269359\"/>\r\n     <use style=\"fill:#4c72b0;fill-opacity:0.3;stroke:#4c72b0;stroke-opacity:0.3;\" x=\"190.024982\" xlink:href=\"#mbc0cc0d91d\" y=\"111.01781\"/>\r\n     <use style=\"fill:#4c72b0;fill-opacity:0.3;stroke:#4c72b0;stroke-opacity:0.3;\" x=\"262.400465\" xlink:href=\"#mbc0cc0d91d\" y=\"54.507818\"/>\r\n     <use style=\"fill:#4c72b0;fill-opacity:0.3;stroke:#4c72b0;stroke-opacity:0.3;\" x=\"241.572449\" xlink:href=\"#mbc0cc0d91d\" y=\"116.076078\"/>\r\n     <use style=\"fill:#4c72b0;fill-opacity:0.3;stroke:#4c72b0;stroke-opacity:0.3;\" x=\"190.567152\" xlink:href=\"#mbc0cc0d91d\" y=\"168.093968\"/>\r\n     <use style=\"fill:#4c72b0;fill-opacity:0.3;stroke:#4c72b0;stroke-opacity:0.3;\" x=\"294.702302\" xlink:href=\"#mbc0cc0d91d\" y=\"36.217873\"/>\r\n     <use style=\"fill:#4c72b0;fill-opacity:0.3;stroke:#4c72b0;stroke-opacity:0.3;\" x=\"155.410577\" xlink:href=\"#mbc0cc0d91d\" y=\"140.062651\"/>\r\n     <use style=\"fill:#4c72b0;fill-opacity:0.3;stroke:#4c72b0;stroke-opacity:0.3;\" x=\"136.050495\" xlink:href=\"#mbc0cc0d91d\" y=\"145.791104\"/>\r\n     <use style=\"fill:#4c72b0;fill-opacity:0.3;stroke:#4c72b0;stroke-opacity:0.3;\" x=\"172.10517\" xlink:href=\"#mbc0cc0d91d\" y=\"148.880913\"/>\r\n     <use style=\"fill:#4c72b0;fill-opacity:0.3;stroke:#4c72b0;stroke-opacity:0.3;\" x=\"214.665488\" xlink:href=\"#mbc0cc0d91d\" y=\"116.410848\"/>\r\n     <use style=\"fill:#4c72b0;fill-opacity:0.3;stroke:#4c72b0;stroke-opacity:0.3;\" x=\"213.064146\" xlink:href=\"#mbc0cc0d91d\" y=\"134.578176\"/>\r\n     <use style=\"fill:#4c72b0;fill-opacity:0.3;stroke:#4c72b0;stroke-opacity:0.3;\" x=\"189.431345\" xlink:href=\"#mbc0cc0d91d\" y=\"133.454993\"/>\r\n     <use style=\"fill:#4c72b0;fill-opacity:0.3;stroke:#4c72b0;stroke-opacity:0.3;\" x=\"185.055053\" xlink:href=\"#mbc0cc0d91d\" y=\"129.573367\"/>\r\n     <use style=\"fill:#4c72b0;fill-opacity:0.3;stroke:#4c72b0;stroke-opacity:0.3;\" x=\"348.823537\" xlink:href=\"#mbc0cc0d91d\" y=\"17.083636\"/>\r\n     <use style=\"fill:#4c72b0;fill-opacity:0.3;stroke:#4c72b0;stroke-opacity:0.3;\" x=\"211.66677\" xlink:href=\"#mbc0cc0d91d\" y=\"114.235489\"/>\r\n     <use style=\"fill:#4c72b0;fill-opacity:0.3;stroke:#4c72b0;stroke-opacity:0.3;\" x=\"185.383944\" xlink:href=\"#mbc0cc0d91d\" y=\"128.810761\"/>\r\n     <use style=\"fill:#4c72b0;fill-opacity:0.3;stroke:#4c72b0;stroke-opacity:0.3;\" x=\"121.181926\" xlink:href=\"#mbc0cc0d91d\" y=\"182.252198\"/>\r\n     <use style=\"fill:#4c72b0;fill-opacity:0.3;stroke:#4c72b0;stroke-opacity:0.3;\" x=\"254.626106\" xlink:href=\"#mbc0cc0d91d\" y=\"110.206848\"/>\r\n     <use style=\"fill:#4c72b0;fill-opacity:0.3;stroke:#4c72b0;stroke-opacity:0.3;\" x=\"263.351444\" xlink:href=\"#mbc0cc0d91d\" y=\"58.844001\"/>\r\n     <use style=\"fill:#4c72b0;fill-opacity:0.3;stroke:#4c72b0;stroke-opacity:0.3;\" x=\"118.471065\" xlink:href=\"#mbc0cc0d91d\" y=\"159.145228\"/>\r\n     <use style=\"fill:#4c72b0;fill-opacity:0.3;stroke:#4c72b0;stroke-opacity:0.3;\" x=\"253.524135\" xlink:href=\"#mbc0cc0d91d\" y=\"84.385615\"/>\r\n    </g>\r\n   </g>\r\n   <g id=\"PathCollection_2\"/>\r\n   <g id=\"patch_3\">\r\n    <path d=\"M 29.241719 224.64 \r\nL 29.241719 7.2 \r\n\" style=\"fill:none;stroke:#ffffff;stroke-linecap:square;stroke-linejoin:miter;stroke-width:1.25;\"/>\r\n   </g>\r\n   <g id=\"patch_4\">\r\n    <path d=\"M 364.041719 224.64 \r\nL 364.041719 7.2 \r\n\" style=\"fill:none;stroke:#ffffff;stroke-linecap:square;stroke-linejoin:miter;stroke-width:1.25;\"/>\r\n   </g>\r\n   <g id=\"patch_5\">\r\n    <path d=\"M 29.241719 224.64 \r\nL 364.041719 224.64 \r\n\" style=\"fill:none;stroke:#ffffff;stroke-linecap:square;stroke-linejoin:miter;stroke-width:1.25;\"/>\r\n   </g>\r\n   <g id=\"patch_6\">\r\n    <path d=\"M 29.241719 7.2 \r\nL 364.041719 7.2 \r\n\" style=\"fill:none;stroke:#ffffff;stroke-linecap:square;stroke-linejoin:miter;stroke-width:1.25;\"/>\r\n   </g>\r\n  </g>\r\n </g>\r\n <defs>\r\n  <clipPath id=\"pdb3c10e5dc\">\r\n   <rect height=\"217.44\" width=\"334.8\" x=\"29.241719\" y=\"7.2\"/>\r\n  </clipPath>\r\n </defs>\r\n</svg>\r\n",
      "image/png": "[encoded data removed]"
     },
     "metadata": {}
    }
   ],
   "source": [
    "plt.scatter(X[:, 0], X[:, 1], alpha=0.3)\n",
    "plt.scatter(selection[:, 0], selection[:, 1], facecolor='none', s=200);"
   ]
  },
  {
   "cell_type": "code",
   "execution_count": null,
   "metadata": {},
   "outputs": [],
   "source": []
  }
 ]
}